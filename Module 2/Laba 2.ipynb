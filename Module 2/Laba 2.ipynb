{
 "cells": [
  {
   "cell_type": "markdown",
   "id": "67bf4dc9",
   "metadata": {},
   "source": [
    "# Интегрирование в библиотеке Sympy\n"
   ]
  },
  {
   "cell_type": "code",
   "execution_count": 33,
   "id": "bd35dd7a",
   "metadata": {},
   "outputs": [],
   "source": [
    "from sympy import symbols, integrate, oo, sin, cos, log, exp, Integral, pi"
   ]
  },
  {
   "cell_type": "code",
   "execution_count": 2,
   "id": "6647f8f3",
   "metadata": {},
   "outputs": [],
   "source": [
    "x, y, a, b = symbols('x y a b') "
   ]
  },
  {
   "cell_type": "code",
   "execution_count": 5,
   "id": "f63c6047",
   "metadata": {},
   "outputs": [
    {
     "data": {
      "text/latex": [
       "$\\displaystyle \\frac{1}{x}$"
      ],
      "text/plain": [
       "1/x"
      ]
     },
     "execution_count": 5,
     "metadata": {},
     "output_type": "execute_result"
    }
   ],
   "source": [
    "f1 = 1 / x\n",
    "f1"
   ]
  },
  {
   "cell_type": "markdown",
   "id": "b7067934",
   "metadata": {},
   "source": [
    "## Вычисление неопределённых интегралов"
   ]
  },
  {
   "cell_type": "code",
   "execution_count": 9,
   "id": "a38f21a3",
   "metadata": {},
   "outputs": [
    {
     "data": {
      "text/latex": [
       "$\\displaystyle \\log{\\left(x \\right)}$"
      ],
      "text/plain": [
       "log(x)"
      ]
     },
     "execution_count": 9,
     "metadata": {},
     "output_type": "execute_result"
    }
   ],
   "source": [
    "integrate(f1, x)"
   ]
  },
  {
   "cell_type": "code",
   "execution_count": 11,
   "id": "9bd7574d",
   "metadata": {},
   "outputs": [
    {
     "data": {
      "text/latex": [
       "$\\displaystyle \\frac{a x^{3}}{3} + \\frac{b x^{2}}{2} + x$"
      ],
      "text/plain": [
       "a*x**3/3 + b*x**2/2 + x"
      ]
     },
     "execution_count": 11,
     "metadata": {},
     "output_type": "execute_result"
    }
   ],
   "source": [
    "y = integrate(a * x ** 2 + b * x + 1, x)\n",
    "y"
   ]
  },
  {
   "cell_type": "code",
   "execution_count": 14,
   "id": "e33db57d",
   "metadata": {},
   "outputs": [
    {
     "data": {
      "text/latex": [
       "$\\displaystyle \\int\\limits_{0}^{\\infty} x^{x}\\, dx$"
      ],
      "text/plain": [
       "Integral(x**x, (x, 0, oo))"
      ]
     },
     "execution_count": 14,
     "metadata": {},
     "output_type": "execute_result"
    }
   ],
   "source": [
    "integrate(x ** x, (x, 0, oo))"
   ]
  },
  {
   "cell_type": "code",
   "execution_count": 20,
   "id": "7879dd09",
   "metadata": {},
   "outputs": [
    {
     "data": {
      "text/latex": [
       "$\\displaystyle \\int \\left(\\frac{x}{5} + \\sin{\\left(4 x \\right)} \\cos{\\left(x \\right)}\\right)\\, dx$"
      ],
      "text/plain": [
       "Integral(x/5 + sin(4*x)*cos(x), x)"
      ]
     },
     "execution_count": 20,
     "metadata": {},
     "output_type": "execute_result"
    }
   ],
   "source": [
    "I1 = Integral(x / 5 + sin(4 * x) * cos(x), x)\n",
    "I1"
   ]
  },
  {
   "cell_type": "code",
   "execution_count": 23,
   "id": "a0037d50",
   "metadata": {},
   "outputs": [
    {
     "data": {
      "text/latex": [
       "$\\displaystyle \\frac{x^{2}}{10} - \\frac{\\sin{\\left(x \\right)} \\sin{\\left(4 x \\right)}}{15} - \\frac{4 \\cos{\\left(x \\right)} \\cos{\\left(4 x \\right)}}{15}$"
      ],
      "text/plain": [
       "x**2/10 - sin(x)*sin(4*x)/15 - 4*cos(x)*cos(4*x)/15"
      ]
     },
     "execution_count": 23,
     "metadata": {},
     "output_type": "execute_result"
    }
   ],
   "source": [
    "I1.doit()"
   ]
  },
  {
   "cell_type": "code",
   "execution_count": 29,
   "id": "b289d583",
   "metadata": {},
   "outputs": [
    {
     "data": {
      "text/latex": [
       "$\\displaystyle 2$"
      ],
      "text/plain": [
       "2"
      ]
     },
     "execution_count": 29,
     "metadata": {},
     "output_type": "execute_result"
    }
   ],
   "source": [
    "integrate(sin(x), (x, 0, pi))"
   ]
  },
  {
   "cell_type": "code",
   "execution_count": 34,
   "id": "923035be",
   "metadata": {},
   "outputs": [
    {
     "data": {
      "text/latex": [
       "$\\displaystyle 1$"
      ],
      "text/plain": [
       "1"
      ]
     },
     "execution_count": 34,
     "metadata": {},
     "output_type": "execute_result"
    }
   ],
   "source": [
    "integrate(exp(-x), (x, 0, oo))"
   ]
  },
  {
   "cell_type": "code",
   "execution_count": 41,
   "id": "fd4995fe",
   "metadata": {},
   "outputs": [
    {
     "data": {
      "text/latex": [
       "$\\displaystyle \\frac{x^{2} y^{2}}{4}$"
      ],
      "text/plain": [
       "x**2*y**2/4"
      ]
     },
     "execution_count": 41,
     "metadata": {},
     "output_type": "execute_result"
    }
   ],
   "source": [
    "y = symbols('y')\n",
    "integrate(x * y, x, y)"
   ]
  },
  {
   "cell_type": "code",
   "execution_count": 48,
   "id": "85547922",
   "metadata": {},
   "outputs": [],
   "source": [
    "from scipy.integrate import quad, dblquad, tplquad, trapz, cumtrapz, simps\n",
    "import numpy as np"
   ]
  },
  {
   "cell_type": "code",
   "execution_count": 54,
   "id": "c36870d1",
   "metadata": {},
   "outputs": [
    {
     "data": {
      "text/plain": [
       "2.0"
      ]
     },
     "execution_count": 54,
     "metadata": {},
     "output_type": "execute_result"
    }
   ],
   "source": [
    "def f(x):\n",
    "    return np.sin(x)\n",
    "\n",
    "l, u = 0, np.pi\n",
    "I2, acc = quad(f, l, u)\n",
    "I2"
   ]
  },
  {
   "cell_type": "code",
   "execution_count": 59,
   "id": "60f10d1b",
   "metadata": {},
   "outputs": [
    {
     "data": {
      "text/plain": [
       "2.166666666666667"
      ]
     },
     "execution_count": 59,
     "metadata": {},
     "output_type": "execute_result"
    }
   ],
   "source": [
    "def f1(x, a, b):\n",
    "    return a * x ** 2 + b * x + 1\n",
    "\n",
    "I3,_ = quad(f1, 0, 1, args=(2, 1))\n",
    "I3"
   ]
  },
  {
   "cell_type": "code",
   "execution_count": 1,
   "id": "d88580c5",
   "metadata": {},
   "outputs": [
    {
     "ename": "NameError",
     "evalue": "name 'quad' is not defined",
     "output_type": "error",
     "traceback": [
      "\u001b[1;31m---------------------------------------------------------------------------\u001b[0m",
      "\u001b[1;31mNameError\u001b[0m                                 Traceback (most recent call last)",
      "\u001b[1;32m<ipython-input-1-ecdd44c5bb1c>\u001b[0m in \u001b[0;36m<module>\u001b[1;34m\u001b[0m\n\u001b[1;32m----> 1\u001b[1;33m \u001b[0mI4\u001b[0m \u001b[1;33m=\u001b[0m \u001b[0mquad\u001b[0m\u001b[1;33m(\u001b[0m\u001b[1;32mlambda\u001b[0m \u001b[0mx\u001b[0m\u001b[1;33m:\u001b[0m \u001b[0mnp\u001b[0m\u001b[1;33m.\u001b[0m\u001b[0mexp\u001b[0m\u001b[1;33m(\u001b[0m\u001b[1;33m-\u001b[0m\u001b[0mx\u001b[0m\u001b[1;33m)\u001b[0m\u001b[1;33m,\u001b[0m \u001b[1;36m0\u001b[0m\u001b[1;33m,\u001b[0m \u001b[0mnp\u001b[0m\u001b[1;33m.\u001b[0m\u001b[0minf\u001b[0m\u001b[1;33m)\u001b[0m\u001b[1;33m\u001b[0m\u001b[1;33m\u001b[0m\u001b[0m\n\u001b[0m\u001b[0;32m      2\u001b[0m \u001b[0mI4\u001b[0m\u001b[1;33m\u001b[0m\u001b[1;33m\u001b[0m\u001b[0m\n",
      "\u001b[1;31mNameError\u001b[0m: name 'quad' is not defined"
     ]
    }
   ],
   "source": [
    "I4 = quad(lambda x: np.exp(-x), 0, np.inf)\n",
    "I4"
   ]
  },
  {
   "cell_type": "code",
   "execution_count": 3,
   "id": "a2efcf43",
   "metadata": {},
   "outputs": [
    {
     "ename": "NameError",
     "evalue": "name 'np' is not defined",
     "output_type": "error",
     "traceback": [
      "\u001b[1;31m---------------------------------------------------------------------------\u001b[0m",
      "\u001b[1;31mNameError\u001b[0m                                 Traceback (most recent call last)",
      "\u001b[1;32m<ipython-input-3-5f1e50d94284>\u001b[0m in \u001b[0;36m<module>\u001b[1;34m\u001b[0m\n\u001b[0;32m     10\u001b[0m \u001b[1;31m#trapz(lambda x : x, 0, 1, 1)\u001b[0m\u001b[1;33m\u001b[0m\u001b[1;33m\u001b[0m\u001b[1;33m\u001b[0m\u001b[0m\n\u001b[0;32m     11\u001b[0m \u001b[1;31m#trapz(lambda x : np.exp(-x**2), -np.inf, np.inf, 10000)\u001b[0m\u001b[1;33m\u001b[0m\u001b[1;33m\u001b[0m\u001b[1;33m\u001b[0m\u001b[0m\n\u001b[1;32m---> 12\u001b[1;33m \u001b[0mtrapz\u001b[0m\u001b[1;33m(\u001b[0m\u001b[1;32mlambda\u001b[0m \u001b[0mx\u001b[0m \u001b[1;33m:\u001b[0m \u001b[0mx\u001b[0m \u001b[1;33m/\u001b[0m \u001b[1;33m(\u001b[0m\u001b[1;36m3\u001b[0m \u001b[1;33m*\u001b[0m \u001b[0mx\u001b[0m \u001b[1;33m+\u001b[0m \u001b[1;36m4\u001b[0m\u001b[1;33m)\u001b[0m \u001b[1;33m**\u001b[0m \u001b[1;36m2\u001b[0m\u001b[1;33m,\u001b[0m \u001b[1;33m-\u001b[0m\u001b[1;36m1\u001b[0m\u001b[1;33m,\u001b[0m \u001b[1;36m1\u001b[0m\u001b[1;33m,\u001b[0m \u001b[1;36m1000\u001b[0m\u001b[1;33m)\u001b[0m\u001b[1;33m\u001b[0m\u001b[1;33m\u001b[0m\u001b[0m\n\u001b[0m",
      "\u001b[1;32m<ipython-input-3-5f1e50d94284>\u001b[0m in \u001b[0;36mtrapz\u001b[1;34m(fun, a, b, n)\u001b[0m\n\u001b[0;32m      1\u001b[0m \u001b[1;32mdef\u001b[0m \u001b[0mtrapz\u001b[0m\u001b[1;33m(\u001b[0m\u001b[0mfun\u001b[0m\u001b[1;33m,\u001b[0m \u001b[0ma\u001b[0m\u001b[1;33m,\u001b[0m \u001b[0mb\u001b[0m\u001b[1;33m,\u001b[0m \u001b[0mn\u001b[0m \u001b[1;33m=\u001b[0m \u001b[1;36m100\u001b[0m\u001b[1;33m)\u001b[0m\u001b[1;33m:\u001b[0m     \u001b[1;31m# n - количество подынтервалов\u001b[0m\u001b[1;33m\u001b[0m\u001b[1;33m\u001b[0m\u001b[0m\n\u001b[1;32m----> 2\u001b[1;33m     \u001b[0mx\u001b[0m \u001b[1;33m=\u001b[0m \u001b[0mnp\u001b[0m\u001b[1;33m.\u001b[0m\u001b[0mlinspace\u001b[0m\u001b[1;33m(\u001b[0m\u001b[0ma\u001b[0m\u001b[1;33m,\u001b[0m \u001b[0mb\u001b[0m\u001b[1;33m,\u001b[0m \u001b[0mn\u001b[0m \u001b[1;33m+\u001b[0m \u001b[1;36m1\u001b[0m\u001b[1;33m)\u001b[0m   \u001b[1;31m# n + 1 точка создаёт n подынтервалов\u001b[0m\u001b[1;33m\u001b[0m\u001b[1;33m\u001b[0m\u001b[0m\n\u001b[0m\u001b[0;32m      3\u001b[0m     \u001b[0my\u001b[0m \u001b[1;33m=\u001b[0m \u001b[0mfun\u001b[0m\u001b[1;33m(\u001b[0m\u001b[0mx\u001b[0m\u001b[1;33m)\u001b[0m\u001b[1;33m\u001b[0m\u001b[1;33m\u001b[0m\u001b[0m\n\u001b[0;32m      4\u001b[0m     \u001b[0my_right\u001b[0m \u001b[1;33m=\u001b[0m \u001b[0my\u001b[0m\u001b[1;33m[\u001b[0m\u001b[1;36m1\u001b[0m\u001b[1;33m:\u001b[0m\u001b[1;33m]\u001b[0m                \u001b[1;31m# правый конец\u001b[0m\u001b[1;33m\u001b[0m\u001b[1;33m\u001b[0m\u001b[0m\n\u001b[0;32m      5\u001b[0m     \u001b[0my_left\u001b[0m \u001b[1;33m=\u001b[0m \u001b[0my\u001b[0m\u001b[1;33m[\u001b[0m\u001b[1;33m:\u001b[0m\u001b[1;33m-\u001b[0m\u001b[1;36m1\u001b[0m\u001b[1;33m]\u001b[0m                \u001b[1;31m# левый конец\u001b[0m\u001b[1;33m\u001b[0m\u001b[1;33m\u001b[0m\u001b[0m\n",
      "\u001b[1;31mNameError\u001b[0m: name 'np' is not defined"
     ]
    }
   ],
   "source": [
    "def trapz(fun, a, b, n = 100):     # n - количество подынтервалов\n",
    "    x = np.linspace(a, b, n + 1)   # n + 1 точка создаёт n подынтервалов\n",
    "    y = fun(x)\n",
    "    y_right = y[1:]                # правый конец\n",
    "    y_left = y[:-1]                # левый конец\n",
    "    step = (b - a) / n\n",
    "    T = (step / 2) * np.sum(y_right + y_left)\n",
    "    return T\n",
    "\n",
    "#trapz(lambda x : x, 0, 1, 1)\n",
    "#trapz(lambda x : np.exp(-x**2), -np.inf, np.inf, 10000)\n",
    "trapz(lambda x : x / (3 * x + 4) ** 2, -1, 1, 1000)"
   ]
  },
  {
   "cell_type": "code",
   "execution_count": 4,
   "id": "b0aae272",
   "metadata": {},
   "outputs": [
    {
     "data": {
      "text/plain": [
       "-0.16474014224044523"
      ]
     },
     "execution_count": 4,
     "metadata": {},
     "output_type": "execute_result"
    }
   ],
   "source": [
    "import numpy as np\n",
    "\n",
    "def my_simps(fun, a, b, n = 100):\n",
    "    if n % 2 == 1:\n",
    "        raise ValueError(\"n должен быть чётным.\")\n",
    "    step = (b - a) / n\n",
    "    x = np.linspace(a, b, n + 1)\n",
    "    y = fun(x)\n",
    "    S = step / 3 * np.sum(y[0:-1:2] + 4 * y[1::2] + y[2::2])\n",
    "    return S\n",
    "\n",
    "#my_simps(lambda x : np.exp(-x ** 2), -10, 10, 1000)\n",
    "my_simps(lambda x : x / (3 * x + 4) ** 2, -1, 1, 1000)"
   ]
  },
  {
   "cell_type": "code",
   "execution_count": 7,
   "id": "9ec47ec3",
   "metadata": {},
   "outputs": [
    {
     "data": {
      "text/plain": [
       "0.7853921568627451"
      ]
     },
     "execution_count": 7,
     "metadata": {},
     "output_type": "execute_result"
    }
   ],
   "source": [
    "import numpy as np\n",
    "\n",
    "def my_simps(fun, a, b, n = 100):\n",
    "    if n % 2 == 1:\n",
    "        raise ValueError(\"n должен быть чётным.\")\n",
    "    step = (b - a) / n\n",
    "    x = np.linspace(a, b, n + 1)\n",
    "    y = fun(x)\n",
    "    S = step / 3 * np.sum(y[0:-1:2] + 4 * y[1::2] + y[2::2])\n",
    "    return S\n",
    "\n",
    "#my_simps(lambda x : np.exp(-x ** 2), -10, 10, 1000)\n",
    "#my_simps(lambda x : x / (3 * x + 4) ** 2, -1, 1, 1000)\n",
    "my_simps(lambda x: (1 / (x ** 2 + 4)), -2, 2, 8)"
   ]
  },
  {
   "cell_type": "code",
   "execution_count": null,
   "id": "945de9dc",
   "metadata": {},
   "outputs": [],
   "source": [
    "import math\n",
    "import numpy as np\n",
    "\n",
    "\n",
    "f = lambda x: 1 / (x ** 2 + 4)\n",
    "#f = lambda x: x / (3 * x + 4) ** 2\n",
    "#f = lambda x: math.exp(-x **2)\n",
    "#f = lambda x: math.exp(x)\n",
    "#a, b = -10, 10\n",
    "a, b = -2, 2\n",
    "\n",
    "def Trap(n, a, b):\n",
    "    h = (b - a) / n\n",
    "    sum = 0\n",
    "    for i in range(n):\n",
    "        sum += 2 * f(a + i * h)\n",
    "    Trap = (h / 2) * (f(a) + sum + f(b))\n",
    "    return Trap\n",
    "\n",
    "# Инициализация\n",
    "I = np.zeros((10, 10))\n",
    "ea, n, i = 100, 8, 1\n",
    "I[1, 1] = Trap(n, a, b)\n",
    "\n",
    "print('Итер-я \\t Приближение \\t\\t Погрешность \\t\\t Интеграл')\n",
    "\n",
    "while ea > 0.0001:\n",
    "    n = 2 ** i\n",
    "    \n",
    "    # Следующее интегральное приближение\n",
    "    I[i + 1, 1] = Trap(n, a, b)\n",
    "    \n",
    "    # Интегрирование методом Ромберга\n",
    "    for k in range(2, i + 2):\n",
    "        j = 2 + i - k\n",
    "        I[j, k] = (4 ** (k - 1) * I[j + 1, k - 1] - I[j, k - 1]) / (4 ** (k - 1) - 1)\n",
    "    \n",
    "    # Вычисление приближения и истинной ошибки \n",
    "    ea = abs((I[1, i + 1] - I[2, i]) / I[1, i + 1] * 100)\n",
    "    et = abs((1.71828 - I[1, i + 1]) / 1.7182) * 100\n",
    "    \n",
    "    print(f'#{i} \\t {ea} \\t {et} \\t {I[1, i + 1]}')\n",
    "    \n",
    "    i += 1"
   ]
  }
 ],
 "metadata": {
  "kernelspec": {
   "display_name": "Python 3",
   "language": "python",
   "name": "python3"
  },
  "language_info": {
   "codemirror_mode": {
    "name": "ipython",
    "version": 3
   },
   "file_extension": ".py",
   "mimetype": "text/x-python",
   "name": "python",
   "nbconvert_exporter": "python",
   "pygments_lexer": "ipython3",
   "version": "3.8.8"
  }
 },
 "nbformat": 4,
 "nbformat_minor": 5
}
