{
 "cells": [
  {
   "cell_type": "code",
   "execution_count": 1,
   "metadata": {},
   "outputs": [],
   "source": [
    "import numpy as np\n",
    "import matplotlib.pyplot as plt"
   ]
  },
  {
   "cell_type": "markdown",
   "metadata": {},
   "source": [
    "## Численное дифференцирование"
   ]
  },
  {
   "cell_type": "code",
   "execution_count": 2,
   "metadata": {},
   "outputs": [
    {
     "data": {
      "text/plain": [
       "(array([0.  , 0.12, 0.24, 0.36, 0.48, 0.6 , 0.72, 0.84, 0.96, 1.08, 1.2 ,\n",
       "        1.32, 1.44, 1.56, 1.68, 1.8 , 1.92, 2.04, 2.16, 2.28, 2.4 , 2.52,\n",
       "        2.64, 2.76, 2.88, 3.  , 3.12, 3.24, 3.36, 3.48, 3.6 , 3.72, 3.84,\n",
       "        3.96, 4.08, 4.2 , 4.32, 4.44, 4.56, 4.68, 4.8 , 4.92, 5.04, 5.16,\n",
       "        5.28, 5.4 , 5.52, 5.64, 5.76, 5.88, 6.  ]),\n",
       " array([ 0.        ,  0.11971221,  0.23770263,  0.35227423,  0.46177918,\n",
       "         0.56464247,  0.65938467,  0.74464312,  0.81919157,  0.88195781,\n",
       "         0.93203909,  0.9687151 ,  0.99145835,  0.99994172,  0.9940432 ,\n",
       "         0.97384763,  0.93964547,  0.89192865,  0.83138346,  0.75888071,\n",
       "         0.67546318,  0.58233065,  0.48082261,  0.37239904,  0.25861935,\n",
       "         0.14112001,  0.02159098, -0.09824859, -0.21667508, -0.33198519,\n",
       "        -0.44252044, -0.54669105, -0.64299874, -0.73005836, -0.80661775,\n",
       "        -0.87157577, -0.92399816, -0.96313093, -0.98841125, -0.99947552,\n",
       "        -0.99616461, -0.97852613, -0.94681378, -0.90148366, -0.84318774,\n",
       "        -0.77276449, -0.69122677, -0.59974733, -0.49964188, -0.39235022,\n",
       "        -0.2794155 ]))"
      ]
     },
     "execution_count": 2,
     "metadata": {},
     "output_type": "execute_result"
    }
   ],
   "source": [
    "a, b, N = 0, 6, 50\n",
    "x = np.linspace(a, b, N + 1)\n",
    "y = np.sin(x)\n",
    "x, y"
   ]
  },
  {
   "cell_type": "code",
   "execution_count": 3,
   "metadata": {},
   "outputs": [
    {
     "data": {
      "image/png": "[encoded data removed]",
      "text/plain": [
       "<Figure size 432x288 with 1 Axes>"
      ]
     },
     "metadata": {
      "needs_background": "light"
     },
     "output_type": "display_data"
    }
   ],
   "source": [
    "# построим график данной функции\n",
    "plt.plot(x, y)\n",
    "plt.grid()\n",
    "plt.show()\n"
   ]
  },
  {
   "cell_type": "markdown",
   "metadata": {},
   "source": [
    "# Левая разность: $\\frac{y_{i}-y_{i-1}}{h}$\n",
    "# Правая разность: $\\frac{y_{i+1}-y_{i}}{h}$\n",
    "# Центральная разность: $\\frac{y_{i+1}-y_{i-1}}{2h}$"
   ]
  },
  {
   "cell_type": "code",
   "execution_count": 6,
   "metadata": {},
   "outputs": [
    {
     "data": {
      "text/plain": [
       "array([1.    , 1.1052, 1.2214, 1.3499, 1.4918])"
      ]
     },
     "execution_count": 6,
     "metadata": {},
     "output_type": "execute_result"
    }
   ],
   "source": [
    "x = np.linspace(0, 0.4, 5)\n",
    "y = np.array([1.0, 1.1052, 1.2214, 1.3499, 1.4918])\n",
    "y"
   ]
  },
  {
   "cell_type": "code",
   "execution_count": 9,
   "metadata": {},
   "outputs": [],
   "source": [
    "# Правая разность\n",
    "rdf = np.zeros(4)\n",
    "for i in range(4):\n",
    "    rdf[i] = (y[i+1]-y[i])/(x[i+1] - x[i])"
   ]
  },
  {
   "cell_type": "code",
   "execution_count": 15,
   "metadata": {},
   "outputs": [],
   "source": [
    "# Левая разность\n",
    "ldf = np.zeros(4)\n",
    "for i in range(1,5):\n",
    "    ldf[i-1] = (y[i]-y[i-1])/(x[i] - x[i-1])\n"
   ]
  },
  {
   "cell_type": "code",
   "execution_count": 16,
   "metadata": {},
   "outputs": [
    {
     "data": {
      "image/png": "[encoded data removed]",
      "text/plain": [
       "<Figure size 432x288 with 1 Axes>"
      ]
     },
     "metadata": {
      "needs_background": "light"
     },
     "output_type": "display_data"
    }
   ],
   "source": [
    "plt.plot(x[0:-1], rdf)\n",
    "plt.plot(x[1::], ldf)\n",
    "\n",
    "plt.show()"
   ]
  },
  {
   "cell_type": "markdown",
   "metadata": {},
   "source": [
    "## $F = \\int\\limits_{x_0}^{x_1}ydx$\n",
    "## $y =\\frac{x}{(3x+4)^2}, x_0=-1,\\,x_1 = 1, h_1=0.5, h_2 = 0.25$"
   ]
  },
  {
   "cell_type": "code",
   "execution_count": 30,
   "metadata": {},
   "outputs": [
    {
     "name": "stdout",
     "output_type": "stream",
     "text": [
      "i= 0 x= -1.0 y= -1.0 F= 0.0\n",
      "i= 1 x= -0.5 y= -0.08 F= -0.12244897959183673\n",
      "i= 2 x= 0.0 y= 0.0 F= -0.13428329911846396\n",
      "i= 3 x= 0.5 y= 0.01652892561983471 F= -0.1287431329134778\n",
      "i= 4 x= 1.0 y= 0.02040816326530612 F= -0.1191431329134778\n"
     ]
    }
   ],
   "source": [
    "f = lambda x: x/(3*x+4)**2 \n",
    "x = np.linspace(-1, 1, 5)\n",
    "F = np.zeros(len(x))\n",
    "h1 = 0.5\n",
    "for i in range(len(x)-1):\n",
    "    F[i+1] =F[i] + h1*f((x[i] + x[i+1])/2)\n",
    "    \n",
    "for i in range(len(x)):\n",
    "    print(\"i=\", i, \"x=\", x[i], 'y=', f(x[i]), \"F=\", F[i])\n",
    "\n",
    "    "
   ]
  },
  {
   "cell_type": "code",
   "execution_count": 32,
   "metadata": {},
   "outputs": [
    {
     "name": "stdout",
     "output_type": "stream",
     "text": [
      "i= 0 x= -1.0 y= -1.0 F= 0.0\n",
      "i= 1 x= -0.75 y= -0.24489795918367346 F= -0.11570247933884298\n",
      "i= 2 x= -0.5 y= -0.08 F= -0.15030455546341046\n",
      "i= 3 x= -0.25 y= -0.023668639053254437 F= -0.16164671047286225\n",
      "i= 4 x= 0.0 y= 0.0 F= -0.16402483175704774\n",
      "i= 5 x= 0.25 y= 0.0110803324099723 F= -0.16239217869582326\n",
      "i= 6 x= 0.5 y= 0.01652892561983471 F= -0.15882287471010048\n",
      "i= 7 x= 0.75 y= 0.0192 F= -0.15429593944527475\n",
      "i= 8 x= 1.0 y= 0.02040816326530612 F= -0.14931195938119501\n"
     ]
    }
   ],
   "source": [
    "h2 = 0.25\n",
    "x2 = np.linspace(-1, 1, 9)\n",
    "F2 = np.zeros(len(x2))\n",
    "for i in range(len(x2)-1):\n",
    "    F2[i+1]= F2[i]+h2*f((x2[i] + x2[i+1])/2)\n",
    "\n",
    "\n",
    "for i in range(len(x2)):\n",
    "    print(\"i=\", i, \"x=\", x2[i], 'y=', f(x2[i]), \"F=\", F2[i])\n",
    "\n",
    "\n",
    "    "
   ]
  },
  {
   "cell_type": "markdown",
   "metadata": {},
   "source": [
    "# Уточнение численного интегрирования методом Рунге-Ромберга-Ричардсона:\n",
    "### Если интеграл посчитан на сетке с шагом $h$ и $F = F_h +O(h^p)$, а также посчитан на сетке с шагом $kh$ и $F=F_{kh} + O((kh)^p)$, то приближенное значение интеграла можно уточнить по формуле:\n",
    "\n",
    "# $$F =  \\int\\limits_{x_0}^{x_1}f(x)dx = F_h + \\frac{F_h-F_{kh}}{k^p-1} + O(h^{p+1})$$\n",
    "\n",
    "## Метод прямоугольников (средних): $O(h^2)$, остаточный член $R\\leq \\frac{b-a}{24}h^2M_2$\n",
    "## Метод трапеций: $O(h^2)$, остаточный член $R\\leq \\frac{b-a}{12}h^2M_2$\n",
    "## Метод Симпсона: $O(h^4)$, , остаточный член $R\\leq \\frac{b-a}{180}h^4M_4$,\n",
    "## где $M_2=\\max{|f''(x)|},\\;M_4=\\max{|f^{(4)}(x)|},\\; x\\in [a,b]$"
   ]
  },
  {
   "cell_type": "code",
   "execution_count": 50,
   "metadata": {},
   "outputs": [
    {
     "data": {
      "text/plain": [
       "(-0.1191431329134778, -0.14931195938119501)"
      ]
     },
     "execution_count": 50,
     "metadata": {},
     "output_type": "execute_result"
    }
   ],
   "source": [
    "F[-1], F2[-1] # F_h F_{kh}"
   ]
  },
  {
   "cell_type": "code",
   "execution_count": 49,
   "metadata": {},
   "outputs": [
    {
     "data": {
      "text/plain": [
       "-0.15936823487043408"
      ]
     },
     "execution_count": 49,
     "metadata": {},
     "output_type": "execute_result"
    }
   ],
   "source": [
    "# уточнённое значение интеграла\n",
    "F_corr = F2[-1] + (F2[-1] - F[-1])/((2)**2-1)\n",
    "F_corr"
   ]
  },
  {
   "cell_type": "code",
   "execution_count": 38,
   "metadata": {},
   "outputs": [
    {
     "data": {
      "text/latex": [
       "$\\displaystyle -0.16474$"
      ],
      "text/plain": [
       "-0.16474"
      ]
     },
     "execution_count": 38,
     "metadata": {},
     "output_type": "execute_result"
    }
   ],
   "source": [
    "# точное значение\n",
    "import sympy as sm\n",
    "x = sm.symbols('x')\n",
    "Fs = sm.integrate(x/(3*x+4)**2, (x, -1, 1))\n",
    "Fs.evalf(5)"
   ]
  },
  {
   "cell_type": "code",
   "execution_count": 46,
   "metadata": {},
   "outputs": [
    {
     "data": {
      "text/plain": [
       "-0.16474014216845734"
      ]
     },
     "execution_count": 46,
     "metadata": {},
     "output_type": "execute_result"
    }
   ],
   "source": [
    "# приближенное значение\n",
    "from scipy.integrate import quad\n",
    "Ff = quad(f, -1, 1)\n",
    "Ff[0]"
   ]
  },
  {
   "cell_type": "markdown",
   "metadata": {},
   "source": [
    "# Д/з 1. Вычислить свой интегал методами прямоугольков, трапеций и Симпсона для шагов $h1,\\;h_2$.\n",
    "# 2. Уточнить значение интеграла с помощью метода Рунге... \n",
    "# 3. Посчитать абсолютную погрещность вычисленного интеграла.\n",
    "# 4. Вычислить оценку остаточного члена, вычисляя производные разностными формулами."
   ]
  },
  {
   "cell_type": "code",
   "execution_count": null,
   "metadata": {},
   "outputs": [],
   "source": []
  }
 ],
 "metadata": {
  "kernelspec": {
   "display_name": "Python 3",
   "language": "python",
   "name": "python3"
  },
  "language_info": {
   "codemirror_mode": {
    "name": "ipython",
    "version": 3
   },
   "file_extension": ".py",
   "mimetype": "text/x-python",
   "name": "python",
   "nbconvert_exporter": "python",
   "pygments_lexer": "ipython3",
   "version": "3.8.5"
  }
 },
 "nbformat": 4,
 "nbformat_minor": 4
}
