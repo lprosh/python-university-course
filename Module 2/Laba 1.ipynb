{
 "cells": [
  {
   "cell_type": "code",
   "execution_count": 2,
   "metadata": {},
   "outputs": [],
   "source": [
    "import numpy as np\n",
    "import matplotlib.pyplot as plt\n",
    "\n",
    "def f(x):\n",
    "    return np.sin(x) + np.exp(np.cos(x))"
   ]
  },
  {
   "cell_type": "code",
   "execution_count": 12,
   "metadata": {},
   "outputs": [
    {
     "data": {
      "text/plain": [
       "array([0.87505471, 0.95612987, 1.03882124, 1.12288641, 1.20806755,\n",
       "       1.2940926 , 1.38067653, 1.46752296, 1.55432591, 1.64077179,\n",
       "       1.72654165, 1.81131348, 1.89476476, 1.97657506, 2.05642881,\n",
       "       2.13401797, 2.20904486, 2.28122482, 2.35028885, 2.41598611,\n",
       "       2.47808626, 2.5363815 , 2.59068851, 2.64084996, 2.68673575,\n",
       "       2.728244  , 2.76530151, 2.79786406, 2.82591616, 2.84947058,\n",
       "       2.86856744, 2.88327306, 2.8936784 , 2.89989731, 2.90206454,\n",
       "       2.9003335 , 2.8948739 , 2.88586932, 2.87351458, 2.85801327,\n",
       "       2.83957513, 2.81841359, 2.79474337, 2.76877821, 2.74072873,\n",
       "       2.71080055, 2.6791925 , 2.64609511, 2.61168932, 2.57614539,\n",
       "       2.53962203, 2.5022658 , 2.46421064, 2.4255777 , 2.38647527,\n",
       "       2.34699892, 2.30723179, 2.26724506, 2.22709841, 2.18684076,\n",
       "       2.14651092, 2.10613838, 2.06574418, 2.02534175, 1.98493774,\n",
       "       1.94453295, 1.90412316, 1.86369997, 1.82325163, 1.78276381,\n",
       "       1.7422203 , 1.70160376, 1.6608963 , 1.62008011, 1.57913798,\n",
       "       1.53805375, 1.49681281, 1.45540244, 1.41381213, 1.37203389,\n",
       "       1.33006251, 1.2878957 , 1.24553433, 1.20298248, 1.16024761,\n",
       "       1.11734054, 1.07427558, 1.03107047, 0.98774642, 0.94432804,\n",
       "       0.90084334, 0.85732365, 0.81380356, 0.7703208 , 0.72691624,\n",
       "       0.68363371, 0.64051993, 0.59762441, 0.55499934, 0.51269949])"
      ]
     },
     "execution_count": 12,
     "metadata": {},
     "output_type": "execute_result"
    }
   ],
   "source": [
    "a, b, N = -1, 3, 100\n",
    "\n",
    "t = np.linspace(a, b, N)\n",
    "y = f(t)\n",
    "y"
   ]
  },
  {
   "cell_type": "code",
   "execution_count": 6,
   "metadata": {},
   "outputs": [
    {
     "data": {
      "text/plain": [
       "<function matplotlib.pyplot.show(close=None, block=None)>"
      ]
     },
     "execution_count": 6,
     "metadata": {},
     "output_type": "execute_result"
    },
    {
     "data": {
      "image/png": "[encoded data removed]",
      "text/plain": [
       "<Figure size 432x288 with 1 Axes>"
      ]
     },
     "metadata": {
      "needs_background": "light"
     },
     "output_type": "display_data"
    }
   ],
   "source": [
    "plt.plot(t, y, 'b--')\n",
    "plt.grid()\n",
    "plt.show"
   ]
  },
  {
   "cell_type": "code",
   "execution_count": 7,
   "metadata": {},
   "outputs": [],
   "source": [
    "import sympy as sm"
   ]
  },
  {
   "cell_type": "code",
   "execution_count": 8,
   "metadata": {},
   "outputs": [
    {
     "data": {
      "text/latex": [
       "$\\displaystyle \\sin{\\left(x + e^{\\cos{\\left(x \\right)}} \\right)}$"
      ],
      "text/plain": [
       "sin(x + exp(cos(x)))"
      ]
     },
     "execution_count": 8,
     "metadata": {},
     "output_type": "execute_result"
    }
   ],
   "source": [
    "x = sm.symbols('x')\n",
    "sf = sm.sin(x + sm.exp(sm.cos(x)))\n",
    "sf"
   ]
  },
  {
   "cell_type": "code",
   "execution_count": 9,
   "metadata": {},
   "outputs": [
    {
     "data": {
      "text/latex": [
       "$\\displaystyle - \\left(e^{\\cos{\\left(x \\right)}} \\sin{\\left(x \\right)} - 1\\right)^{2} \\sin{\\left(x + e^{\\cos{\\left(x \\right)}} \\right)} + \\left(\\sin^{2}{\\left(x \\right)} - \\cos{\\left(x \\right)}\\right) e^{\\cos{\\left(x \\right)}} \\cos{\\left(x + e^{\\cos{\\left(x \\right)}} \\right)}$"
      ],
      "text/plain": [
       "-(exp(cos(x))*sin(x) - 1)**2*sin(x + exp(cos(x))) + (sin(x)**2 - cos(x))*exp(cos(x))*cos(x + exp(cos(x)))"
      ]
     },
     "execution_count": 9,
     "metadata": {},
     "output_type": "execute_result"
    }
   ],
   "source": [
    "d2f = sm.diff(sf, x, 2)\n",
    "sm.simplify(d2f)"
   ]
  },
  {
   "cell_type": "code",
   "execution_count": 13,
   "metadata": {},
   "outputs": [
    {
     "data": {
      "text/plain": [
       "array([ 0.6567687 ,  0.72806411,  0.79240471,  0.84898661,  0.89713784,\n",
       "        0.93634121,  0.96625274,  0.98671414,  0.9977589 ,  0.99961119,\n",
       "        0.99267769,  0.97753265,  0.954897  ,  0.92561267,  0.89061347,\n",
       "        0.85089417,  0.80747934,  0.76139353,  0.71363399,  0.66514711,\n",
       "        0.61680917,  0.56941184,  0.52365248,  0.48012885,  0.43933793,\n",
       "        0.40167805,  0.36745367,  0.33688207,  0.31010117,  0.28717799,\n",
       "        0.2681171 ,  0.25286878,  0.24133661,  0.23338436,  0.22884214,\n",
       "        0.22751191,  0.2291723 ,  0.23358305,  0.24048907,  0.24962424,\n",
       "        0.26071507,  0.27348427,  0.2876542 ,  0.30295027,  0.3191041 ,\n",
       "        0.3358566 ,  0.35296059,  0.37018324,  0.387308  ,  0.40413605,\n",
       "        0.4204873 ,  0.4362009 ,  0.45113526,  0.4651676 ,  0.47819318,\n",
       "        0.49012418,  0.50088831,  0.51042733,  0.51869539,  0.52565741,\n",
       "        0.53128744,  0.53556716,  0.53848445,  0.54003212,  0.54020685,\n",
       "        0.53900824,  0.53643804,  0.53249964,  0.52719757,  0.52053725,\n",
       "        0.51252484,  0.50316716,  0.49247172,  0.48044685,  0.46710178,\n",
       "        0.45244692,  0.43649398,  0.41925622,  0.40074869,  0.3809884 ,\n",
       "        0.35999455,  0.33778868,  0.31439484,  0.28983974,  0.26415284,\n",
       "        0.23736643,  0.20951574,  0.18063894,  0.15077719,  0.11997465,\n",
       "        0.08827847,  0.05573878,  0.02240867, -0.01165583, -0.04639578,\n",
       "       -0.08174939, -0.11765198, -0.15403607, -0.19083136, -0.2279647 ])"
      ]
     },
     "execution_count": 13,
     "metadata": {},
     "output_type": "execute_result"
    }
   ],
   "source": [
    "ff = sm.lambdify(x, sf, 'numpy')\n",
    "ff2f = sm.lambdify(x, d2f, 'numpy')\n",
    "ff(t)\n"
   ]
  },
  {
   "cell_type": "code",
   "execution_count": 31,
   "metadata": {},
   "outputs": [
    {
     "data": {
      "application/javascript": [
       "/* Put everything inside the global mpl namespace */\n",
       "/* global mpl */\n",
       "window.mpl = {};\n",
       "\n",
       "mpl.get_websocket_type = function () {\n",
       "    if (typeof WebSocket !== 'undefined') {\n",
       "        return WebSocket;\n",
       "    } else if (typeof MozWebSocket !== 'undefined') {\n",
       "        return MozWebSocket;\n",
       "    } else {\n",
       "        alert(\n",
       "            'Your browser does not have WebSocket support. ' +\n",
       "                'Please try Chrome, Safari or Firefox ≥ 6. ' +\n",
       "                'Firefox 4 and 5 are also supported but you ' +\n",
       "                'have to enable WebSockets in about:config.'\n",
       "        );\n",
       "    }\n",
       "};\n",
       "\n",
       "mpl.figure = function (figure_id, websocket, ondownload, parent_element) {\n",
       "    this.id = figure_id;\n",
       "\n",
       "    this.ws = websocket;\n",
       "\n",
       "    this.supports_binary = this.ws.binaryType !== undefined;\n",
       "\n",
       "    if (!this.supports_binary) {\n",
       "        var warnings = document.getElementById('mpl-warnings');\n",
       "        if (warnings) {\n",
       "            warnings.style.display = 'block';\n",
       "            warnings.textContent =\n",
       "                'This browser does not support binary websocket messages. ' +\n",
       "                'Performance may be slow.';\n",
       "        }\n",
       "    }\n",
       "\n",
       "    this.imageObj = new Image();\n",
       "\n",
       "    this.context = undefined;\n",
       "    this.message = undefined;\n",
       "    this.canvas = undefined;\n",
       "    this.rubberband_canvas = undefined;\n",
       "    this.rubberband_context = undefined;\n",
       "    this.format_dropdown = undefined;\n",
       "\n",
       "    this.image_mode = 'full';\n",
       "\n",
       "    this.root = document.createElement('div');\n",
       "    this.root.setAttribute('style', 'display: inline-block');\n",
       "    this._root_extra_style(this.root);\n",
       "\n",
       "    parent_element.appendChild(this.root);\n",
       "\n",
       "    this._init_header(this);\n",
       "    this._init_canvas(this);\n",
       "    this._init_toolbar(this);\n",
       "\n",
       "    var fig = this;\n",
       "\n",
       "    this.waiting = false;\n",
       "\n",
       "    this.ws.onopen = function () {\n",
       "        fig.send_message('supports_binary', { value: fig.supports_binary });\n",
       "        fig.send_message('send_image_mode', {});\n",
       "        if (fig.ratio !== 1) {\n",
       "            fig.send_message('set_dpi_ratio', { dpi_ratio: fig.ratio });\n",
       "        }\n",
       "        fig.send_message('refresh', {});\n",
       "    };\n",
       "\n",
       "    this.imageObj.onload = function () {\n",
       "        if (fig.image_mode === 'full') {\n",
       "            // Full images could contain transparency (where diff images\n",
       "            // almost always do), so we need to clear the canvas so that\n",
       "            // there is no ghosting.\n",
       "            fig.context.clearRect(0, 0, fig.canvas.width, fig.canvas.height);\n",
       "        }\n",
       "        fig.context.drawImage(fig.imageObj, 0, 0);\n",
       "    };\n",
       "\n",
       "    this.imageObj.onunload = function () {\n",
       "        fig.ws.close();\n",
       "    };\n",
       "\n",
       "    this.ws.onmessage = this._make_on_message_function(this);\n",
       "\n",
       "    this.ondownload = ondownload;\n",
       "};\n",
       "\n",
       "mpl.figure.prototype._init_header = function () {\n",
       "    var titlebar = document.createElement('div');\n",
       "    titlebar.classList =\n",
       "        'ui-dialog-titlebar ui-widget-header ui-corner-all ui-helper-clearfix';\n",
       "    var titletext = document.createElement('div');\n",
       "    titletext.classList = 'ui-dialog-title';\n",
       "    titletext.setAttribute(\n",
       "        'style',\n",
       "        'width: 100%; text-align: center; padding: 3px;'\n",
       "    );\n",
       "    titlebar.appendChild(titletext);\n",
       "    this.root.appendChild(titlebar);\n",
       "    this.header = titletext;\n",
       "};\n",
       "\n",
       "mpl.figure.prototype._canvas_extra_style = function (_canvas_div) {};\n",
       "\n",
       "mpl.figure.prototype._root_extra_style = function (_canvas_div) {};\n",
       "\n",
       "mpl.figure.prototype._init_canvas = function () {\n",
       "    var fig = this;\n",
       "\n",
       "    var canvas_div = (this.canvas_div = document.createElement('div'));\n",
       "    canvas_div.setAttribute(\n",
       "        'style',\n",
       "        'border: 1px solid #ddd;' +\n",
       "            'box-sizing: content-box;' +\n",
       "            'clear: both;' +\n",
       "            'min-height: 1px;' +\n",
       "            'min-width: 1px;' +\n",
       "            'outline: 0;' +\n",
       "            'overflow: hidden;' +\n",
       "            'position: relative;' +\n",
       "            'resize: both;'\n",
       "    );\n",
       "\n",
       "    function on_keyboard_event_closure(name) {\n",
       "        return function (event) {\n",
       "            return fig.key_event(event, name);\n",
       "        };\n",
       "    }\n",
       "\n",
       "    canvas_div.addEventListener(\n",
       "        'keydown',\n",
       "        on_keyboard_event_closure('key_press')\n",
       "    );\n",
       "    canvas_div.addEventListener(\n",
       "        'keyup',\n",
       "        on_keyboard_event_closure('key_release')\n",
       "    );\n",
       "\n",
       "    this._canvas_extra_style(canvas_div);\n",
       "    this.root.appendChild(canvas_div);\n",
       "\n",
       "    var canvas = (this.canvas = document.createElement('canvas'));\n",
       "    canvas.classList.add('mpl-canvas');\n",
       "    canvas.setAttribute('style', 'box-sizing: content-box;');\n",
       "\n",
       "    this.context = canvas.getContext('2d');\n",
       "\n",
       "    var backingStore =\n",
       "        this.context.backingStorePixelRatio ||\n",
       "        this.context.webkitBackingStorePixelRatio ||\n",
       "        this.context.mozBackingStorePixelRatio ||\n",
       "        this.context.msBackingStorePixelRatio ||\n",
       "        this.context.oBackingStorePixelRatio ||\n",
       "        this.context.backingStorePixelRatio ||\n",
       "        1;\n",
       "\n",
       "    this.ratio = (window.devicePixelRatio || 1) / backingStore;\n",
       "\n",
       "    var rubberband_canvas = (this.rubberband_canvas = document.createElement(\n",
       "        'canvas'\n",
       "    ));\n",
       "    rubberband_canvas.setAttribute(\n",
       "        'style',\n",
       "        'box-sizing: content-box; position: absolute; left: 0; top: 0; z-index: 1;'\n",
       "    );\n",
       "\n",
       "    // Apply a ponyfill if ResizeObserver is not implemented by browser.\n",
       "    if (this.ResizeObserver === undefined) {\n",
       "        if (window.ResizeObserver !== undefined) {\n",
       "            this.ResizeObserver = window.ResizeObserver;\n",
       "        } else {\n",
       "            var obs = _JSXTOOLS_RESIZE_OBSERVER({});\n",
       "            this.ResizeObserver = obs.ResizeObserver;\n",
       "        }\n",
       "    }\n",
       "\n",
       "    this.resizeObserverInstance = new this.ResizeObserver(function (entries) {\n",
       "        var nentries = entries.length;\n",
       "        for (var i = 0; i < nentries; i++) {\n",
       "            var entry = entries[i];\n",
       "            var width, height;\n",
       "            if (entry.contentBoxSize) {\n",
       "                if (entry.contentBoxSize instanceof Array) {\n",
       "                    // Chrome 84 implements new version of spec.\n",
       "                    width = entry.contentBoxSize[0].inlineSize;\n",
       "                    height = entry.contentBoxSize[0].blockSize;\n",
       "                } else {\n",
       "                    // Firefox implements old version of spec.\n",
       "                    width = entry.contentBoxSize.inlineSize;\n",
       "                    height = entry.contentBoxSize.blockSize;\n",
       "                }\n",
       "            } else {\n",
       "                // Chrome <84 implements even older version of spec.\n",
       "                width = entry.contentRect.width;\n",
       "                height = entry.contentRect.height;\n",
       "            }\n",
       "\n",
       "            // Keep the size of the canvas and rubber band canvas in sync with\n",
       "            // the canvas container.\n",
       "            if (entry.devicePixelContentBoxSize) {\n",
       "                // Chrome 84 implements new version of spec.\n",
       "                canvas.setAttribute(\n",
       "                    'width',\n",
       "                    entry.devicePixelContentBoxSize[0].inlineSize\n",
       "                );\n",
       "                canvas.setAttribute(\n",
       "                    'height',\n",
       "                    entry.devicePixelContentBoxSize[0].blockSize\n",
       "                );\n",
       "            } else {\n",
       "                canvas.setAttribute('width', width * fig.ratio);\n",
       "                canvas.setAttribute('height', height * fig.ratio);\n",
       "            }\n",
       "            canvas.setAttribute(\n",
       "                'style',\n",
       "                'width: ' + width + 'px; height: ' + height + 'px;'\n",
       "            );\n",
       "\n",
       "            rubberband_canvas.setAttribute('width', width);\n",
       "            rubberband_canvas.setAttribute('height', height);\n",
       "\n",
       "            // And update the size in Python. We ignore the initial 0/0 size\n",
       "            // that occurs as the element is placed into the DOM, which should\n",
       "            // otherwise not happen due to the minimum size styling.\n",
       "            if (fig.ws.readyState == 1 && width != 0 && height != 0) {\n",
       "                fig.request_resize(width, height);\n",
       "            }\n",
       "        }\n",
       "    });\n",
       "    this.resizeObserverInstance.observe(canvas_div);\n",
       "\n",
       "    function on_mouse_event_closure(name) {\n",
       "        return function (event) {\n",
       "            return fig.mouse_event(event, name);\n",
       "        };\n",
       "    }\n",
       "\n",
       "    rubberband_canvas.addEventListener(\n",
       "        'mousedown',\n",
       "        on_mouse_event_closure('button_press')\n",
       "    );\n",
       "    rubberband_canvas.addEventListener(\n",
       "        'mouseup',\n",
       "        on_mouse_event_closure('button_release')\n",
       "    );\n",
       "    // Throttle sequential mouse events to 1 every 20ms.\n",
       "    rubberband_canvas.addEventListener(\n",
       "        'mousemove',\n",
       "        on_mouse_event_closure('motion_notify')\n",
       "    );\n",
       "\n",
       "    rubberband_canvas.addEventListener(\n",
       "        'mouseenter',\n",
       "        on_mouse_event_closure('figure_enter')\n",
       "    );\n",
       "    rubberband_canvas.addEventListener(\n",
       "        'mouseleave',\n",
       "        on_mouse_event_closure('figure_leave')\n",
       "    );\n",
       "\n",
       "    canvas_div.addEventListener('wheel', function (event) {\n",
       "        if (event.deltaY < 0) {\n",
       "            event.step = 1;\n",
       "        } else {\n",
       "            event.step = -1;\n",
       "        }\n",
       "        on_mouse_event_closure('scroll')(event);\n",
       "    });\n",
       "\n",
       "    canvas_div.appendChild(canvas);\n",
       "    canvas_div.appendChild(rubberband_canvas);\n",
       "\n",
       "    this.rubberband_context = rubberband_canvas.getContext('2d');\n",
       "    this.rubberband_context.strokeStyle = '#000000';\n",
       "\n",
       "    this._resize_canvas = function (width, height, forward) {\n",
       "        if (forward) {\n",
       "            canvas_div.style.width = width + 'px';\n",
       "            canvas_div.style.height = height + 'px';\n",
       "        }\n",
       "    };\n",
       "\n",
       "    // Disable right mouse context menu.\n",
       "    this.rubberband_canvas.addEventListener('contextmenu', function (_e) {\n",
       "        event.preventDefault();\n",
       "        return false;\n",
       "    });\n",
       "\n",
       "    function set_focus() {\n",
       "        canvas.focus();\n",
       "        canvas_div.focus();\n",
       "    }\n",
       "\n",
       "    window.setTimeout(set_focus, 100);\n",
       "};\n",
       "\n",
       "mpl.figure.prototype._init_toolbar = function () {\n",
       "    var fig = this;\n",
       "\n",
       "    var toolbar = document.createElement('div');\n",
       "    toolbar.classList = 'mpl-toolbar';\n",
       "    this.root.appendChild(toolbar);\n",
       "\n",
       "    function on_click_closure(name) {\n",
       "        return function (_event) {\n",
       "            return fig.toolbar_button_onclick(name);\n",
       "        };\n",
       "    }\n",
       "\n",
       "    function on_mouseover_closure(tooltip) {\n",
       "        return function (event) {\n",
       "            if (!event.currentTarget.disabled) {\n",
       "                return fig.toolbar_button_onmouseover(tooltip);\n",
       "            }\n",
       "        };\n",
       "    }\n",
       "\n",
       "    fig.buttons = {};\n",
       "    var buttonGroup = document.createElement('div');\n",
       "    buttonGroup.classList = 'mpl-button-group';\n",
       "    for (var toolbar_ind in mpl.toolbar_items) {\n",
       "        var name = mpl.toolbar_items[toolbar_ind][0];\n",
       "        var tooltip = mpl.toolbar_items[toolbar_ind][1];\n",
       "        var image = mpl.toolbar_items[toolbar_ind][2];\n",
       "        var method_name = mpl.toolbar_items[toolbar_ind][3];\n",
       "\n",
       "        if (!name) {\n",
       "            /* Instead of a spacer, we start a new button group. */\n",
       "            if (buttonGroup.hasChildNodes()) {\n",
       "                toolbar.appendChild(buttonGroup);\n",
       "            }\n",
       "            buttonGroup = document.createElement('div');\n",
       "            buttonGroup.classList = 'mpl-button-group';\n",
       "            continue;\n",
       "        }\n",
       "\n",
       "        var button = (fig.buttons[name] = document.createElement('button'));\n",
       "        button.classList = 'mpl-widget';\n",
       "        button.setAttribute('role', 'button');\n",
       "        button.setAttribute('aria-disabled', 'false');\n",
       "        button.addEventListener('click', on_click_closure(method_name));\n",
       "        button.addEventListener('mouseover', on_mouseover_closure(tooltip));\n",
       "\n",
       "        var icon_img = document.createElement('img');\n",
       "        icon_img.src = '_images/' + image + '.png';\n",
       "        icon_img.srcset = '_images/' + image + '_large.png 2x';\n",
       "        icon_img.alt = tooltip;\n",
       "        button.appendChild(icon_img);\n",
       "\n",
       "        buttonGroup.appendChild(button);\n",
       "    }\n",
       "\n",
       "    if (buttonGroup.hasChildNodes()) {\n",
       "        toolbar.appendChild(buttonGroup);\n",
       "    }\n",
       "\n",
       "    var fmt_picker = document.createElement('select');\n",
       "    fmt_picker.classList = 'mpl-widget';\n",
       "    toolbar.appendChild(fmt_picker);\n",
       "    this.format_dropdown = fmt_picker;\n",
       "\n",
       "    for (var ind in mpl.extensions) {\n",
       "        var fmt = mpl.extensions[ind];\n",
       "        var option = document.createElement('option');\n",
       "        option.selected = fmt === mpl.default_extension;\n",
       "        option.innerHTML = fmt;\n",
       "        fmt_picker.appendChild(option);\n",
       "    }\n",
       "\n",
       "    var status_bar = document.createElement('span');\n",
       "    status_bar.classList = 'mpl-message';\n",
       "    toolbar.appendChild(status_bar);\n",
       "    this.message = status_bar;\n",
       "};\n",
       "\n",
       "mpl.figure.prototype.request_resize = function (x_pixels, y_pixels) {\n",
       "    // Request matplotlib to resize the figure. Matplotlib will then trigger a resize in the client,\n",
       "    // which will in turn request a refresh of the image.\n",
       "    this.send_message('resize', { width: x_pixels, height: y_pixels });\n",
       "};\n",
       "\n",
       "mpl.figure.prototype.send_message = function (type, properties) {\n",
       "    properties['type'] = type;\n",
       "    properties['figure_id'] = this.id;\n",
       "    this.ws.send(JSON.stringify(properties));\n",
       "};\n",
       "\n",
       "mpl.figure.prototype.send_draw_message = function () {\n",
       "    if (!this.waiting) {\n",
       "        this.waiting = true;\n",
       "        this.ws.send(JSON.stringify({ type: 'draw', figure_id: this.id }));\n",
       "    }\n",
       "};\n",
       "\n",
       "mpl.figure.prototype.handle_save = function (fig, _msg) {\n",
       "    var format_dropdown = fig.format_dropdown;\n",
       "    var format = format_dropdown.options[format_dropdown.selectedIndex].value;\n",
       "    fig.ondownload(fig, format);\n",
       "};\n",
       "\n",
       "mpl.figure.prototype.handle_resize = function (fig, msg) {\n",
       "    var size = msg['size'];\n",
       "    if (size[0] !== fig.canvas.width || size[1] !== fig.canvas.height) {\n",
       "        fig._resize_canvas(size[0], size[1], msg['forward']);\n",
       "        fig.send_message('refresh', {});\n",
       "    }\n",
       "};\n",
       "\n",
       "mpl.figure.prototype.handle_rubberband = function (fig, msg) {\n",
       "    var x0 = msg['x0'] / fig.ratio;\n",
       "    var y0 = (fig.canvas.height - msg['y0']) / fig.ratio;\n",
       "    var x1 = msg['x1'] / fig.ratio;\n",
       "    var y1 = (fig.canvas.height - msg['y1']) / fig.ratio;\n",
       "    x0 = Math.floor(x0) + 0.5;\n",
       "    y0 = Math.floor(y0) + 0.5;\n",
       "    x1 = Math.floor(x1) + 0.5;\n",
       "    y1 = Math.floor(y1) + 0.5;\n",
       "    var min_x = Math.min(x0, x1);\n",
       "    var min_y = Math.min(y0, y1);\n",
       "    var width = Math.abs(x1 - x0);\n",
       "    var height = Math.abs(y1 - y0);\n",
       "\n",
       "    fig.rubberband_context.clearRect(\n",
       "        0,\n",
       "        0,\n",
       "        fig.canvas.width / fig.ratio,\n",
       "        fig.canvas.height / fig.ratio\n",
       "    );\n",
       "\n",
       "    fig.rubberband_context.strokeRect(min_x, min_y, width, height);\n",
       "};\n",
       "\n",
       "mpl.figure.prototype.handle_figure_label = function (fig, msg) {\n",
       "    // Updates the figure title.\n",
       "    fig.header.textContent = msg['label'];\n",
       "};\n",
       "\n",
       "mpl.figure.prototype.handle_cursor = function (fig, msg) {\n",
       "    var cursor = msg['cursor'];\n",
       "    switch (cursor) {\n",
       "        case 0:\n",
       "            cursor = 'pointer';\n",
       "            break;\n",
       "        case 1:\n",
       "            cursor = 'default';\n",
       "            break;\n",
       "        case 2:\n",
       "            cursor = 'crosshair';\n",
       "            break;\n",
       "        case 3:\n",
       "            cursor = 'move';\n",
       "            break;\n",
       "    }\n",
       "    fig.rubberband_canvas.style.cursor = cursor;\n",
       "};\n",
       "\n",
       "mpl.figure.prototype.handle_message = function (fig, msg) {\n",
       "    fig.message.textContent = msg['message'];\n",
       "};\n",
       "\n",
       "mpl.figure.prototype.handle_draw = function (fig, _msg) {\n",
       "    // Request the server to send over a new figure.\n",
       "    fig.send_draw_message();\n",
       "};\n",
       "\n",
       "mpl.figure.prototype.handle_image_mode = function (fig, msg) {\n",
       "    fig.image_mode = msg['mode'];\n",
       "};\n",
       "\n",
       "mpl.figure.prototype.handle_history_buttons = function (fig, msg) {\n",
       "    for (var key in msg) {\n",
       "        if (!(key in fig.buttons)) {\n",
       "            continue;\n",
       "        }\n",
       "        fig.buttons[key].disabled = !msg[key];\n",
       "        fig.buttons[key].setAttribute('aria-disabled', !msg[key]);\n",
       "    }\n",
       "};\n",
       "\n",
       "mpl.figure.prototype.handle_navigate_mode = function (fig, msg) {\n",
       "    if (msg['mode'] === 'PAN') {\n",
       "        fig.buttons['Pan'].classList.add('active');\n",
       "        fig.buttons['Zoom'].classList.remove('active');\n",
       "    } else if (msg['mode'] === 'ZOOM') {\n",
       "        fig.buttons['Pan'].classList.remove('active');\n",
       "        fig.buttons['Zoom'].classList.add('active');\n",
       "    } else {\n",
       "        fig.buttons['Pan'].classList.remove('active');\n",
       "        fig.buttons['Zoom'].classList.remove('active');\n",
       "    }\n",
       "};\n",
       "\n",
       "mpl.figure.prototype.updated_canvas_event = function () {\n",
       "    // Called whenever the canvas gets updated.\n",
       "    this.send_message('ack', {});\n",
       "};\n",
       "\n",
       "// A function to construct a web socket function for onmessage handling.\n",
       "// Called in the figure constructor.\n",
       "mpl.figure.prototype._make_on_message_function = function (fig) {\n",
       "    return function socket_on_message(evt) {\n",
       "        if (evt.data instanceof Blob) {\n",
       "            /* FIXME: We get \"Resource interpreted as Image but\n",
       "             * transferred with MIME type text/plain:\" errors on\n",
       "             * Chrome.  But how to set the MIME type?  It doesn't seem\n",
       "             * to be part of the websocket stream */\n",
       "            evt.data.type = 'image/png';\n",
       "\n",
       "            /* Free the memory for the previous frames */\n",
       "            if (fig.imageObj.src) {\n",
       "                (window.URL || window.webkitURL).revokeObjectURL(\n",
       "                    fig.imageObj.src\n",
       "                );\n",
       "            }\n",
       "\n",
       "            fig.imageObj.src = (window.URL || window.webkitURL).createObjectURL(\n",
       "                evt.data\n",
       "            );\n",
       "            fig.updated_canvas_event();\n",
       "            fig.waiting = false;\n",
       "            return;\n",
       "        } else if (\n",
       "            typeof evt.data === 'string' &&\n",
       "            evt.data.slice(0, 21) === 'data:image/png;base64'\n",
       "        ) {\n",
       "            fig.imageObj.src = evt.data;\n",
       "            fig.updated_canvas_event();\n",
       "            fig.waiting = false;\n",
       "            return;\n",
       "        }\n",
       "\n",
       "        var msg = JSON.parse(evt.data);\n",
       "        var msg_type = msg['type'];\n",
       "\n",
       "        // Call the  \"handle_{type}\" callback, which takes\n",
       "        // the figure and JSON message as its only arguments.\n",
       "        try {\n",
       "            var callback = fig['handle_' + msg_type];\n",
       "        } catch (e) {\n",
       "            console.log(\n",
       "                \"No handler for the '\" + msg_type + \"' message type: \",\n",
       "                msg\n",
       "            );\n",
       "            return;\n",
       "        }\n",
       "\n",
       "        if (callback) {\n",
       "            try {\n",
       "                // console.log(\"Handling '\" + msg_type + \"' message: \", msg);\n",
       "                callback(fig, msg);\n",
       "            } catch (e) {\n",
       "                console.log(\n",
       "                    \"Exception inside the 'handler_\" + msg_type + \"' callback:\",\n",
       "                    e,\n",
       "                    e.stack,\n",
       "                    msg\n",
       "                );\n",
       "            }\n",
       "        }\n",
       "    };\n",
       "};\n",
       "\n",
       "// from http://stackoverflow.com/questions/1114465/getting-mouse-location-in-canvas\n",
       "mpl.findpos = function (e) {\n",
       "    //this section is from http://www.quirksmode.org/js/events_properties.html\n",
       "    var targ;\n",
       "    if (!e) {\n",
       "        e = window.event;\n",
       "    }\n",
       "    if (e.target) {\n",
       "        targ = e.target;\n",
       "    } else if (e.srcElement) {\n",
       "        targ = e.srcElement;\n",
       "    }\n",
       "    if (targ.nodeType === 3) {\n",
       "        // defeat Safari bug\n",
       "        targ = targ.parentNode;\n",
       "    }\n",
       "\n",
       "    // pageX,Y are the mouse positions relative to the document\n",
       "    var boundingRect = targ.getBoundingClientRect();\n",
       "    var x = e.pageX - (boundingRect.left + document.body.scrollLeft);\n",
       "    var y = e.pageY - (boundingRect.top + document.body.scrollTop);\n",
       "\n",
       "    return { x: x, y: y };\n",
       "};\n",
       "\n",
       "/*\n",
       " * return a copy of an object with only non-object keys\n",
       " * we need this to avoid circular references\n",
       " * http://stackoverflow.com/a/24161582/3208463\n",
       " */\n",
       "function simpleKeys(original) {\n",
       "    return Object.keys(original).reduce(function (obj, key) {\n",
       "        if (typeof original[key] !== 'object') {\n",
       "            obj[key] = original[key];\n",
       "        }\n",
       "        return obj;\n",
       "    }, {});\n",
       "}\n",
       "\n",
       "mpl.figure.prototype.mouse_event = function (event, name) {\n",
       "    var canvas_pos = mpl.findpos(event);\n",
       "\n",
       "    if (name === 'button_press') {\n",
       "        this.canvas.focus();\n",
       "        this.canvas_div.focus();\n",
       "    }\n",
       "\n",
       "    var x = canvas_pos.x * this.ratio;\n",
       "    var y = canvas_pos.y * this.ratio;\n",
       "\n",
       "    this.send_message(name, {\n",
       "        x: x,\n",
       "        y: y,\n",
       "        button: event.button,\n",
       "        step: event.step,\n",
       "        guiEvent: simpleKeys(event),\n",
       "    });\n",
       "\n",
       "    /* This prevents the web browser from automatically changing to\n",
       "     * the text insertion cursor when the button is pressed.  We want\n",
       "     * to control all of the cursor setting manually through the\n",
       "     * 'cursor' event from matplotlib */\n",
       "    event.preventDefault();\n",
       "    return false;\n",
       "};\n",
       "\n",
       "mpl.figure.prototype._key_event_extra = function (_event, _name) {\n",
       "    // Handle any extra behaviour associated with a key event\n",
       "};\n",
       "\n",
       "mpl.figure.prototype.key_event = function (event, name) {\n",
       "    // Prevent repeat events\n",
       "    if (name === 'key_press') {\n",
       "        if (event.which === this._key) {\n",
       "            return;\n",
       "        } else {\n",
       "            this._key = event.which;\n",
       "        }\n",
       "    }\n",
       "    if (name === 'key_release') {\n",
       "        this._key = null;\n",
       "    }\n",
       "\n",
       "    var value = '';\n",
       "    if (event.ctrlKey && event.which !== 17) {\n",
       "        value += 'ctrl+';\n",
       "    }\n",
       "    if (event.altKey && event.which !== 18) {\n",
       "        value += 'alt+';\n",
       "    }\n",
       "    if (event.shiftKey && event.which !== 16) {\n",
       "        value += 'shift+';\n",
       "    }\n",
       "\n",
       "    value += 'k';\n",
       "    value += event.which.toString();\n",
       "\n",
       "    this._key_event_extra(event, name);\n",
       "\n",
       "    this.send_message(name, { key: value, guiEvent: simpleKeys(event) });\n",
       "    return false;\n",
       "};\n",
       "\n",
       "mpl.figure.prototype.toolbar_button_onclick = function (name) {\n",
       "    if (name === 'download') {\n",
       "        this.handle_save(this, null);\n",
       "    } else {\n",
       "        this.send_message('toolbar_button', { name: name });\n",
       "    }\n",
       "};\n",
       "\n",
       "mpl.figure.prototype.toolbar_button_onmouseover = function (tooltip) {\n",
       "    this.message.textContent = tooltip;\n",
       "};\n",
       "\n",
       "///////////////// REMAINING CONTENT GENERATED BY embed_js.py /////////////////\n",
       "// prettier-ignore\n",
       "var _JSXTOOLS_RESIZE_OBSERVER=function(A){var t,i=new WeakMap,n=new WeakMap,a=new WeakMap,r=new WeakMap,o=new Set;function s(e){if(!(this instanceof s))throw new TypeError(\"Constructor requires 'new' operator\");i.set(this,e)}function h(){throw new TypeError(\"Function is not a constructor\")}function c(e,t,i,n){e=0 in arguments?Number(arguments[0]):0,t=1 in arguments?Number(arguments[1]):0,i=2 in arguments?Number(arguments[2]):0,n=3 in arguments?Number(arguments[3]):0,this.right=(this.x=this.left=e)+(this.width=i),this.bottom=(this.y=this.top=t)+(this.height=n),Object.freeze(this)}function d(){t=requestAnimationFrame(d);var s=new WeakMap,p=new Set;o.forEach((function(t){r.get(t).forEach((function(i){var r=t instanceof window.SVGElement,o=a.get(t),d=r?0:parseFloat(o.paddingTop),f=r?0:parseFloat(o.paddingRight),l=r?0:parseFloat(o.paddingBottom),u=r?0:parseFloat(o.paddingLeft),g=r?0:parseFloat(o.borderTopWidth),m=r?0:parseFloat(o.borderRightWidth),w=r?0:parseFloat(o.borderBottomWidth),b=u+f,F=d+l,v=(r?0:parseFloat(o.borderLeftWidth))+m,W=g+w,y=r?0:t.offsetHeight-W-t.clientHeight,E=r?0:t.offsetWidth-v-t.clientWidth,R=b+v,z=F+W,M=r?t.width:parseFloat(o.width)-R-E,O=r?t.height:parseFloat(o.height)-z-y;if(n.has(t)){var k=n.get(t);if(k[0]===M&&k[1]===O)return}n.set(t,[M,O]);var S=Object.create(h.prototype);S.target=t,S.contentRect=new c(u,d,M,O),s.has(i)||(s.set(i,[]),p.add(i)),s.get(i).push(S)}))})),p.forEach((function(e){i.get(e).call(e,s.get(e),e)}))}return s.prototype.observe=function(i){if(i instanceof window.Element){r.has(i)||(r.set(i,new Set),o.add(i),a.set(i,window.getComputedStyle(i)));var n=r.get(i);n.has(this)||n.add(this),cancelAnimationFrame(t),t=requestAnimationFrame(d)}},s.prototype.unobserve=function(i){if(i instanceof window.Element&&r.has(i)){var n=r.get(i);n.has(this)&&(n.delete(this),n.size||(r.delete(i),o.delete(i))),n.size||r.delete(i),o.size||cancelAnimationFrame(t)}},A.DOMRectReadOnly=c,A.ResizeObserver=s,A.ResizeObserverEntry=h,A}; // eslint-disable-line\n",
       "mpl.toolbar_items = [[\"Home\", \"Reset original view\", \"fa fa-home icon-home\", \"home\"], [\"Back\", \"Back to previous view\", \"fa fa-arrow-left icon-arrow-left\", \"back\"], [\"Forward\", \"Forward to next view\", \"fa fa-arrow-right icon-arrow-right\", \"forward\"], [\"\", \"\", \"\", \"\"], [\"Pan\", \"Left button pans, Right button zooms\\nx/y fixes axis, CTRL fixes aspect\", \"fa fa-arrows icon-move\", \"pan\"], [\"Zoom\", \"Zoom to rectangle\\nx/y fixes axis, CTRL fixes aspect\", \"fa fa-square-o icon-check-empty\", \"zoom\"], [\"\", \"\", \"\", \"\"], [\"Download\", \"Download plot\", \"fa fa-floppy-o icon-save\", \"download\"]];\n",
       "\n",
       "mpl.extensions = [\"eps\", \"jpeg\", \"pdf\", \"png\", \"ps\", \"raw\", \"svg\", \"tif\"];\n",
       "\n",
       "mpl.default_extension = \"png\";/* global mpl */\n",
       "\n",
       "var comm_websocket_adapter = function (comm) {\n",
       "    // Create a \"websocket\"-like object which calls the given IPython comm\n",
       "    // object with the appropriate methods. Currently this is a non binary\n",
       "    // socket, so there is still some room for performance tuning.\n",
       "    var ws = {};\n",
       "\n",
       "    ws.close = function () {\n",
       "        comm.close();\n",
       "    };\n",
       "    ws.send = function (m) {\n",
       "        //console.log('sending', m);\n",
       "        comm.send(m);\n",
       "    };\n",
       "    // Register the callback with on_msg.\n",
       "    comm.on_msg(function (msg) {\n",
       "        //console.log('receiving', msg['content']['data'], msg);\n",
       "        // Pass the mpl event to the overridden (by mpl) onmessage function.\n",
       "        ws.onmessage(msg['content']['data']);\n",
       "    });\n",
       "    return ws;\n",
       "};\n",
       "\n",
       "mpl.mpl_figure_comm = function (comm, msg) {\n",
       "    // This is the function which gets called when the mpl process\n",
       "    // starts-up an IPython Comm through the \"matplotlib\" channel.\n",
       "\n",
       "    var id = msg.content.data.id;\n",
       "    // Get hold of the div created by the display call when the Comm\n",
       "    // socket was opened in Python.\n",
       "    var element = document.getElementById(id);\n",
       "    var ws_proxy = comm_websocket_adapter(comm);\n",
       "\n",
       "    function ondownload(figure, _format) {\n",
       "        window.open(figure.canvas.toDataURL());\n",
       "    }\n",
       "\n",
       "    var fig = new mpl.figure(id, ws_proxy, ondownload, element);\n",
       "\n",
       "    // Call onopen now - mpl needs it, as it is assuming we've passed it a real\n",
       "    // web socket which is closed, not our websocket->open comm proxy.\n",
       "    ws_proxy.onopen();\n",
       "\n",
       "    fig.parent_element = element;\n",
       "    fig.cell_info = mpl.find_output_cell(\"<div id='\" + id + \"'></div>\");\n",
       "    if (!fig.cell_info) {\n",
       "        console.error('Failed to find cell for figure', id, fig);\n",
       "        return;\n",
       "    }\n",
       "    fig.cell_info[0].output_area.element.on(\n",
       "        'cleared',\n",
       "        { fig: fig },\n",
       "        fig._remove_fig_handler\n",
       "    );\n",
       "};\n",
       "\n",
       "mpl.figure.prototype.handle_close = function (fig, msg) {\n",
       "    var width = fig.canvas.width / fig.ratio;\n",
       "    fig.cell_info[0].output_area.element.off(\n",
       "        'cleared',\n",
       "        fig._remove_fig_handler\n",
       "    );\n",
       "    fig.resizeObserverInstance.unobserve(fig.canvas_div);\n",
       "\n",
       "    // Update the output cell to use the data from the current canvas.\n",
       "    fig.push_to_output();\n",
       "    var dataURL = fig.canvas.toDataURL();\n",
       "    // Re-enable the keyboard manager in IPython - without this line, in FF,\n",
       "    // the notebook keyboard shortcuts fail.\n",
       "    IPython.keyboard_manager.enable();\n",
       "    fig.parent_element.innerHTML =\n",
       "        '<img src=\"' + dataURL + '\" width=\"' + width + '\">';\n",
       "    fig.close_ws(fig, msg);\n",
       "};\n",
       "\n",
       "mpl.figure.prototype.close_ws = function (fig, msg) {\n",
       "    fig.send_message('closing', msg);\n",
       "    // fig.ws.close()\n",
       "};\n",
       "\n",
       "mpl.figure.prototype.push_to_output = function (_remove_interactive) {\n",
       "    // Turn the data on the canvas into data in the output cell.\n",
       "    var width = this.canvas.width / this.ratio;\n",
       "    var dataURL = this.canvas.toDataURL();\n",
       "    this.cell_info[1]['text/html'] =\n",
       "        '<img src=\"' + dataURL + '\" width=\"' + width + '\">';\n",
       "};\n",
       "\n",
       "mpl.figure.prototype.updated_canvas_event = function () {\n",
       "    // Tell IPython that the notebook contents must change.\n",
       "    IPython.notebook.set_dirty(true);\n",
       "    this.send_message('ack', {});\n",
       "    var fig = this;\n",
       "    // Wait a second, then push the new image to the DOM so\n",
       "    // that it is saved nicely (might be nice to debounce this).\n",
       "    setTimeout(function () {\n",
       "        fig.push_to_output();\n",
       "    }, 1000);\n",
       "};\n",
       "\n",
       "mpl.figure.prototype._init_toolbar = function () {\n",
       "    var fig = this;\n",
       "\n",
       "    var toolbar = document.createElement('div');\n",
       "    toolbar.classList = 'btn-toolbar';\n",
       "    this.root.appendChild(toolbar);\n",
       "\n",
       "    function on_click_closure(name) {\n",
       "        return function (_event) {\n",
       "            return fig.toolbar_button_onclick(name);\n",
       "        };\n",
       "    }\n",
       "\n",
       "    function on_mouseover_closure(tooltip) {\n",
       "        return function (event) {\n",
       "            if (!event.currentTarget.disabled) {\n",
       "                return fig.toolbar_button_onmouseover(tooltip);\n",
       "            }\n",
       "        };\n",
       "    }\n",
       "\n",
       "    fig.buttons = {};\n",
       "    var buttonGroup = document.createElement('div');\n",
       "    buttonGroup.classList = 'btn-group';\n",
       "    var button;\n",
       "    for (var toolbar_ind in mpl.toolbar_items) {\n",
       "        var name = mpl.toolbar_items[toolbar_ind][0];\n",
       "        var tooltip = mpl.toolbar_items[toolbar_ind][1];\n",
       "        var image = mpl.toolbar_items[toolbar_ind][2];\n",
       "        var method_name = mpl.toolbar_items[toolbar_ind][3];\n",
       "\n",
       "        if (!name) {\n",
       "            /* Instead of a spacer, we start a new button group. */\n",
       "            if (buttonGroup.hasChildNodes()) {\n",
       "                toolbar.appendChild(buttonGroup);\n",
       "            }\n",
       "            buttonGroup = document.createElement('div');\n",
       "            buttonGroup.classList = 'btn-group';\n",
       "            continue;\n",
       "        }\n",
       "\n",
       "        button = fig.buttons[name] = document.createElement('button');\n",
       "        button.classList = 'btn btn-default';\n",
       "        button.href = '#';\n",
       "        button.title = name;\n",
       "        button.innerHTML = '<i class=\"fa ' + image + ' fa-lg\"></i>';\n",
       "        button.addEventListener('click', on_click_closure(method_name));\n",
       "        button.addEventListener('mouseover', on_mouseover_closure(tooltip));\n",
       "        buttonGroup.appendChild(button);\n",
       "    }\n",
       "\n",
       "    if (buttonGroup.hasChildNodes()) {\n",
       "        toolbar.appendChild(buttonGroup);\n",
       "    }\n",
       "\n",
       "    // Add the status bar.\n",
       "    var status_bar = document.createElement('span');\n",
       "    status_bar.classList = 'mpl-message pull-right';\n",
       "    toolbar.appendChild(status_bar);\n",
       "    this.message = status_bar;\n",
       "\n",
       "    // Add the close button to the window.\n",
       "    var buttongrp = document.createElement('div');\n",
       "    buttongrp.classList = 'btn-group inline pull-right';\n",
       "    button = document.createElement('button');\n",
       "    button.classList = 'btn btn-mini btn-primary';\n",
       "    button.href = '#';\n",
       "    button.title = 'Stop Interaction';\n",
       "    button.innerHTML = '<i class=\"fa fa-power-off icon-remove icon-large\"></i>';\n",
       "    button.addEventListener('click', function (_evt) {\n",
       "        fig.handle_close(fig, {});\n",
       "    });\n",
       "    button.addEventListener(\n",
       "        'mouseover',\n",
       "        on_mouseover_closure('Stop Interaction')\n",
       "    );\n",
       "    buttongrp.appendChild(button);\n",
       "    var titlebar = this.root.querySelector('.ui-dialog-titlebar');\n",
       "    titlebar.insertBefore(buttongrp, titlebar.firstChild);\n",
       "};\n",
       "\n",
       "mpl.figure.prototype._remove_fig_handler = function (event) {\n",
       "    var fig = event.data.fig;\n",
       "    if (event.target !== this) {\n",
       "        // Ignore bubbled events from children.\n",
       "        return;\n",
       "    }\n",
       "    fig.close_ws(fig, {});\n",
       "};\n",
       "\n",
       "mpl.figure.prototype._root_extra_style = function (el) {\n",
       "    el.style.boxSizing = 'content-box'; // override notebook setting of border-box.\n",
       "};\n",
       "\n",
       "mpl.figure.prototype._canvas_extra_style = function (el) {\n",
       "    // this is important to make the div 'focusable\n",
       "    el.setAttribute('tabindex', 0);\n",
       "    // reach out to IPython and tell the keyboard manager to turn it's self\n",
       "    // off when our div gets focus\n",
       "\n",
       "    // location in version 3\n",
       "    if (IPython.notebook.keyboard_manager) {\n",
       "        IPython.notebook.keyboard_manager.register_events(el);\n",
       "    } else {\n",
       "        // location in version 2\n",
       "        IPython.keyboard_manager.register_events(el);\n",
       "    }\n",
       "};\n",
       "\n",
       "mpl.figure.prototype._key_event_extra = function (event, _name) {\n",
       "    var manager = IPython.notebook.keyboard_manager;\n",
       "    if (!manager) {\n",
       "        manager = IPython.keyboard_manager;\n",
       "    }\n",
       "\n",
       "    // Check for shift+enter\n",
       "    if (event.shiftKey && event.which === 13) {\n",
       "        this.canvas_div.blur();\n",
       "        // select the cell after this one\n",
       "        var index = IPython.notebook.find_cell_index(this.cell_info[0]);\n",
       "        IPython.notebook.select(index + 1);\n",
       "    }\n",
       "};\n",
       "\n",
       "mpl.figure.prototype.handle_save = function (fig, _msg) {\n",
       "    fig.ondownload(fig, null);\n",
       "};\n",
       "\n",
       "mpl.find_output_cell = function (html_output) {\n",
       "    // Return the cell and output element which can be found *uniquely* in the notebook.\n",
       "    // Note - this is a bit hacky, but it is done because the \"notebook_saving.Notebook\"\n",
       "    // IPython event is triggered only after the cells have been serialised, which for\n",
       "    // our purposes (turning an active figure into a static one), is too late.\n",
       "    var cells = IPython.notebook.get_cells();\n",
       "    var ncells = cells.length;\n",
       "    for (var i = 0; i < ncells; i++) {\n",
       "        var cell = cells[i];\n",
       "        if (cell.cell_type === 'code') {\n",
       "            for (var j = 0; j < cell.output_area.outputs.length; j++) {\n",
       "                var data = cell.output_area.outputs[j];\n",
       "                if (data.data) {\n",
       "                    // IPython >= 3 moved mimebundle to data attribute of output\n",
       "                    data = data.data;\n",
       "                }\n",
       "                if (data['text/html'] === html_output) {\n",
       "                    return [cell, data, j];\n",
       "                }\n",
       "            }\n",
       "        }\n",
       "    }\n",
       "};\n",
       "\n",
       "// Register the function which deals with the matplotlib target/channel.\n",
       "// The kernel may be null if the page has been refreshed.\n",
       "if (IPython.notebook.kernel !== null) {\n",
       "    IPython.notebook.kernel.comm_manager.register_target(\n",
       "        'matplotlib',\n",
       "        mpl.mpl_figure_comm\n",
       "    );\n",
       "}\n"
      ],
      "text/plain": [
       "<IPython.core.display.Javascript object>"
      ]
     },
     "metadata": {},
     "output_type": "display_data"
    },
    {
     "data": {
      "text/html": [
       "<img src=\"data:image/png;base64,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\" width=\"640\">"
      ],
      "text/plain": [
       "<IPython.core.display.HTML object>"
      ]
     },
     "metadata": {},
     "output_type": "display_data"
    },
    {
     "data": {
      "text/plain": [
       "<function matplotlib.pyplot.show(block=None)>"
      ]
     },
     "execution_count": 31,
     "metadata": {},
     "output_type": "execute_result"
    }
   ],
   "source": [
    "%matplotlib notebook\n",
    "plt.plot(t, ff(t), 'g', label='$f(x)$')\n",
    "plt.plot(t, ff2f(t), 'b--', label='$f\\'\\'(x)$')\n",
    "plt.legend()\n",
    "plt.grid()\n",
    "plt.show"
   ]
  },
  {
   "cell_type": "markdown",
   "metadata": {},
   "source": [
    "# Исследование функий"
   ]
  },
  {
   "cell_type": "code",
   "execution_count": 33,
   "metadata": {},
   "outputs": [],
   "source": [
    "import sympy as sm"
   ]
  },
  {
   "cell_type": "code",
   "execution_count": 34,
   "metadata": {},
   "outputs": [],
   "source": [
    "x, y, z, a, b = sm.symbols('x, y, z, a, b')"
   ]
  },
  {
   "cell_type": "markdown",
   "metadata": {},
   "source": [
    "## Раскрытие скобок в Sympy: expand()\n",
    "## Рассмотрим на примере бинома Ньютона: пусть $x = (a + b)^n $"
   ]
  },
  {
   "cell_type": "code",
   "execution_count": 38,
   "metadata": {},
   "outputs": [
    {
     "data": {
      "text/latex": [
       "$\\displaystyle a^{7} + 7 a^{6} b + 21 a^{5} b^{2} + 35 a^{4} b^{3} + 35 a^{3} b^{4} + 21 a^{2} b^{5} + 7 a b^{6} + b^{7}$"
      ],
      "text/plain": [
       "a**7 + 7*a**6*b + 21*a**5*b**2 + 35*a**4*b**3 + 35*a**3*b**4 + 21*a**2*b**5 + 7*a*b**6 + b**7"
      ]
     },
     "execution_count": 38,
     "metadata": {},
     "output_type": "execute_result"
    }
   ],
   "source": [
    "n = 7\n",
    "x = (a + b) ** n\n",
    "y = sm.expand(x)\n",
    "y"
   ]
  },
  {
   "cell_type": "markdown",
   "metadata": {},
   "source": [
    "### Определим степень многочлена по переменной b:"
   ]
  },
  {
   "cell_type": "code",
   "execution_count": 41,
   "metadata": {},
   "outputs": [
    {
     "name": "stdout",
     "output_type": "stream",
     "text": [
      "Многочлен имеет порядок 7 по переменной b.\n",
      "Многочлен имеет порядок 7 по переменной b.\n"
     ]
    }
   ],
   "source": [
    "print('Многочлен имеет порядок %i по переменной b.' %(sm.degree(y, b)))\n",
    "print(f'Многочлен имеет порядок {sm.degree(y, b)} по переменной b.')"
   ]
  },
  {
   "cell_type": "markdown",
   "metadata": {},
   "source": [
    "### Сгруппируем многочлены по степеням b:"
   ]
  },
  {
   "cell_type": "code",
   "execution_count": 44,
   "metadata": {},
   "outputs": [
    {
     "name": "stdout",
     "output_type": "stream",
     "text": [
      "Члены с переменной b:\n"
     ]
    },
    {
     "data": {
      "text/latex": [
       "$\\displaystyle a^{7} + 7 a^{6} b + 21 a^{5} b^{2} + 35 a^{4} b^{3} + 35 a^{3} b^{4} + 21 a^{2} b^{5} + 7 a b^{6} + 4 b^{7}$"
      ],
      "text/plain": [
       "a**7 + 7*a**6*b + 21*a**5*b**2 + 35*a**4*b**3 + 35*a**3*b**4 + 21*a**2*b**5 + 7*a*b**6 + 4*b**7"
      ]
     },
     "execution_count": 44,
     "metadata": {},
     "output_type": "execute_result"
    }
   ],
   "source": [
    "print('Члены с переменной b:')\n",
    "sm.collect(y, b)"
   ]
  },
  {
   "cell_type": "markdown",
   "metadata": {},
   "source": [
    "### \"Свёртка\" выражения с помощью функции factor(_expression_):"
   ]
  },
  {
   "cell_type": "code",
   "execution_count": 45,
   "metadata": {},
   "outputs": [
    {
     "data": {
      "text/latex": [
       "$\\displaystyle \\left(a + b\\right)^{7}$"
      ],
      "text/plain": [
       "(a + b)**7"
      ]
     },
     "execution_count": 45,
     "metadata": {},
     "output_type": "execute_result"
    }
   ],
   "source": [
    "sm.factor(y)"
   ]
  },
  {
   "cell_type": "markdown",
   "metadata": {},
   "source": [
    "### Сокращение символьных отношений функцией cancel(_expression_):"
   ]
  },
  {
   "cell_type": "code",
   "execution_count": 47,
   "metadata": {},
   "outputs": [
    {
     "data": {
      "text/latex": [
       "$\\displaystyle \\frac{a^{3} - b^{3}}{a^{2} - b^{2}}$"
      ],
      "text/plain": [
       "(a**3 - b**3)/(a**2 - b**2)"
      ]
     },
     "execution_count": 47,
     "metadata": {},
     "output_type": "execute_result"
    }
   ],
   "source": [
    "expr1 = (a ** 3 - b ** 3) / (a ** 2 - b ** 2)\n",
    "expr1"
   ]
  },
  {
   "cell_type": "code",
   "execution_count": 48,
   "metadata": {},
   "outputs": [
    {
     "data": {
      "text/latex": [
       "$\\displaystyle \\frac{a^{2} + a b + b^{2}}{a + b}$"
      ],
      "text/plain": [
       "(a**2 + a*b + b**2)/(a + b)"
      ]
     },
     "execution_count": 48,
     "metadata": {},
     "output_type": "execute_result"
    }
   ],
   "source": [
    "sm.cancel(expr1)"
   ]
  },
  {
   "cell_type": "markdown",
   "metadata": {},
   "source": [
    "### Приведение дробей в общему знаменателю функцией together(_expression_):"
   ]
  },
  {
   "cell_type": "code",
   "execution_count": 53,
   "metadata": {},
   "outputs": [
    {
     "data": {
      "text/latex": [
       "$\\displaystyle \\frac{x}{x + y} + \\frac{y}{x - y}$"
      ],
      "text/plain": [
       "x/(x + y) + y/(x - y)"
      ]
     },
     "execution_count": 53,
     "metadata": {},
     "output_type": "execute_result"
    }
   ],
   "source": [
    "x, y = sm.symbols('x, y') # Обновили значения x и y\n",
    "\n",
    "expr2 = x / (x + y) + y / (x - y)\n",
    "expr2"
   ]
  },
  {
   "cell_type": "code",
   "execution_count": 52,
   "metadata": {},
   "outputs": [
    {
     "data": {
      "text/latex": [
       "$\\displaystyle \\frac{x \\left(x - y\\right) + y \\left(x + y\\right)}{\\left(x - y\\right) \\left(x + y\\right)}$"
      ],
      "text/plain": [
       "(x*(x - y) + y*(x + y))/((x - y)*(x + y))"
      ]
     },
     "execution_count": 52,
     "metadata": {},
     "output_type": "execute_result"
    }
   ],
   "source": [
    "sm.together(expr2)"
   ]
  },
  {
   "cell_type": "markdown",
   "metadata": {},
   "source": [
    "### Упрощение выражений с функцией simplify(_expression_)"
   ]
  },
  {
   "cell_type": "code",
   "execution_count": 55,
   "metadata": {},
   "outputs": [
    {
     "data": {
      "text/latex": [
       "$\\displaystyle \\frac{x^{2} + y^{2}}{x^{2} - y^{2}}$"
      ],
      "text/plain": [
       "(x**2 + y**2)/(x**2 - y**2)"
      ]
     },
     "execution_count": 55,
     "metadata": {},
     "output_type": "execute_result"
    }
   ],
   "source": [
    "sm.simplify(expr2)"
   ]
  },
  {
   "cell_type": "markdown",
   "metadata": {},
   "source": [
    "### Разложение на элементарные дроби относительно переменной $x$ с помощью функции apart(_expression_)"
   ]
  },
  {
   "cell_type": "code",
   "execution_count": 56,
   "metadata": {},
   "outputs": [
    {
     "data": {
      "text/latex": [
       "$\\displaystyle \\frac{x}{x + y} + \\frac{y}{x - y}$"
      ],
      "text/plain": [
       "x/(x + y) + y/(x - y)"
      ]
     },
     "execution_count": 56,
     "metadata": {},
     "output_type": "execute_result"
    }
   ],
   "source": [
    "expr2"
   ]
  },
  {
   "cell_type": "code",
   "execution_count": 59,
   "metadata": {},
   "outputs": [
    {
     "data": {
      "text/latex": [
       "$\\displaystyle - \\frac{y}{x + y} + \\frac{y}{x - y} + 1$"
      ],
      "text/plain": [
       "-y/(x + y) + y/(x - y) + 1"
      ]
     },
     "execution_count": 59,
     "metadata": {},
     "output_type": "execute_result"
    }
   ],
   "source": [
    "sm.apart(expr2, x)"
   ]
  },
  {
   "cell_type": "code",
   "execution_count": 61,
   "metadata": {},
   "outputs": [
    {
     "data": {
      "text/latex": [
       "$\\displaystyle \\frac{- y \\left(x - y\\right) + y \\left(x + y\\right) + \\left(x - y\\right) \\left(x + y\\right)}{\\left(x - y\\right) \\left(x + y\\right)}$"
      ],
      "text/plain": [
       "(-y*(x - y) + y*(x + y) + (x - y)*(x + y))/((x - y)*(x + y))"
      ]
     },
     "execution_count": 61,
     "metadata": {},
     "output_type": "execute_result"
    }
   ],
   "source": [
    "sm.together(sm.apart(expr2, x))"
   ]
  },
  {
   "cell_type": "code",
   "execution_count": 62,
   "metadata": {},
   "outputs": [
    {
     "data": {
      "text/latex": [
       "$\\displaystyle \\frac{x^{2} + y^{2}}{x^{2} - y^{2}}$"
      ],
      "text/plain": [
       "(x**2 + y**2)/(x**2 - y**2)"
      ]
     },
     "execution_count": 62,
     "metadata": {},
     "output_type": "execute_result"
    }
   ],
   "source": [
    "sm.cancel(sm.together(sm.apart(expr2, x)))"
   ]
  },
  {
   "cell_type": "markdown",
   "metadata": {},
   "source": [
    "## Решение алгебраических уравнений: solve()"
   ]
  },
  {
   "cell_type": "code",
   "execution_count": 8,
   "metadata": {},
   "outputs": [],
   "source": [
    "import sympy as sm\n",
    "from sympy import init_printing\n",
    "init_printing()                    # красивая математическая печать\n"
   ]
  },
  {
   "cell_type": "code",
   "execution_count": 9,
   "metadata": {},
   "outputs": [],
   "source": [
    "x, y, z, a, b, c, d, e, f = sm.symbols('x, y, z, a, b, c, d, e, f')"
   ]
  },
  {
   "cell_type": "code",
   "execution_count": 11,
   "metadata": {},
   "outputs": [
    {
     "data": {
      "image/png": "[encoded data removed]",
      "text/latex": [
       "$\\displaystyle \\left[ \\frac{- b + \\sqrt{- 4 a c + b^{2}}}{2 a}, \\  - \\frac{b + \\sqrt{- 4 a c + b^{2}}}{2 a}\\right]$"
      ],
      "text/plain": [
       "⎡        _____________   ⎛       _____________⎞ ⎤\n",
       "⎢       ╱           2    ⎜      ╱           2 ⎟ ⎥\n",
       "⎢-b + ╲╱  -4⋅a⋅c + b    -⎝b + ╲╱  -4⋅a⋅c + b  ⎠ ⎥\n",
       "⎢─────────────────────, ────────────────────────⎥\n",
       "⎣         2⋅a                     2⋅a           ⎦"
      ]
     },
     "execution_count": 11,
     "metadata": {},
     "output_type": "execute_result"
    }
   ],
   "source": [
    "# Решение квадратного уравнения\n",
    "sm.solve(a * x ** 2 + b * x + c, x)"
   ]
  },
  {
   "cell_type": "code",
   "execution_count": 13,
   "metadata": {},
   "outputs": [
    {
     "data": {
      "image/png": "[encoded data removed]",
      "text/latex": [
       "$\\displaystyle \\left[ - \\frac{- \\frac{3 c}{a} + \\frac{b^{2}}{a^{2}}}{3 \\sqrt[3]{\\frac{\\sqrt{- 4 \\left(- \\frac{3 c}{a} + \\frac{b^{2}}{a^{2}}\\right)^{3} + \\left(\\frac{27 d}{a} - \\frac{9 b c}{a^{2}} + \\frac{2 b^{3}}{a^{3}}\\right)^{2}}}{2} + \\frac{27 d}{2 a} - \\frac{9 b c}{2 a^{2}} + \\frac{b^{3}}{a^{3}}}} - \\frac{\\sqrt[3]{\\frac{\\sqrt{- 4 \\left(- \\frac{3 c}{a} + \\frac{b^{2}}{a^{2}}\\right)^{3} + \\left(\\frac{27 d}{a} - \\frac{9 b c}{a^{2}} + \\frac{2 b^{3}}{a^{3}}\\right)^{2}}}{2} + \\frac{27 d}{2 a} - \\frac{9 b c}{2 a^{2}} + \\frac{b^{3}}{a^{3}}}}{3} - \\frac{b}{3 a}, \\  - \\frac{- \\frac{3 c}{a} + \\frac{b^{2}}{a^{2}}}{3 \\left(- \\frac{1}{2} - \\frac{\\sqrt{3} i}{2}\\right) \\sqrt[3]{\\frac{\\sqrt{- 4 \\left(- \\frac{3 c}{a} + \\frac{b^{2}}{a^{2}}\\right)^{3} + \\left(\\frac{27 d}{a} - \\frac{9 b c}{a^{2}} + \\frac{2 b^{3}}{a^{3}}\\right)^{2}}}{2} + \\frac{27 d}{2 a} - \\frac{9 b c}{2 a^{2}} + \\frac{b^{3}}{a^{3}}}} - \\frac{\\left(- \\frac{1}{2} - \\frac{\\sqrt{3} i}{2}\\right) \\sqrt[3]{\\frac{\\sqrt{- 4 \\left(- \\frac{3 c}{a} + \\frac{b^{2}}{a^{2}}\\right)^{3} + \\left(\\frac{27 d}{a} - \\frac{9 b c}{a^{2}} + \\frac{2 b^{3}}{a^{3}}\\right)^{2}}}{2} + \\frac{27 d}{2 a} - \\frac{9 b c}{2 a^{2}} + \\frac{b^{3}}{a^{3}}}}{3} - \\frac{b}{3 a}, \\  - \\frac{- \\frac{3 c}{a} + \\frac{b^{2}}{a^{2}}}{3 \\left(- \\frac{1}{2} + \\frac{\\sqrt{3} i}{2}\\right) \\sqrt[3]{\\frac{\\sqrt{- 4 \\left(- \\frac{3 c}{a} + \\frac{b^{2}}{a^{2}}\\right)^{3} + \\left(\\frac{27 d}{a} - \\frac{9 b c}{a^{2}} + \\frac{2 b^{3}}{a^{3}}\\right)^{2}}}{2} + \\frac{27 d}{2 a} - \\frac{9 b c}{2 a^{2}} + \\frac{b^{3}}{a^{3}}}} - \\frac{\\left(- \\frac{1}{2} + \\frac{\\sqrt{3} i}{2}\\right) \\sqrt[3]{\\frac{\\sqrt{- 4 \\left(- \\frac{3 c}{a} + \\frac{b^{2}}{a^{2}}\\right)^{3} + \\left(\\frac{27 d}{a} - \\frac{9 b c}{a^{2}} + \\frac{2 b^{3}}{a^{3}}\\right)^{2}}}{2} + \\frac{27 d}{2 a} - \\frac{9 b c}{2 a^{2}} + \\frac{b^{3}}{a^{3}}}}{3} - \\frac{b}{3 a}\\right]$"
      ],
      "text/plain": [
       "⎡                                                                             \n",
       "⎢                                                                             \n",
       "⎢                                                                             \n",
       "⎢                                                                             \n",
       "⎢                                                                             \n",
       "⎢                                                                             \n",
       "⎢                                                 2                           \n",
       "⎢                                          3⋅c   b                            \n",
       "⎢                                        - ─── + ──                           \n",
       "⎢                                           a     2                           \n",
       "⎢                                                a                            \n",
       "⎢- ───────────────────────────────────────────────────────────────────────────\n",
       "⎢               ______________________________________________________________\n",
       "⎢              ╱        ____________________________________________          \n",
       "⎢             ╱        ╱                 3                        2           \n",
       "⎢            ╱        ╱      ⎛         2⎞    ⎛                  3⎞            \n",
       "⎢           ╱        ╱       ⎜  3⋅c   b ⎟    ⎜27⋅d   9⋅b⋅c   2⋅b ⎟            \n",
       "⎢          ╱        ╱    - 4⋅⎜- ─── + ──⎟  + ⎜──── - ───── + ────⎟            \n",
       "⎢         ╱        ╱         ⎜   a     2⎟    ⎜ a        2      3 ⎟            \n",
       "⎢        ╱       ╲╱          ⎝        a ⎠    ⎝         a      a  ⎠     27⋅d   \n",
       "⎢  3⋅   ╱        ─────────────────────────────────────────────────── + ──── - \n",
       "⎢    3 ╱                                  2                            2⋅a    \n",
       "⎣    ╲╱                                                                       \n",
       "\n",
       "                         _____________________________________________________\n",
       "                        ╱        ____________________________________________ \n",
       "                       ╱        ╱                 3                        2  \n",
       "                      ╱        ╱      ⎛         2⎞    ⎛                  3⎞   \n",
       "                     ╱        ╱       ⎜  3⋅c   b ⎟    ⎜27⋅d   9⋅b⋅c   2⋅b ⎟   \n",
       "                    ╱        ╱    - 4⋅⎜- ─── + ──⎟  + ⎜──── - ───── + ────⎟   \n",
       "                   ╱        ╱         ⎜   a     2⎟    ⎜ a        2      3 ⎟   \n",
       "                  ╱       ╲╱          ⎝        a ⎠    ⎝         a      a  ⎠   \n",
       "                 ╱        ─────────────────────────────────────────────────── \n",
       "              3 ╱                                  2                          \n",
       "              ╲╱                                                              \n",
       "─────────── - ────────────────────────────────────────────────────────────────\n",
       "___________                                            3                      \n",
       "                                                                              \n",
       "                                                                              \n",
       "                                                                              \n",
       "                                                                              \n",
       "                                                                              \n",
       "         3                                                                    \n",
       "9⋅b⋅c   b                                                                     \n",
       "───── + ──                                                                    \n",
       "    2    3                                                                    \n",
       " 2⋅a    a                                                                     \n",
       "\n",
       "____________________                                                          \n",
       "                                                                              \n",
       "                                                                              \n",
       "                                                                              \n",
       "                                                                              \n",
       "                                                                              \n",
       "                  3                                                           \n",
       "  27⋅d   9⋅b⋅c   b                                                           3\n",
       "+ ──── - ───── + ──                                                        - ─\n",
       "  2⋅a        2    3                                                           \n",
       "          2⋅a    a      b                                                     \n",
       "──────────────────── - ───, - ────────────────────────────────────────────────\n",
       "                       3⋅a                              ______________________\n",
       "                                                       ╱        ______________\n",
       "                                                      ╱        ╱              \n",
       "                                                     ╱        ╱      ⎛        \n",
       "                                                    ╱        ╱       ⎜  3⋅c   \n",
       "                                                   ╱        ╱    - 4⋅⎜- ─── + \n",
       "                                                  ╱        ╱         ⎜   a    \n",
       "                                ⎛  1   √3⋅ⅈ⎞     ╱       ╲╱          ⎝        \n",
       "                              3⋅⎜- ─ - ────⎟⋅   ╱        ─────────────────────\n",
       "                                ⎝  2    2  ⎠ 3 ╱                              \n",
       "                                             ╲╱                               \n",
       "\n",
       "                                                                              \n",
       "                                                                             ╱\n",
       "                                                                            ╱ \n",
       "                                                                           ╱  \n",
       "                                                                          ╱   \n",
       "                                                                         ╱    \n",
       "      2                                                                 ╱     \n",
       "⋅c   b                                                ⎛  1   √3⋅ⅈ⎞     ╱      \n",
       "── + ──                                               ⎜- ─ - ────⎟⋅   ╱       \n",
       "a     2                                               ⎝  2    2  ⎠ 3 ╱        \n",
       "     a                                                             ╲╱         \n",
       "─────────────────────────────────────────────────── - ────────────────────────\n",
       "___________________________________________________                           \n",
       "______________________________                                                \n",
       "   3                        2                                                 \n",
       " 2⎞    ⎛                  3⎞                                                  \n",
       "b ⎟    ⎜27⋅d   9⋅b⋅c   2⋅b ⎟                                                  \n",
       "──⎟  + ⎜──── - ───── + ────⎟                                                  \n",
       " 2⎟    ⎜ a        2      3 ⎟                     3                            \n",
       "a ⎠    ⎝         a      a  ⎠     27⋅d   9⋅b⋅c   b                             \n",
       "────────────────────────────── + ──── - ───── + ──                            \n",
       "    2                            2⋅a        2    3                            \n",
       "                                         2⋅a    a                             \n",
       "\n",
       "_________________________________________________________________________     \n",
       "        ____________________________________________                          \n",
       "       ╱                 3                        2                           \n",
       "      ╱      ⎛         2⎞    ⎛                  3⎞                            \n",
       "     ╱       ⎜  3⋅c   b ⎟    ⎜27⋅d   9⋅b⋅c   2⋅b ⎟                            \n",
       "    ╱    - 4⋅⎜- ─── + ──⎟  + ⎜──── - ───── + ────⎟                            \n",
       "   ╱         ⎜   a     2⎟    ⎜ a        2      3 ⎟                     3      \n",
       " ╲╱          ⎝        a ⎠    ⎝         a      a  ⎠     27⋅d   9⋅b⋅c   b       \n",
       " ─────────────────────────────────────────────────── + ──── - ───── + ──      \n",
       "                          2                            2⋅a        2    3      \n",
       "                                                               2⋅a    a      b\n",
       "───────────────────────────────────────────────────────────────────────── - ──\n",
       "                        3                                                   3⋅\n",
       "                                                                              \n",
       "                                                                              \n",
       "                                                                              \n",
       "                                                                              \n",
       "                                                                              \n",
       "                                                                              \n",
       "                                                                              \n",
       "                                                                              \n",
       "                                                                              \n",
       "                                                                              \n",
       "\n",
       "                                                                              \n",
       "                                                                              \n",
       "                                                                              \n",
       "                                                                              \n",
       "                                                                              \n",
       "                                                                              \n",
       "                                                           2                  \n",
       "                                                    3⋅c   b                   \n",
       "                                                  - ─── + ──                  \n",
       "                                                     a     2                  \n",
       "                                                          a                   \n",
       "─, - ─────────────────────────────────────────────────────────────────────────\n",
       "a                              _______________________________________________\n",
       "                              ╱        _______________________________________\n",
       "                             ╱        ╱                 3                     \n",
       "                            ╱        ╱      ⎛         2⎞    ⎛                 \n",
       "                           ╱        ╱       ⎜  3⋅c   b ⎟    ⎜27⋅d   9⋅b⋅c   2⋅\n",
       "                          ╱        ╱    - 4⋅⎜- ─── + ──⎟  + ⎜──── - ───── + ──\n",
       "                         ╱        ╱         ⎜   a     2⎟    ⎜ a        2      \n",
       "       ⎛  1   √3⋅ⅈ⎞     ╱       ╲╱          ⎝        a ⎠    ⎝         a      a\n",
       "     3⋅⎜- ─ + ────⎟⋅   ╱        ──────────────────────────────────────────────\n",
       "       ⎝  2    2  ⎠ 3 ╱                                  2                    \n",
       "                    ╲╱                                                        \n",
       "\n",
       "                                                     _________________________\n",
       "                                                    ╱        _________________\n",
       "                                                   ╱        ╱                 \n",
       "                                                  ╱        ╱      ⎛         2⎞\n",
       "                                                 ╱        ╱       ⎜  3⋅c   b ⎟\n",
       "                                                ╱        ╱    - 4⋅⎜- ─── + ──⎟\n",
       "                                               ╱        ╱         ⎜   a     2⎟\n",
       "                             ⎛  1   √3⋅ⅈ⎞     ╱       ╲╱          ⎝        a ⎠\n",
       "                             ⎜- ─ + ────⎟⋅   ╱        ────────────────────────\n",
       "                             ⎝  2    2  ⎠ 3 ╱                                 \n",
       "                                          ╲╱                                  \n",
       "────────────────────────── - ─────────────────────────────────────────────────\n",
       "__________________________                                                   3\n",
       "_____                                                                         \n",
       "   2                                                                          \n",
       " 3⎞                                                                           \n",
       "b ⎟                                                                           \n",
       "──⎟                                                                           \n",
       "3 ⎟                     3                                                     \n",
       "  ⎠     27⋅d   9⋅b⋅c   b                                                      \n",
       "───── + ──── - ───── + ──                                                     \n",
       "        2⋅a        2    3                                                     \n",
       "                2⋅a    a                                                      \n",
       "\n",
       "________________________________________________      ⎤\n",
       "___________________________                           ⎥\n",
       "3                        2                            ⎥\n",
       "    ⎛                  3⎞                             ⎥\n",
       "    ⎜27⋅d   9⋅b⋅c   2⋅b ⎟                             ⎥\n",
       "  + ⎜──── - ───── + ────⎟                             ⎥\n",
       "    ⎜ a        2      3 ⎟                     3       ⎥\n",
       "    ⎝         a      a  ⎠     27⋅d   9⋅b⋅c   b        ⎥\n",
       "─────────────────────────── + ──── - ───── + ──       ⎥\n",
       " 2                            2⋅a        2    3       ⎥\n",
       "                                      2⋅a    a      b ⎥\n",
       "──────────────────────────────────────────────── - ───⎥\n",
       "                                                   3⋅a⎥\n",
       "                                                      ⎥\n",
       "                                                      ⎥\n",
       "                                                      ⎥\n",
       "                                                      ⎥\n",
       "                                                      ⎥\n",
       "                                                      ⎥\n",
       "                                                      ⎥\n",
       "                                                      ⎥\n",
       "                                                      ⎥\n",
       "                                                      ⎦"
      ]
     },
     "execution_count": 13,
     "metadata": {},
     "output_type": "execute_result"
    }
   ],
   "source": [
    "# Пример с уравнением третьей степени\n",
    "res = sm.solve(a * x ** 3 + b * x ** 2 + c * x + d, x)\n",
    "res"
   ]
  },
  {
   "cell_type": "code",
   "execution_count": 16,
   "metadata": {},
   "outputs": [
    {
     "data": {
      "image/png": "[encoded data removed]",
      "text/latex": [
       "$\\displaystyle - \\frac{- \\frac{3 c}{a} + \\frac{b^{2}}{a^{2}}}{3 \\sqrt[3]{\\frac{\\sqrt{- 4 \\left(- \\frac{3 c}{a} + \\frac{b^{2}}{a^{2}}\\right)^{3} + \\left(\\frac{27 d}{a} - \\frac{9 b c}{a^{2}} + \\frac{2 b^{3}}{a^{3}}\\right)^{2}}}{2} + \\frac{27 d}{2 a} - \\frac{9 b c}{2 a^{2}} + \\frac{b^{3}}{a^{3}}}} - \\frac{\\sqrt[3]{\\frac{\\sqrt{- 4 \\left(- \\frac{3 c}{a} + \\frac{b^{2}}{a^{2}}\\right)^{3} + \\left(\\frac{27 d}{a} - \\frac{9 b c}{a^{2}} + \\frac{2 b^{3}}{a^{3}}\\right)^{2}}}{2} + \\frac{27 d}{2 a} - \\frac{9 b c}{2 a^{2}} + \\frac{b^{3}}{a^{3}}}}{3} - \\frac{b}{3 a}$"
      ],
      "text/plain": [
       "                                                                              \n",
       "                                                                              \n",
       "                                                                              \n",
       "                                                                              \n",
       "                                                                              \n",
       "                                                                              \n",
       "                                                 2                            \n",
       "                                          3⋅c   b                             \n",
       "                                        - ─── + ──                            \n",
       "                                           a     2                            \n",
       "                                                a                             \n",
       "- ────────────────────────────────────────────────────────────────────────────\n",
       "               _______________________________________________________________\n",
       "              ╱        ____________________________________________           \n",
       "             ╱        ╱                 3                        2            \n",
       "            ╱        ╱      ⎛         2⎞    ⎛                  3⎞             \n",
       "           ╱        ╱       ⎜  3⋅c   b ⎟    ⎜27⋅d   9⋅b⋅c   2⋅b ⎟             \n",
       "          ╱        ╱    - 4⋅⎜- ─── + ──⎟  + ⎜──── - ───── + ────⎟             \n",
       "         ╱        ╱         ⎜   a     2⎟    ⎜ a        2      3 ⎟             \n",
       "        ╱       ╲╱          ⎝        a ⎠    ⎝         a      a  ⎠     27⋅d   9\n",
       "  3⋅   ╱        ─────────────────────────────────────────────────── + ──── - ─\n",
       "    3 ╱                                  2                            2⋅a     \n",
       "    ╲╱                                                                        \n",
       "\n",
       "                        ______________________________________________________\n",
       "                       ╱        ____________________________________________  \n",
       "                      ╱        ╱                 3                        2   \n",
       "                     ╱        ╱      ⎛         2⎞    ⎛                  3⎞    \n",
       "                    ╱        ╱       ⎜  3⋅c   b ⎟    ⎜27⋅d   9⋅b⋅c   2⋅b ⎟    \n",
       "                   ╱        ╱    - 4⋅⎜- ─── + ──⎟  + ⎜──── - ───── + ────⎟    \n",
       "                  ╱        ╱         ⎜   a     2⎟    ⎜ a        2      3 ⎟    \n",
       "                 ╱       ╲╱          ⎝        a ⎠    ⎝         a      a  ⎠    \n",
       "                ╱        ─────────────────────────────────────────────────── +\n",
       "             3 ╱                                  2                           \n",
       "             ╲╱                                                               \n",
       "────────── - ─────────────────────────────────────────────────────────────────\n",
       "__________                                            3                       \n",
       "                                                                              \n",
       "                                                                              \n",
       "                                                                              \n",
       "                                                                              \n",
       "                                                                              \n",
       "        3                                                                     \n",
       "⋅b⋅c   b                                                                      \n",
       "──── + ──                                                                     \n",
       "   2    3                                                                     \n",
       "2⋅a    a                                                                      \n",
       "\n",
       "___________________      \n",
       "                         \n",
       "                         \n",
       "                         \n",
       "                         \n",
       "                         \n",
       "                 3       \n",
       " 27⋅d   9⋅b⋅c   b        \n",
       " ──── - ───── + ──       \n",
       " 2⋅a        2    3       \n",
       "         2⋅a    a      b \n",
       "─────────────────── - ───\n",
       "                      3⋅a\n",
       "                         \n",
       "                         \n",
       "                         \n",
       "                         \n",
       "                         \n",
       "                         \n",
       "                         \n",
       "                         \n",
       "                         \n",
       "                         "
      ]
     },
     "execution_count": 16,
     "metadata": {},
     "output_type": "execute_result"
    }
   ],
   "source": [
    "res[0] # первый корень"
   ]
  },
  {
   "cell_type": "code",
   "execution_count": 17,
   "metadata": {},
   "outputs": [
    {
     "data": {
      "image/png": "[encoded data removed]",
      "text/latex": [
       "$\\displaystyle - \\frac{- \\frac{3 c}{a} + \\frac{b^{2}}{a^{2}}}{3 \\left(- \\frac{1}{2} - \\frac{\\sqrt{3} i}{2}\\right) \\sqrt[3]{\\frac{\\sqrt{- 4 \\left(- \\frac{3 c}{a} + \\frac{b^{2}}{a^{2}}\\right)^{3} + \\left(\\frac{27 d}{a} - \\frac{9 b c}{a^{2}} + \\frac{2 b^{3}}{a^{3}}\\right)^{2}}}{2} + \\frac{27 d}{2 a} - \\frac{9 b c}{2 a^{2}} + \\frac{b^{3}}{a^{3}}}} - \\frac{\\left(- \\frac{1}{2} - \\frac{\\sqrt{3} i}{2}\\right) \\sqrt[3]{\\frac{\\sqrt{- 4 \\left(- \\frac{3 c}{a} + \\frac{b^{2}}{a^{2}}\\right)^{3} + \\left(\\frac{27 d}{a} - \\frac{9 b c}{a^{2}} + \\frac{2 b^{3}}{a^{3}}\\right)^{2}}}{2} + \\frac{27 d}{2 a} - \\frac{9 b c}{2 a^{2}} + \\frac{b^{3}}{a^{3}}}}{3} - \\frac{b}{3 a}$"
      ],
      "text/plain": [
       "                                                                              \n",
       "                                                                              \n",
       "                                                                              \n",
       "                                                                              \n",
       "                                                                              \n",
       "                                                                              \n",
       "                                                        2                     \n",
       "                                                 3⋅c   b                      \n",
       "                                               - ─── + ──                     \n",
       "                                                  a     2                     \n",
       "                                                       a                      \n",
       "- ────────────────────────────────────────────────────────────────────────────\n",
       "                            __________________________________________________\n",
       "                           ╱        __________________________________________\n",
       "                          ╱        ╱                 3                        \n",
       "                         ╱        ╱      ⎛         2⎞    ⎛                  3⎞\n",
       "                        ╱        ╱       ⎜  3⋅c   b ⎟    ⎜27⋅d   9⋅b⋅c   2⋅b ⎟\n",
       "                       ╱        ╱    - 4⋅⎜- ─── + ──⎟  + ⎜──── - ───── + ────⎟\n",
       "                      ╱        ╱         ⎜   a     2⎟    ⎜ a        2      3 ⎟\n",
       "    ⎛  1   √3⋅ⅈ⎞     ╱       ╲╱          ⎝        a ⎠    ⎝         a      a  ⎠\n",
       "  3⋅⎜- ─ - ────⎟⋅   ╱        ─────────────────────────────────────────────────\n",
       "    ⎝  2    2  ⎠ 3 ╱                                  2                       \n",
       "                 ╲╱                                                           \n",
       "\n",
       "                                                  ____________________________\n",
       "                                                 ╱        ____________________\n",
       "                                                ╱        ╱                 3  \n",
       "                                               ╱        ╱      ⎛         2⎞   \n",
       "                                              ╱        ╱       ⎜  3⋅c   b ⎟   \n",
       "                                             ╱        ╱    - 4⋅⎜- ─── + ──⎟  +\n",
       "                                            ╱        ╱         ⎜   a     2⎟   \n",
       "                          ⎛  1   √3⋅ⅈ⎞     ╱       ╲╱          ⎝        a ⎠   \n",
       "                          ⎜- ─ - ────⎟⋅   ╱        ───────────────────────────\n",
       "                          ⎝  2    2  ⎠ 3 ╱                                  2 \n",
       "                                       ╲╱                                     \n",
       "─────────────────────── - ────────────────────────────────────────────────────\n",
       "_______________________                                                   3   \n",
       "__                                                                            \n",
       "2                                                                             \n",
       "                                                                              \n",
       "                                                                              \n",
       "                                                                              \n",
       "                     3                                                        \n",
       "     27⋅d   9⋅b⋅c   b                                                         \n",
       "── + ──── - ───── + ──                                                        \n",
       "     2⋅a        2    3                                                        \n",
       "             2⋅a    a                                                         \n",
       "\n",
       "_____________________________________________      \n",
       "________________________                           \n",
       "                      2                            \n",
       " ⎛                  3⎞                             \n",
       " ⎜27⋅d   9⋅b⋅c   2⋅b ⎟                             \n",
       " ⎜──── - ───── + ────⎟                             \n",
       " ⎜ a        2      3 ⎟                     3       \n",
       " ⎝         a      a  ⎠     27⋅d   9⋅b⋅c   b        \n",
       "──────────────────────── + ──── - ───── + ──       \n",
       "                           2⋅a        2    3       \n",
       "                                   2⋅a    a      b \n",
       "───────────────────────────────────────────── - ───\n",
       "                                                3⋅a\n",
       "                                                   \n",
       "                                                   \n",
       "                                                   \n",
       "                                                   \n",
       "                                                   \n",
       "                                                   \n",
       "                                                   \n",
       "                                                   \n",
       "                                                   \n",
       "                                                   "
      ]
     },
     "execution_count": 17,
     "metadata": {},
     "output_type": "execute_result"
    }
   ],
   "source": [
    "res[1] # второй корень и т.д."
   ]
  },
  {
   "cell_type": "markdown",
   "metadata": {},
   "source": [
    "### Функция roots() возвращает корни многочлена с кратностями:"
   ]
  },
  {
   "cell_type": "code",
   "execution_count": 19,
   "metadata": {},
   "outputs": [
    {
     "data": {
      "image/png": "[encoded data removed]",
      "text/latex": [
       "$\\displaystyle \\left\\{ -2 : 1, \\  1 : 2\\right\\}$"
      ],
      "text/plain": [
       "{-2: 1, 1: 2}"
      ]
     },
     "execution_count": 19,
     "metadata": {},
     "output_type": "execute_result"
    }
   ],
   "source": [
    "sm.roots(x ** 3  - 3 * x + 2, x)                  # выводит {корень : кратность, корень : кратность, ...}"
   ]
  },
  {
   "cell_type": "code",
   "execution_count": 21,
   "metadata": {},
   "outputs": [
    {
     "data": {
      "image/png": "[encoded data removed]",
      "text/latex": [
       "$\\displaystyle x + 2$"
      ],
      "text/plain": [
       "x + 2"
      ]
     },
     "execution_count": 21,
     "metadata": {},
     "output_type": "execute_result"
    }
   ],
   "source": [
    "sm.cancel((x ** 3  - 3 * x + 2) / (x - 1) ** 2)"
   ]
  },
  {
   "cell_type": "markdown",
   "metadata": {},
   "source": [
    "## Пределы\n",
    "### Пусть задана числовая последовательность: $$x_n =  \\frac{5n^2 + 2n}{7n^2 - 3n}$$ "
   ]
  },
  {
   "cell_type": "code",
   "execution_count": 23,
   "metadata": {},
   "outputs": [
    {
     "data": {
      "image/png": "[encoded data removed]",
      "text/latex": [
       "$\\displaystyle \\frac{5 n^{2} + 2 n}{7 n^{2} - 3 n}$"
      ],
      "text/plain": [
       "   2      \n",
       "5⋅n  + 2⋅n\n",
       "──────────\n",
       "   2      \n",
       "7⋅n  - 3⋅n"
      ]
     },
     "execution_count": 23,
     "metadata": {},
     "output_type": "execute_result"
    }
   ],
   "source": [
    "n = sm.symbols('n')\n",
    "xn = (5 * n ** 2 + 2 * n) / (7 * n ** 2 - 3 * n)\n",
    "xn"
   ]
  },
  {
   "cell_type": "markdown",
   "metadata": {},
   "source": [
    "### Рассмотрим разность двух последовательных членов $x_{n + 1} - x_n$"
   ]
  },
  {
   "cell_type": "code",
   "execution_count": 25,
   "metadata": {},
   "outputs": [
    {
     "data": {
      "image/png": "[encoded data removed]",
      "text/latex": [
       "$\\displaystyle \\frac{2 n + 5 \\left(n + 1\\right)^{2} + 2}{- 3 n + 7 \\left(n + 1\\right)^{2} - 3}$"
      ],
      "text/plain": [
       "                2    \n",
       " 2⋅n + 5⋅(n + 1)  + 2\n",
       "─────────────────────\n",
       "                2    \n",
       "-3⋅n + 7⋅(n + 1)  - 3"
      ]
     },
     "execution_count": 25,
     "metadata": {},
     "output_type": "execute_result"
    }
   ],
   "source": [
    "xn1 = xn.subs({n : n + 1})\n",
    "xn1"
   ]
  },
  {
   "cell_type": "code",
   "execution_count": 26,
   "metadata": {},
   "outputs": [
    {
     "data": {
      "image/png": "[encoded data removed]",
      "text/latex": [
       "$\\displaystyle - \\frac{29}{49 n^{2} + 7 n - 12}$"
      ],
      "text/plain": [
       "      -29       \n",
       "────────────────\n",
       "    2           \n",
       "49⋅n  + 7⋅n - 12"
      ]
     },
     "execution_count": 26,
     "metadata": {},
     "output_type": "execute_result"
    }
   ],
   "source": [
    "sm.simplify(xn1 - xn)"
   ]
  },
  {
   "cell_type": "code",
   "execution_count": 27,
   "metadata": {},
   "outputs": [
    {
     "data": {
      "image/png": "[encoded data removed]",
      "text/latex": [
       "$\\displaystyle \\frac{29}{7 \\left(7 n + 4\\right)} - \\frac{29}{7 \\left(7 n - 3\\right)}$"
      ],
      "text/plain": [
       "     29            29    \n",
       "─────────── - ───────────\n",
       "7⋅(7⋅n + 4)   7⋅(7⋅n - 3)"
      ]
     },
     "execution_count": 27,
     "metadata": {},
     "output_type": "execute_result"
    }
   ],
   "source": [
    "xnn = sm.apart(sm.simplify(xn1 - xn), n)\n",
    "xnn"
   ]
  },
  {
   "cell_type": "markdown",
   "metadata": {},
   "source": [
    "### Данная последовательность монотонно убывающая.\n",
    "### Вычислим её предел с помощью функции limit():"
   ]
  },
  {
   "cell_type": "code",
   "execution_count": 32,
   "metadata": {},
   "outputs": [
    {
     "name": "stdout",
     "output_type": "stream",
     "text": [
      "Предел последовательность x_n = 5/7.\n"
     ]
    }
   ],
   "source": [
    "lim_xn = sm.limit(xn, n, sm.oo)\n",
    "print(f'Предел последовательность x_n = {lim_xn}.')"
   ]
  },
  {
   "cell_type": "markdown",
   "metadata": {},
   "source": [
    "## Производная\n",
    "### Рассмотрим функцию $y = x^2$, приращение аргумента $dx$ и приращение функции $dy$"
   ]
  },
  {
   "cell_type": "code",
   "execution_count": 39,
   "metadata": {},
   "outputs": [
    {
     "name": "stdout",
     "output_type": "stream",
     "text": [
      "y = x**2, dy = -x**2 + (dx + x)**2\n"
     ]
    }
   ],
   "source": [
    "x, y, dx, dy = sm.symbols('x, y, dx, dy')\n",
    "y = x ** 2\n",
    "dy = y.subs({x: x + dx}) - y\n",
    "print(f'y = {y}, Delta_y = {dy}')"
   ]
  },
  {
   "cell_type": "markdown",
   "metadata": {},
   "source": [
    "### Найдём производную по определению: \n",
    "### $$y'(x) = \\frac{dy}{dx} = \\lim_{\\Delta x\\to 0} \\frac{\\Delta y}{\\Delta x}$$\n"
   ]
  },
  {
   "cell_type": "code",
   "execution_count": 41,
   "metadata": {},
   "outputs": [
    {
     "data": {
      "image/png": "[encoded data removed]",
      "text/latex": [
       "$\\displaystyle 2 x$"
      ],
      "text/plain": [
       "2⋅x"
      ]
     },
     "execution_count": 41,
     "metadata": {},
     "output_type": "execute_result"
    }
   ],
   "source": [
    "dydx = sm.limit(dy / dx, dx, 0)\n",
    "dydx"
   ]
  },
  {
   "cell_type": "code",
   "execution_count": 43,
   "metadata": {},
   "outputs": [
    {
     "data": {
      "image/png": "[encoded data removed]",
      "text/latex": [
       "$\\displaystyle 2 x$"
      ],
      "text/plain": [
       "2⋅x"
      ]
     },
     "execution_count": 43,
     "metadata": {},
     "output_type": "execute_result"
    }
   ],
   "source": [
    "sm.diff(y, x)"
   ]
  },
  {
   "cell_type": "code",
   "execution_count": 48,
   "metadata": {},
   "outputs": [
    {
     "data": {
      "image/png": "[encoded data removed]",
      "text/latex": [
       "$\\displaystyle 1 < x \\wedge x < \\infty$"
      ],
      "text/plain": [
       "1 < x ∧ x < ∞"
      ]
     },
     "execution_count": 48,
     "metadata": {},
     "output_type": "execute_result"
    }
   ],
   "source": [
    "eq = x ** 3 + 2 * x ** 2 - 3\n",
    "sm.solve(eq > 0, x)                  # можно находить промежутки моноттонности"
   ]
  },
  {
   "cell_type": "markdown",
   "metadata": {},
   "source": [
    "# Ряды\n",
    "## Разложение в ряд элементарных функций"
   ]
  },
  {
   "cell_type": "code",
   "execution_count": 49,
   "metadata": {},
   "outputs": [
    {
     "data": {
      "image/png": "[encoded data removed]",
      "text/latex": [
       "$\\displaystyle 1 - \\frac{x^{2}}{2} + \\frac{x^{4}}{24} - \\frac{x^{6}}{720} + O\\left(x^{8}\\right)$"
      ],
      "text/plain": [
       "     2    4     6        \n",
       "    x    x     x     ⎛ 8⎞\n",
       "1 - ── + ── - ─── + O⎝x ⎠\n",
       "    2    24   720        "
      ]
     },
     "execution_count": 49,
     "metadata": {},
     "output_type": "execute_result"
    }
   ],
   "source": [
    "x, y, n = sm.symbols('x, y, n')\n",
    "cosx = sm.series(sm.cos(x), x, n = 8)\n",
    "cosx"
   ]
  },
  {
   "cell_type": "markdown",
   "metadata": {},
   "source": [
    "### Задание. Исследовать функцию $y = \\frac{e^x}{x}$"
   ]
  },
  {
   "cell_type": "code",
   "execution_count": 77,
   "metadata": {},
   "outputs": [
    {
     "data": {
      "image/png": "[encoded data removed]",
      "text/latex": [
       "$\\displaystyle 1 + x + \\frac{x^{2}}{2} + \\frac{x^{3}}{6} + \\frac{x^{4}}{24} + \\frac{x^{5}}{120} + \\frac{x^{6}}{720} + \\frac{x^{7}}{5040} + O\\left(x^{8}\\right)$"
      ],
      "text/plain": [
       "         2    3    4     5     6     7         \n",
       "        x    x    x     x     x     x      ⎛ 8⎞\n",
       "1 + x + ── + ── + ── + ─── + ─── + ──── + O⎝x ⎠\n",
       "        2    6    24   120   720   5040        "
      ]
     },
     "execution_count": 77,
     "metadata": {},
     "output_type": "execute_result"
    }
   ],
   "source": [
    "import numpy as np\n",
    "import matplotlib.pyplot as plt\n",
    "\n",
    "x, y = sm.symbols('x, y')\n",
    "yx = sm.series(sm.exp(x), x, n = 8)\n",
    "yx"
   ]
  },
  {
   "cell_type": "code",
   "execution_count": 81,
   "metadata": {},
   "outputs": [
    {
     "data": {
      "image/png": "[encoded data removed]",
      "text/latex": [
       "$\\displaystyle 0 < x \\wedge x < \\infty$"
      ],
      "text/plain": [
       "0 < x ∧ x < ∞"
      ]
     },
     "execution_count": 81,
     "metadata": {},
     "output_type": "execute_result"
    }
   ],
   "source": [
    "y = sm.exp(x) / x\n",
    "sm.solve(y > 0, x)"
   ]
  },
  {
   "cell_type": "code",
   "execution_count": 65,
   "metadata": {},
   "outputs": [
    {
     "data": {
      "image/png": "[encoded data removed]",
      "text/latex": [
       "$\\displaystyle \\frac{x e^{x} - e^{x}}{x^{2}}$"
      ],
      "text/plain": [
       "   x    x\n",
       "x⋅ℯ  - ℯ \n",
       "─────────\n",
       "     2   \n",
       "    x    "
      ]
     },
     "execution_count": 65,
     "metadata": {},
     "output_type": "execute_result"
    }
   ],
   "source": [
    "dy = y.subs({x: x + dx}) - y\n",
    "dydx = sm.limit(dy / dx, dx, 0)\n",
    "dydx"
   ]
  },
  {
   "cell_type": "code",
   "execution_count": 89,
   "metadata": {},
   "outputs": [
    {
     "data": {
      "text/plain": [
       "<function matplotlib.pyplot.show(close=None, block=None)>"
      ]
     },
     "execution_count": 89,
     "metadata": {},
     "output_type": "execute_result"
    },
    {
     "data": {
      "image/png": "[encoded data removed]",
      "text/plain": [
       "<Figure size 432x288 with 1 Axes>"
      ]
     },
     "metadata": {
      "needs_background": "light"
     },
     "output_type": "display_data"
    }
   ],
   "source": [
    "t = np.linspace(-5, 5, 100)\n",
    "yy = sm.lambdify(x, y, 'numpy')\n",
    "#d2y = sm.diff(y, x, 2)\n",
    "#yy2y = sm.lambdify(x, d2y, 'numpy')\n",
    "plt.plot(t, yy(t), 'g')\n",
    "#plt.plot(t, yy2y(t), 'r-')\n",
    "plt.grid()\n",
    "plt.show"
   ]
  },
  {
   "cell_type": "markdown",
   "metadata": {},
   "source": [
    "# Элементы аналитической геометрии и векторной алгебры\n",
    "\n",
    "## Задача : Дана пирамида с координатами вершин:\n",
    "## $$A_1(-2, -2, -6),\\;A_2(2, -5, 0), A_3(-1, 4, -9), A_4(0, 3, 0)$$\n",
    "\n",
    "## Найти:\n",
    "## 1. Косинус угла $\\alpha$ между плоскостями $A_1A_2A_3$ и $A_2A_3A_4$\n",
    "## 2. Площадь грани $A_1A_2A_3$\n",
    "## 3. Найти объём $V$ пирамиды\n",
    "## 4. Длину высоты $H$, опущенной из вершины $A_4$ на грань $A_1A_2A_3$.\n",
    "## 5. Координаты точки $A_5$ симметричной $A_4$ относительно грани $A_1A_2A_3$.\n",
    "## 6. Координаты точки $A_6$ симметричной $A_4$ относительно прямой $A_2A_3$."
   ]
  },
  {
   "cell_type": "code",
   "execution_count": 92,
   "metadata": {},
   "outputs": [
    {
     "data": {
      "image/png": "[encoded data removed]",
      "text/latex": [
       "$\\displaystyle 3 x + 5 y + 6 z + 3$"
      ],
      "text/plain": [
       "3⋅x + 5⋅y + 6⋅z + 3"
      ]
     },
     "execution_count": 92,
     "metadata": {},
     "output_type": "execute_result"
    }
   ],
   "source": [
    "x, y, z = sm.symbols('x, y, z')\n",
    "expression = 3 * x + 5 * y + 6 * z + 3\n",
    "expression"
   ]
  },
  {
   "cell_type": "code",
   "execution_count": 94,
   "metadata": {},
   "outputs": [
    {
     "data": {
      "image/png": "[encoded data removed]",
      "text/latex": [
       "$\\displaystyle 3$"
      ],
      "text/plain": [
       "3"
      ]
     },
     "execution_count": 94,
     "metadata": {},
     "output_type": "execute_result"
    }
   ],
   "source": [
    "expression.coeff(x)"
   ]
  },
  {
   "cell_type": "code",
   "execution_count": 95,
   "metadata": {},
   "outputs": [
    {
     "data": {
      "image/png": "[encoded data removed]",
      "text/latex": [
       "$\\displaystyle 5$"
      ],
      "text/plain": [
       "5"
      ]
     },
     "execution_count": 95,
     "metadata": {},
     "output_type": "execute_result"
    }
   ],
   "source": [
    "expression.coeff(y)"
   ]
  },
  {
   "cell_type": "markdown",
   "metadata": {},
   "source": [
    "## $x_ 2 - x_1 \\  y_2 - y_1 \\ z_2 - z_1 $\n",
    "## $x_3 - x_1 \\ y_3 - y_1 \\ z_3 - z_1 $  = 0\n",
    "## $x - x_1 \\ \\ \\ y - y_1 \\ \\ \\ z - z_1 $"
   ]
  },
  {
   "cell_type": "code",
   "execution_count": null,
   "metadata": {},
   "outputs": [],
   "source": [
    "## Ручное вычисление определителей для плоскостей \n",
    "## [-2, -2, -6], [2, -5, 0], [-1, 4, -9], [0, 3, 0]\n",
    "## 2 - (-2)      -5 - (-2)    0 - (-6)  =  4   -3     6\n",
    "## -1 - (-2)     4 - (-2)    -9 - (-6)  =  1    6    -3   =  M1\n",
    "## x - (-2)      y - (-2)     z -  (-6) =  x+2  y+2  z+6\n",
    "\n",
    "## -1 - 2  4 + 5  -9 - 0      -3   9  -9\n",
    "##  0 - 2  3 + 5   0 - 0  =   -2   8   0  = M2\n",
    "##  x - 2  y + 5   z - 0     x-2  y+5  z"
   ]
  },
  {
   "cell_type": "code",
   "execution_count": 102,
   "metadata": {},
   "outputs": [],
   "source": [
    "M1 = sm.Matrix([[4, -3, 6], [1, 6, -3], [x + 2, y + 2, z + 6]])\n",
    "M2 = sm.Matrix([[-3, 9, -9], [-2, 8, 0], [x - 2, y + 5, z]])"
   ]
  },
  {
   "cell_type": "code",
   "execution_count": 108,
   "metadata": {},
   "outputs": [
    {
     "data": {
      "image/png": "[encoded data removed]",
      "text/latex": [
       "$\\displaystyle - 27 x + 18 y + 27 z + 144$"
      ],
      "text/plain": [
       "-27⋅x + 18⋅y + 27⋅z + 144"
      ]
     },
     "execution_count": 108,
     "metadata": {},
     "output_type": "execute_result"
    }
   ],
   "source": [
    "exp1= sm.det(M1)\n",
    "exp1"
   ]
  },
  {
   "cell_type": "code",
   "execution_count": 109,
   "metadata": {},
   "outputs": [
    {
     "data": {
      "image/png": "[encoded data removed]",
      "text/latex": [
       "$\\displaystyle 72 x + 18 y - 6 z - 54$"
      ],
      "text/plain": [
       "72⋅x + 18⋅y - 6⋅z - 54"
      ]
     },
     "execution_count": 109,
     "metadata": {},
     "output_type": "execute_result"
    }
   ],
   "source": [
    "exp2 = sm.det(M2)\n",
    "exp2"
   ]
  },
  {
   "cell_type": "code",
   "execution_count": 106,
   "metadata": {},
   "outputs": [],
   "source": [
    "# Плоскости заданы как Ax + By + Cz + D = 0"
   ]
  },
  {
   "cell_type": "code",
   "execution_count": 127,
   "metadata": {},
   "outputs": [],
   "source": [
    "A1, A2 = exp1.coeff(x), exp2.coeff(x)\n",
    "B1, B2 = exp1.coeff(y), exp2.coeff(y)\n",
    "C1, C2 = exp1.coeff(z), exp2.coeff(z)\n",
    "#D1, D2 = exp1.subs({x: 0}).subs({y: 0}).subs({z: 0}), exp2.subs({x: 0}).subs({y: 0}).subs({z: 0})\n"
   ]
  },
  {
   "cell_type": "code",
   "execution_count": 131,
   "metadata": {},
   "outputs": [
    {
     "data": {
      "image/png": "[encoded data removed]",
      "text/latex": [
       "$\\displaystyle 0.566946709513841$"
      ],
      "text/plain": [
       "0.566946709513841"
      ]
     },
     "execution_count": 131,
     "metadata": {},
     "output_type": "execute_result"
    }
   ],
   "source": [
    "cos_alpha = abs(A1 * A2 + B1 * B2 + C1 * C2) / ((A1**2 + B1**2 + C1**2)**(1/2) * (A2**2 + B2**2 + C2**2)**(1/2))\n",
    "cos_alpha"
   ]
  },
  {
   "cell_type": "code",
   "execution_count": 140,
   "metadata": {},
   "outputs": [
    {
     "name": "stdout",
     "output_type": "stream",
     "text": [
      "Угол между плоскостями A₁A₂A₃ и A₂A₃A₄ составляет примерно 55°.\n"
     ]
    }
   ],
   "source": [
    "# Вывод ответа в градусах :)\n",
    "\n",
    "import math\n",
    "res = math.degrees(math.acos(cos_alpha)) \n",
    "print(f'Угол между плоскостями A\\u2081A\\u2082A\\u2083 и A\\u2082A\\u2083A\\u2084 составляет примерно {round(res)}°.')"
   ]
  },
  {
   "cell_type": "markdown",
   "metadata": {},
   "source": [
    "## Задача 1. Найти Косинус угла $\\alpha$ между плоскостями $A_1A_2A_3$ и $A_2A_3A_4$.\n",
    "\n",
    "\n",
    "\n",
    "## _Математическая справка._\n",
    "\n",
    "### Пусть в пространстве заданы три точки, не лежащие на одной прямой. Их координаты:\n",
    "### $$M = (x_1, y_1, z_1);\\\\N = (x_2, y_2, z_2);\\\\K = (x_3, y_3, z_3).$$\n",
    "### Если уравнение плоскости, имеющее вид\n",
    "### $$Ax + By + Cz + D = 0,$$\n",
    "### проходит через три точки, тогда его можно записать через определитель\n",
    "### $$\\begin{vmatrix}\n",
    " x_2 - x_1& y_2 - y_1& z_2 - z_1\\\\\n",
    " x_3 - x_1& y_3 - y_1& z_3 - z_1\\\\\n",
    " x - x_1& y - y_1& z - z_1\n",
    " \\end{vmatrix} = 0.$$\n",
    "#### _Откуда берётся уравнение?_\n",
    "#### _Дополнительно рассматривается точка плоскости с произвольными координатами:_\n",
    "#### $$T = (x, y, z)$$\n",
    "#### _Выбирается любая точка из первой тройки (например, точка M) и из неё проводятся векторы в каждую из трёх оставшихся точек. Получетсятри вектора:_\n",
    "#### $$MN = (x_2 − x_1, y_2 − y_1, z_2 − z_1);\\\\MK = (x_3 − x_1, y_3 − y_1, z_3 − z_1);\\\\MT = (x − x_1, y − y_1, z − z_1).$$"
   ]
  },
  {
   "cell_type": "code",
   "execution_count": 8,
   "metadata": {},
   "outputs": [],
   "source": [
    "import numpy as np\n",
    "import sympy as sm\n",
    "\n",
    "# заданные точки\n",
    "A1 = np.array([[-2, -2, -6],\n",
    "               [2, -5, 0],\n",
    "               [-1, 4, -9]])\n",
    "A2 = np.array([[2, -5, 0],\n",
    "               [-1, 4, -9],\n",
    "               [0, 3, 0]])\n",
    "x, y, z = sm.symbols('x, y, z')\n",
    "\n",
    "# задание матриц соответствующих плоскостей\n",
    "M1_before = np.array([[A1[1][0] - A1[0][0], A1[1][1] - A1[0][1], A1[1][2] - A1[0][2]],\n",
    "                     [A1[2][0] - A1[0][0], A1[2][1] - A1[0][1], A1[2][2] - A1[0][2]],\n",
    "                     [x - A1[0][0], y - A1[0][1], z - A1[0][2]]])\n",
    "M2_before = np.array([[A2[1][0] - A2[0][0], A2[1][1] - A2[0][1], A2[1][2] - A2[0][2]],\n",
    "                     [A2[2][0] - A2[0][0], A2[2][1] - A2[0][1], A2[2][2] - A2[0][2]],\n",
    "                     [x - A2[0][0], y - A2[0][1], z - A2[0][2]]])"
   ]
  },
  {
   "cell_type": "code",
   "execution_count": 9,
   "metadata": {},
   "outputs": [],
   "source": [
    "M1 = sm.Matrix(M1_before)\n",
    "M2 = sm.Matrix(M2_before)"
   ]
  },
  {
   "cell_type": "code",
   "execution_count": 10,
   "metadata": {},
   "outputs": [
    {
     "data": {
      "text/latex": [
       "$\\displaystyle - 27 x + 18 y + 27 z + 144$"
      ],
      "text/plain": [
       "-27*x + 18*y + 27*z + 144"
      ]
     },
     "execution_count": 10,
     "metadata": {},
     "output_type": "execute_result"
    }
   ],
   "source": [
    "# вычисление определителя (плоскость A1A2A3)\n",
    "expr1 = sm.det(M1)\n",
    "expr1"
   ]
  },
  {
   "cell_type": "code",
   "execution_count": 11,
   "metadata": {},
   "outputs": [
    {
     "data": {
      "text/latex": [
       "$\\displaystyle 72 x + 18 y - 6 z - 54$"
      ],
      "text/plain": [
       "72*x + 18*y - 6*z - 54"
      ]
     },
     "execution_count": 11,
     "metadata": {},
     "output_type": "execute_result"
    }
   ],
   "source": [
    "# выичсление определителя (плоскость A2A3A4)\n",
    "expr2 = sm.det(M2)\n",
    "expr2"
   ]
  },
  {
   "cell_type": "code",
   "execution_count": 12,
   "metadata": {},
   "outputs": [],
   "source": [
    "# \"вытаскивание\" коэффициентов \n",
    "A1, A2 = expr1.coeff(x), expr2.coeff(x)\n",
    "B1, B2 = expr1.coeff(y), expr2.coeff(y)\n",
    "C1, C2 = expr1.coeff(z), expr2.coeff(z)"
   ]
  },
  {
   "cell_type": "markdown",
   "metadata": {},
   "source": [
    "### Формула для вычисления косинуса угла:\n",
    "## $$\\cos(\\alpha) = \\frac{\\left|A_1\\cdot A_2 + B_1\\cdot B_2 + C_1\\cdot C_2\\right|}{\\sqrt{A_1^2 + B_1^2 + C_1^2}\\cdot\\sqrt{A_2^2 + B_2^2 + C_2^2}}$$"
   ]
  },
  {
   "cell_type": "code",
   "execution_count": 19,
   "metadata": {},
   "outputs": [
    {
     "data": {
      "text/latex": [
       "$\\displaystyle 0.566946709513841$"
      ],
      "text/plain": [
       "0.566946709513841"
      ]
     },
     "execution_count": 19,
     "metadata": {},
     "output_type": "execute_result"
    }
   ],
   "source": [
    "# вычисление косинуса угла\n",
    "cos_alpha = abs(A1 * A2 + B1 * B2 + C1 * C2) / ((A1**2 + B1**2 + C1**2)**(1/2) * (A2**2 + B2**2 + C2**2)**(1/2))\n",
    "cos_alpha"
   ]
  },
  {
   "cell_type": "code",
   "execution_count": 20,
   "metadata": {},
   "outputs": [
    {
     "name": "stdout",
     "output_type": "stream",
     "text": [
      "Угол между плоскостями A₁A₂A₃ и A₂A₃A₄ составляет примерно 55°.\n"
     ]
    }
   ],
   "source": [
    "# Вывод ответа в градусах :)\n",
    "\n",
    "import math\n",
    "res = math.degrees(math.acos(cos_alpha)) \n",
    "print(f'Угол между плоскостями A\\u2081A\\u2082A\\u2083 и A\\u2082A\\u2083A\\u2084 составляет примерно {round(res)}°.')"
   ]
  },
  {
   "cell_type": "markdown",
   "metadata": {},
   "source": [
    "## Задача 2. Найти площадь грани $A_1A_2A_3$.\n",
    "\n",
    "### Площадь треугольника вычисляется с помощью векторного произведения векторов по формуле:\n",
    "### $$S_{(123)} = \\frac{1}{2}\\cdot\\left|\\left[\\overline{A_1 A_2}\\times\\overline{A_1 A_3}\\right]\\right|.$$\n",
    "### Векторное произведение:\n",
    "### $$\\overline{N} = \\left[\\overline{A_1 A_2}\\times\\overline{A_1 A_3}\\right] = \\begin{vmatrix}\n",
    " \\overline{i}& \\overline{j}& \\overline{k}\\\\\n",
    " x_2 - x_1& y_2 - y_1& z_2 - z_1\\\\\n",
    " x_3 - x_1& y_3 - y_1& z_3 - z_1\n",
    " \\end{vmatrix}  = $$\n",
    "### $$ = \\begin{vmatrix}\n",
    " y_2 - y_1& z_2 - z_1\\\\\n",
    " y_3 - y_1& z_3 - z_1 \n",
    " \\end{vmatrix} \\cdot \\overline{i} - \\begin{vmatrix}\n",
    " x_2 - x_1& z_2 - z_1\\\\\n",
    " x_3 - x_1& z_3 - z_1 \n",
    " \\end{vmatrix} \\cdot \\overline{j} + \\begin{vmatrix}\n",
    " x_2 - x_1& y_2 - y_1\\\\\n",
    " x_3 - x_1& y_3 - y_1 \n",
    " \\end{vmatrix} \\cdot \\overline{k} = \\dots$$"
   ]
  },
  {
   "cell_type": "code",
   "execution_count": 13,
   "metadata": {},
   "outputs": [
    {
     "data": {
      "text/latex": [
       "$\\displaystyle - 27 i + 18 j + 27 k$"
      ],
      "text/plain": [
       "-27*i + 18*j + 27*k"
      ]
     },
     "execution_count": 13,
     "metadata": {},
     "output_type": "execute_result"
    }
   ],
   "source": [
    "i, j, k = sm.symbols('i, j, k')\n",
    "\n",
    "# вычисление векторного произведения\n",
    "N_full = sm.Matrix([[i, j, k],\n",
    "                   [A1[1][0] - A1[0][0], A1[1][1] - A1[0][1], A1[1][2] - A1[0][2]],\n",
    "                   [A1[2][0] - A1[0][0], A1[2][1] - A1[0][1], A1[2][2] - A1[0][2]]])\n",
    "N = sm.det(N_full)\n",
    "N"
   ]
  },
  {
   "cell_type": "code",
   "execution_count": 14,
   "metadata": {},
   "outputs": [
    {
     "data": {
      "text/latex": [
       "$\\displaystyle 42.2137418384109$"
      ],
      "text/plain": [
       "42.2137418384109"
      ]
     },
     "execution_count": 14,
     "metadata": {},
     "output_type": "execute_result"
    }
   ],
   "source": [
    "# вычисление длины N\n",
    "a, b, c = N.coeff(i), N.coeff(j), N.coeff(k)\n",
    "N_lgth = (a ** 2 + b ** 2 + c ** 2) ** (1 / 2)\n",
    "N_lgth"
   ]
  },
  {
   "cell_type": "code",
   "execution_count": 15,
   "metadata": {},
   "outputs": [
    {
     "name": "stdout",
     "output_type": "stream",
     "text": [
      "Площадь грани A₁A₂A₃ равна 21.11 ед².\n"
     ]
    }
   ],
   "source": [
    "# вычисление площади грани A1A2A3\n",
    "S123 = N_lgth / 2\n",
    "print(f'Площадь грани A\\u2081A\\u2082A\\u2083 равна {round(S123, 2)} ед\\u00B2.')"
   ]
  },
  {
   "cell_type": "markdown",
   "metadata": {},
   "source": [
    "## Задача 3. Найти объём $V$ пирамиды.\n",
    "### В аналитической геометрии объем пирамиды традиционно рассчитывается с помощью смешанного произведения векторов:\n",
    "### $$V = \\frac{\\left|p\\right|}{6},$$\n",
    "### $$ \\text{где } p = \\left(\\overline{A_1 A_2}\\cdot\\overline{A_1 A_3}\\cdot\\overline{A_1 A_4}\\right).$$\n",
    "### Другая формула:\n",
    "### $$V = \\frac{1}{3}Sh,$$\n",
    "### где $S$ – площадь грани, $h$ – длина высоты, опущенной к этой грани.\n",
    "\n",
    "## Задача 4. Найти длину высоты $H$, опущенной из вершины $A_4$ на грань $A_1A_2A_3$.\n",
    "### Длина высоты $A_4 H$ находится как расстояние от точки $A_4$ до плоскости $A_1 A_2 A_3$:\n",
    "### $$\\left|A_4 H\\right| = \\rho(A_4; A_1 A_2 A_3) = \\frac{\\left|A x_0 + By_0 + Cz_0 + D\\right|}{\\sqrt{A^2 + B^2 + C^2}}.$$"
   ]
  },
  {
   "cell_type": "code",
   "execution_count": 13,
   "metadata": {},
   "outputs": [
    {
     "data": {
      "text/latex": [
       "$\\displaystyle 144$"
      ],
      "text/plain": [
       "144"
      ]
     },
     "execution_count": 13,
     "metadata": {},
     "output_type": "execute_result"
    }
   ],
   "source": [
    "x0, y0, z0 = 0, 3, 0                               # задание координат точки A4\n",
    "d = expr1.subs({x: 0}).subs({y: 0}).subs({z: 0})   # \"вытаскивание\" коэффицента D\n",
    "d"
   ]
  },
  {
   "cell_type": "code",
   "execution_count": 17,
   "metadata": {},
   "outputs": [
    {
     "data": {
      "text/latex": [
       "$\\displaystyle 4.69041575982343$"
      ],
      "text/plain": [
       "4.69041575982343"
      ]
     },
     "execution_count": 17,
     "metadata": {},
     "output_type": "execute_result"
    }
   ],
   "source": [
    "# нахождение длины высоты H, опущенной из вершины A4 на грань A1A2A3\n",
    "A4H = abs(a * x0 + b * y0 + c * z0 + d) / (a ** 2 + b ** 2 + c ** 2) ** (1 / 2)\n",
    "A4H"
   ]
  },
  {
   "cell_type": "code",
   "execution_count": 18,
   "metadata": {},
   "outputs": [
    {
     "name": "stdout",
     "output_type": "stream",
     "text": [
      "Объём пирамиды V равен 33 ед³.\n"
     ]
    }
   ],
   "source": [
    "# вычисление объёма пирамиды\n",
    "V = (1 / 3) * S123 * A4H\n",
    "print(f'Объём пирамиды V равен {round(V)} ед\\u00B3.')"
   ]
  },
  {
   "cell_type": "markdown",
   "metadata": {},
   "source": [
    "## Задача 5. Найти координаты точки $A_5$, симметричной $A_4$ относительно грани $A_1A_2A_3$.\n",
    "\n",
    "### Прямая, проходящая через точку $A_5(x_5; y_5; z_5)$ и перпендикулярная плоскости $Ax + By + Cz + D = 0$ имеет направляющий вектор $(A; B; C)$ и, значит, представляется симметричными уравнениями:\n",
    "### $$\\frac{x - x_0}{A} = \\frac{y - y_0}{B} = \\frac{z - z_0}{C}.$$"
   ]
  },
  {
   "cell_type": "code",
   "execution_count": 16,
   "metadata": {},
   "outputs": [
    {
     "data": {
      "text/latex": [
       "$\\displaystyle - \\frac{1}{9}$"
      ],
      "text/plain": [
       "-1/9"
      ]
     },
     "execution_count": 16,
     "metadata": {},
     "output_type": "execute_result"
    }
   ],
   "source": [
    "a = expr1.coeff(x)\n",
    "b = expr1.coeff(y)\n",
    "c = expr1.coeff(z)\n",
    "x0, y0, z0 = 0, 3, 0\n",
    "\n",
    "# нахождение параметра t после задания параметрического уравнения \n",
    "t = sm.symbols('t')\n",
    "t1 = a * t + x0           # x из симметричного уравнения\n",
    "t2 = b * t + y0           # y из симметричного уравнения\n",
    "t3 = c * t + z0           # z из симметричного уравнения\n",
    "\n",
    "t_eq = expr1.subs({x: t1}).subs({y: t2}).subs({z: t3})\n",
    "t_param = sm.solve(t_eq, t)\n",
    "t_param[0]"
   ]
  },
  {
   "cell_type": "code",
   "execution_count": 20,
   "metadata": {},
   "outputs": [
    {
     "data": {
      "text/plain": [
       "(3, 1, -3)"
      ]
     },
     "execution_count": 20,
     "metadata": {},
     "output_type": "execute_result"
    }
   ],
   "source": [
    "# нахождение координаты точки N\n",
    "xn = t1.subs({t: t_param[0]})\n",
    "yn = t2.subs({t: t_param[0]})\n",
    "zn = t3.subs({t: t_param[0]})\n",
    "xn, yn, zn"
   ]
  },
  {
   "cell_type": "code",
   "execution_count": 21,
   "metadata": {},
   "outputs": [
    {
     "name": "stdout",
     "output_type": "stream",
     "text": [
      "Точка A₅(6,-1,-6) симметрична точке A₄ относительно грани A₁A₂A₃.\n"
     ]
    }
   ],
   "source": [
    "# Точка N(xn, yn, zn) является серединой отрезка A4A5 \n",
    "x5 = 2 * xn - x0\n",
    "y5 = 2 * yn - y0\n",
    "z5 = 2 * zn - z0\n",
    "print(f'Точка A\\u2085({x5},{y5},{z5}) симметрична точке A\\u2084 относительно грани A\\u2081A\\u2082A\\u2083.')"
   ]
  },
  {
   "cell_type": "markdown",
   "metadata": {},
   "source": [
    "## Задача 6. Найти координаты точки $A_6$, симметричной $A_4$ относительно прямой $A_2A_3$."
   ]
  },
  {
   "cell_type": "code",
   "execution_count": 91,
   "metadata": {},
   "outputs": [
    {
     "data": {
      "text/latex": [
       "$\\displaystyle - 3 x + 9 y - 9 z - 27$"
      ],
      "text/plain": [
       "-3*x + 9*y - 9*z - 27"
      ]
     },
     "execution_count": 91,
     "metadata": {},
     "output_type": "execute_result"
    }
   ],
   "source": [
    "A2 = (2, -5, 0)                                                         # координаты точки A2\n",
    "A3 = (-1, 4, -9) \n",
    "# координаты точки A3\n",
    "x0, y0, z0 = 0, 3, 0\n",
    "n = (A3[0] - A2[0], A3[1] - A2[1], A3[2] - A2[2])                       # вектор нормали\n",
    "plane = n[0] * (x - x0) + n[1] * (y - y0) + n[2] * (z - z0)             # уравнение искомой плоскости\n",
    "plane"
   ]
  },
  {
   "cell_type": "code",
   "execution_count": 93,
   "metadata": {},
   "outputs": [
    {
     "data": {
      "text/latex": [
       "$\\displaystyle \\frac{26}{57}$"
      ],
      "text/plain": [
       "26/57"
      ]
     },
     "execution_count": 93,
     "metadata": {},
     "output_type": "execute_result"
    }
   ],
   "source": [
    "x1 = n[0] * t + A2[0]                                                   # параметрические уравнения\n",
    "y1 = n[1] * t + A2[1]\n",
    "z1 = n[2] * t + A2[2]\n",
    "\n",
    "t_eq = plane.subs({x: x1}).subs({y: y1}).subs({z: z1})                  # подстановка в уравнение плоскости\n",
    "t_param = sm.solve(t_eq, t)                                             # нахождение значения параметра\n",
    "t_param[0]"
   ]
  },
  {
   "cell_type": "code",
   "execution_count": 94,
   "metadata": {},
   "outputs": [
    {
     "data": {
      "text/plain": [
       "(12/19, -17/19, -78/19)"
      ]
     },
     "execution_count": 94,
     "metadata": {},
     "output_type": "execute_result"
    }
   ],
   "source": [
    "# нахождение координат точек пересечения \n",
    "xn = x1.subs({t: t_param[0]})\n",
    "yn = y1.subs({t: t_param[0]})\n",
    "zn = z1.subs({t: t_param[0]})\n",
    "xn, yn, zn"
   ]
  },
  {
   "cell_type": "code",
   "execution_count": 95,
   "metadata": {},
   "outputs": [
    {
     "name": "stdout",
     "output_type": "stream",
     "text": [
      "Точка A₆(24/19, -91/19, -156/19) симметрична точке A₄ относительно прямой A₂A₃.\n"
     ]
    }
   ],
   "source": [
    "# т.к. N(xn, yn, zn) - середина отрезка A4A6, то\n",
    "x6 = 2 * xn - x0\n",
    "y6 = 2 * yn - y0\n",
    "z6 = 2 * zn - z0\n",
    "print(f'Точка A\\u2086({x6}, {y6}, {z6}) симметрична точке A\\u2084 относительно прямой A\\u2082A\\u2083.')"
   ]
  },
  {
   "cell_type": "markdown",
   "metadata": {},
   "source": [
    "## Найти координаты точки $M_2(x_2, y_2, z_2)$, симметричной точке $M_1(x_1, y_1, z_1)$ относительно прямой \n",
    "## $$ \\frac{x - x_0}{m} = \\frac{y - y_0}{n} = \\frac{z - z_0}{p}.$$\n",
    "## 1. Находим уравнение  плоскости, которая перпендикулярна данной прямой и проходит через точку $M_1(x_1, y_1, z_1)$. Так плоскость перпендикулярна заданной прямой, то в качестве ее вектора нормали можно взять направляющий вектор прямой, т.е. \n",
    "## $$\\overline{n} = \\overline{s} = \\{m; n; p\\}.$$\n",
    "## Поэтому уравнение плоскости будет\n",
    "## $$m(x - x_1) + n(y - y_1) + p(z - z_1) = 0.$$\n",
    "\n",
    "## 2. Находим точку $M_3(x_3, y_3, z_3)$ пересечения прямой $\\frac{x - x_0}{m} = \\frac{y - y_0}{n} = \\frac{z - z_0}{p}$ и плоскости $m(x - x_1) + n(y - y_1) + p(z - z_1) = 0$.\n",
    "\n",
    "##  3. Точка $M_3$ является серединой отрезка $M_1 M_2$, где точка $M_2$ является точкой симметричной точке $M_1$, поэтому\n",
    "## $$x_2 = 2x_1 - x_3, y_2 = 2y_1 - y_3, z_2 = 2z_1 - z_3.$$"
   ]
  },
  {
   "cell_type": "code",
   "execution_count": 84,
   "metadata": {},
   "outputs": [
    {
     "data": {
      "text/latex": [
       "$\\displaystyle - 3 x + 9 y - 9 z - 27$"
      ],
      "text/plain": [
       "-3*x + 9*y - 9*z - 27"
      ]
     },
     "execution_count": 84,
     "metadata": {},
     "output_type": "execute_result"
    }
   ],
   "source": [
    "import numpy as np\n",
    "import sympy as sm\n",
    "from sympy import symbols, solve\n",
    "\n",
    "x, y, z, t = symbols('x, y, z, t')\n",
    "\n",
    "M1 = (0, 3, 0)\n",
    "A2 = (2, -5, 0)\n",
    "A3 = (-1, 4, -9)\n",
    "n = (A3[0] - A2[0], A3[1] - A2[1], A3[2] - A2[2])\n",
    "plane = n[0] * (x - M1[0]) + n[1] * (y - M1[1]) + n[2] * (z - M1[2])\n",
    "plane"
   ]
  },
  {
   "cell_type": "code",
   "execution_count": 88,
   "metadata": {},
   "outputs": [
    {
     "data": {
      "text/plain": [
       "(12/19, -17/19, -78/19)"
      ]
     },
     "execution_count": 88,
     "metadata": {},
     "output_type": "execute_result"
    }
   ],
   "source": [
    "# Нахождение координаты точки M3(x3, y3, z3) пересчения прямой и плоскости\n",
    "xx = A2[0] + n[0] * t\n",
    "yy = A2[1] + n[1] * t\n",
    "zz = A2[2] + n[2] * t\n",
    "\n",
    "t_eq = plane.subs({x: xx}).subs({y: yy}).subs({z: zz})\n",
    "t0 = solve(t_eq, t)\n",
    "\n",
    "x3 = A2[0] + n[0] * t0[0]\n",
    "y3 = A2[1] + n[1] * t0[0]\n",
    "z3 = A2[2] + n[2] * t0[0]\n",
    "x3, y3, z3"
   ]
  },
  {
   "cell_type": "code",
   "execution_count": 89,
   "metadata": {},
   "outputs": [
    {
     "data": {
      "text/plain": [
       "(-12/19, 131/19, 78/19)"
      ]
     },
     "execution_count": 89,
     "metadata": {},
     "output_type": "execute_result"
    }
   ],
   "source": [
    "x2 = 2 * M1[0] - x3\n",
    "y2 = 2 * M1[1] - y3\n",
    "z2 = 2 * M1[2] - z3\n",
    "x2, y2, z2"
   ]
  },
  {
   "cell_type": "markdown",
   "metadata": {},
   "source": [
    "## Задача 6."
   ]
  },
  {
   "cell_type": "code",
   "execution_count": 79,
   "metadata": {},
   "outputs": [
    {
     "data": {
      "text/latex": [
       "$\\displaystyle - 3 x + 9 y - 9 z - 27$"
      ],
      "text/plain": [
       "-3*x + 9*y - 9*z - 27"
      ]
     },
     "execution_count": 79,
     "metadata": {},
     "output_type": "execute_result"
    }
   ],
   "source": [
    "import numpy as np\n",
    "from sympy import symbols, solve\n",
    "\n",
    "x, y, z, t = symbols('x, y, z, t')\n",
    "\n",
    "M = (0, 3, 0)\n",
    "M_eq = (2, -5, 0)\n",
    "M_eq2 = (-1, 4, -9)\n",
    "n = (M_eq2[0] - M_eq[0], M_eq2[1] - M_eq[1], M_eq2[2] - M_eq[2])\n",
    "#M = (0, 2, 1)\n",
    "#M_eq = (1.5, 0, 2)\n",
    "#n = (2, -1, 1)\n",
    "plane = n[0] * (x - M[0]) + n[1] * (y - M[1]) + n[2] * (z - M[2])\n",
    "plane"
   ]
  },
  {
   "cell_type": "code",
   "execution_count": 80,
   "metadata": {},
   "outputs": [
    {
     "data": {
      "text/plain": [
       "(2 - 3*t, 9*t - 5, -9*t)"
      ]
     },
     "execution_count": 80,
     "metadata": {},
     "output_type": "execute_result"
    }
   ],
   "source": [
    "# Найдём точку M0, точку пересечения прямой и плоскости\n",
    "# Запишем параметрические уравнения прямой\n",
    "xx = n[0] * t + M_eq[0]\n",
    "yy = n[1] * t + M_eq[1]\n",
    "zz = n[2] * t + M_eq[2]\n",
    "xx, yy, zz"
   ]
  },
  {
   "cell_type": "code",
   "execution_count": 81,
   "metadata": {},
   "outputs": [
    {
     "data": {
      "text/latex": [
       "$\\displaystyle \\frac{26}{57}$"
      ],
      "text/plain": [
       "26/57"
      ]
     },
     "execution_count": 81,
     "metadata": {},
     "output_type": "execute_result"
    }
   ],
   "source": [
    "# Найденные xx, yy, zz подставляются в уравнение плоскости\n",
    "t_eq = plane.subs({x: xx}).subs({y: yy}).subs({z: zz})\n",
    "t_param = solve(t_eq, t)\n",
    "t_param[0]"
   ]
  },
  {
   "cell_type": "code",
   "execution_count": 82,
   "metadata": {},
   "outputs": [
    {
     "data": {
      "text/plain": [
       "(12/19, -17/19, -78/19)"
      ]
     },
     "execution_count": 82,
     "metadata": {},
     "output_type": "execute_result"
    }
   ],
   "source": [
    "# Координаты точки пересечения прямой и плоскости\n",
    "x0 = xx.subs({t: t_param[0]})\n",
    "y0 = yy.subs({t: t_param[0]})\n",
    "z0 = zz.subs({t: t_param[0]})\n",
    "x0, y0, z0"
   ]
  },
  {
   "cell_type": "code",
   "execution_count": 1,
   "metadata": {},
   "outputs": [
    {
     "ename": "NameError",
     "evalue": "name 'x0' is not defined",
     "output_type": "error",
     "traceback": [
      "\u001b[1;31m---------------------------------------------------------------------------\u001b[0m",
      "\u001b[1;31mNameError\u001b[0m                                 Traceback (most recent call last)",
      "\u001b[1;32m<ipython-input-1-146545de2ff3>\u001b[0m in \u001b[0;36m<module>\u001b[1;34m\u001b[0m\n\u001b[0;32m      1\u001b[0m \u001b[1;31m# Так как M0 является серединой отрезка MM', то\u001b[0m\u001b[1;33m\u001b[0m\u001b[1;33m\u001b[0m\u001b[1;33m\u001b[0m\u001b[0m\n\u001b[1;32m----> 2\u001b[1;33m \u001b[0mx2\u001b[0m \u001b[1;33m=\u001b[0m \u001b[1;36m2\u001b[0m \u001b[1;33m*\u001b[0m \u001b[0mx0\u001b[0m \u001b[1;33m-\u001b[0m \u001b[0mM\u001b[0m\u001b[1;33m[\u001b[0m\u001b[1;36m0\u001b[0m\u001b[1;33m]\u001b[0m\u001b[1;33m\u001b[0m\u001b[1;33m\u001b[0m\u001b[0m\n\u001b[0m\u001b[0;32m      3\u001b[0m \u001b[0my2\u001b[0m \u001b[1;33m=\u001b[0m \u001b[1;36m2\u001b[0m \u001b[1;33m*\u001b[0m \u001b[0my0\u001b[0m \u001b[1;33m-\u001b[0m \u001b[0mM\u001b[0m\u001b[1;33m[\u001b[0m\u001b[1;36m1\u001b[0m\u001b[1;33m]\u001b[0m\u001b[1;33m\u001b[0m\u001b[1;33m\u001b[0m\u001b[0m\n\u001b[0;32m      4\u001b[0m \u001b[0mz2\u001b[0m \u001b[1;33m=\u001b[0m \u001b[1;36m2\u001b[0m \u001b[1;33m*\u001b[0m \u001b[0mz0\u001b[0m \u001b[1;33m-\u001b[0m \u001b[0mM\u001b[0m\u001b[1;33m[\u001b[0m\u001b[1;36m2\u001b[0m\u001b[1;33m]\u001b[0m\u001b[1;33m\u001b[0m\u001b[1;33m\u001b[0m\u001b[0m\n\u001b[0;32m      5\u001b[0m \u001b[1;33m\u001b[0m\u001b[0m\n",
      "\u001b[1;31mNameError\u001b[0m: name 'x0' is not defined"
     ]
    }
   ],
   "source": [
    "# Так как M0 является серединой отрезка MM', то\n",
    "x2 = 2 * x0 - M[0]\n",
    "y2 = 2 * y0 - M[1]\n",
    "z2 = 2 * z0 - M[2]\n",
    "\n",
    "print(f'Точка A\\u2086({x2}, {y2}, {z2}) симметрична точке A\\u2084 относительно прямой A\\u2082A\\u2083.')"
   ]
  },
  {
   "cell_type": "markdown",
   "metadata": {},
   "source": [
    "## Задача 7. Найти координаты центра описанной сферы и радиус."
   ]
  },
  {
   "cell_type": "code",
   "execution_count": 6,
   "metadata": {},
   "outputs": [
    {
     "data": {
      "text/latex": [
       "$\\displaystyle - 27 x + 18 y + 27 z + 144$"
      ],
      "text/plain": [
       "-27*x + 18*y + 27*z + 144"
      ]
     },
     "execution_count": 6,
     "metadata": {},
     "output_type": "execute_result"
    }
   ],
   "source": [
    "import numpy as np\n",
    "import sympy as sm\n",
    "\n",
    "A1 = np.array([[-2, -2, -6],\n",
    "                 [2, -5, 0],\n",
    "                 [-1, 4, -9]])\n",
    "x, y, z = sm.symbols('x, y, z')\n",
    "\n",
    "# задание матриц соответствующих плоскостей\n",
    "M_before = np.array([[A1[1][0] - A1[0][0], A1[1][1] - A1[0][1], A1[1][2] - A1[0][2]],\n",
    "                     [A1[2][0] - A1[0][0], A1[2][1] - A1[0][1], A1[2][2] - A1[0][2]],\n",
    "                     [x - A1[0][0], y - A1[0][1], z - A1[0][2]]])\n",
    "expr = sm.det(sm.Matrix(M_before))\n",
    "expr"
   ]
  },
  {
   "cell_type": "code",
   "execution_count": 7,
   "metadata": {},
   "outputs": [
    {
     "data": {
      "text/plain": [
       "(-27, 18, 27)"
      ]
     },
     "execution_count": 7,
     "metadata": {},
     "output_type": "execute_result"
    }
   ],
   "source": [
    "A, B, C = expr.coeff(x), expr.coeff(y), expr.coeff(z)\n",
    "\n",
    "x0 = (abs())"
   ]
  }
 ],
 "metadata": {
  "kernelspec": {
   "display_name": "Python 3",
   "language": "python",
   "name": "python3"
  },
  "language_info": {
   "codemirror_mode": {
    "name": "ipython",
    "version": 3
   },
   "file_extension": ".py",
   "mimetype": "text/x-python",
   "name": "python",
   "nbconvert_exporter": "python",
   "pygments_lexer": "ipython3",
   "version": "3.6.9"
  }
 },
 "nbformat": 4,
 "nbformat_minor": 5
}
