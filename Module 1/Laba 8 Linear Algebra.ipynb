{
 "cells": [
  {
   "cell_type": "code",
   "execution_count": 1,
   "metadata": {},
   "outputs": [],
   "source": [
    "import numpy as np\n",
    "def GaussElim(A,b): # полагаем, что матрица А квадратная и невырожденная\n",
    "    n = len(b)\n",
    "    #x = np.zeros(n) # столбец решения\n",
    "    # Elimination process\n",
    "    for k in range(0, n - 1):\n",
    "        for i in range(k + 1, n):\n",
    "            if A[i, k] != 0.0:\n",
    "                coeff = A[i, k] / A[k, k]\n",
    "                A[i] -= coeff * A[k]\n",
    "                # A[i, k + 1 : n] -= coeff * A[k, k + 1 : n]\n",
    "                b[i] -= coeff * b[k]\n",
    "                \n",
    "    # Back substitution process\n",
    "    \n",
    "    for k in range(n - 1, -1, -1):\n",
    "        #b[k] = (b[k] - np.dot(A[k], b)) / A[k, k]\n",
    "        b[k] = (b[k] - np.dot(A[k, k + 1:n], b[k + 1:n])) / A[k, k]\n",
    "    return A, b"
   ]
  },
  {
   "cell_type": "code",
   "execution_count": 2,
   "metadata": {},
   "outputs": [],
   "source": [
    "def swap_rows(A, i , j):\n",
    "    tmp = A[i].copy()\n",
    "    A[i] = A[j]\n",
    "    A[j] = tmp"
   ]
  },
  {
   "cell_type": "code",
   "execution_count": 2,
   "metadata": {},
   "outputs": [
    {
     "data": {
      "text/plain": [
       "array([[ 2., -8.,  0.,  5.],\n",
       "       [-9.,  9., -7.,  6.],\n",
       "       [-6.,  7.,  3.,  8.],\n",
       "       [-1.,  8.,  5.,  1.]])"
      ]
     },
     "execution_count": 2,
     "metadata": {},
     "output_type": "execute_result"
    }
   ],
   "source": [
    "A = np.array([[2, -8, 0,  5], [-9, 9, -7, 6],[-6, 7, 3, 8],[-1, 8, 5, 1]], dtype=float)\n",
    "A"
   ]
  },
  {
   "cell_type": "code",
   "execution_count": 21,
   "metadata": {},
   "outputs": [
    {
     "data": {
      "text/plain": [
       "array([[ 2., -8.,  0.,  5.],\n",
       "       [-9.,  9., -7.,  6.],\n",
       "       [-6.,  7.,  3.,  8.],\n",
       "       [-1.,  8.,  5.,  1.]])"
      ]
     },
     "execution_count": 21,
     "metadata": {},
     "output_type": "execute_result"
    }
   ],
   "source": [
    "swap_rows(A, 0 , 3)\n",
    "A"
   ]
  },
  {
   "cell_type": "code",
   "execution_count": 3,
   "metadata": {},
   "outputs": [
    {
     "data": {
      "text/plain": [
       "array([ 6., 12., 49., 34.])"
      ]
     },
     "execution_count": 3,
     "metadata": {},
     "output_type": "execute_result"
    }
   ],
   "source": [
    "b = np.array([6, 12, 49, 34], dtype=float)\n",
    "b"
   ]
  },
  {
   "cell_type": "code",
   "execution_count": 5,
   "metadata": {},
   "outputs": [
    {
     "data": {
      "text/plain": [
       "array([[  2.        ,  -8.        ,   0.        ,   5.        ],\n",
       "       [  0.        , -27.        ,  -7.        ,  28.5       ],\n",
       "       [  0.        ,   0.        ,   7.40740741,   5.05555556],\n",
       "       [  0.        ,   0.        ,   0.        ,   5.0175    ]])"
      ]
     },
     "execution_count": 5,
     "metadata": {},
     "output_type": "execute_result"
    }
   ],
   "source": [
    "GaussElim(A,b)[0]"
   ]
  },
  {
   "cell_type": "code",
   "execution_count": 6,
   "metadata": {},
   "outputs": [
    {
     "name": "stdout",
     "output_type": "stream",
     "text": [
      "[[ 2. -1.  0.]\n",
      " [-1.  2. -1.]\n",
      " [ 0. -1.  1.]] [1. 0. 0.]\n"
     ]
    }
   ],
   "source": [
    "A = np.array([[2, -1, 0], [-1, 2, -1],[0, -1, 1]], dtype=float)\n",
    "b = np.array([1, 0, 0], dtype=float)\n",
    "print(A, b)"
   ]
  },
  {
   "cell_type": "code",
   "execution_count": 7,
   "metadata": {},
   "outputs": [
    {
     "data": {
      "text/plain": [
       "(array([[ 2.        , -1.        ,  0.        ],\n",
       "        [ 0.        ,  1.5       , -1.        ],\n",
       "        [ 0.        ,  0.        ,  0.33333333]]),\n",
       " array([1., 1., 1.]))"
      ]
     },
     "execution_count": 7,
     "metadata": {},
     "output_type": "execute_result"
    }
   ],
   "source": [
    "GaussElim(A,b)"
   ]
  },
  {
   "cell_type": "code",
   "execution_count": 10,
   "metadata": {},
   "outputs": [
    {
     "name": "stdout",
     "output_type": "stream",
     "text": [
      "[[-1.  2. -1.]\n",
      " [ 2. -1.  0.]\n",
      " [ 0. -1.  1.]] [0. 1. 0.]\n"
     ]
    }
   ],
   "source": [
    "A = np.array([[2, -1, 0], [-1, 2, -1],[0, -1, 1]], dtype=float)\n",
    "b = np.array([1, 0, 0], dtype=float)\n",
    "swap_rows(A, 0, 1)\n",
    "swap_rows(b, 0, 1)\n",
    "print(A,b)"
   ]
  },
  {
   "cell_type": "code",
   "execution_count": 11,
   "metadata": {},
   "outputs": [
    {
     "data": {
      "text/plain": [
       "(array([[-1.        ,  2.        , -1.        ],\n",
       "        [ 0.        ,  3.        , -2.        ],\n",
       "        [ 0.        ,  0.        ,  0.33333333]]),\n",
       " array([1., 1., 1.]))"
      ]
     },
     "execution_count": 11,
     "metadata": {},
     "output_type": "execute_result"
    }
   ],
   "source": [
    "GaussElim(A,b)"
   ]
  },
  {
   "cell_type": "code",
   "execution_count": 16,
   "metadata": {},
   "outputs": [
    {
     "name": "stdout",
     "output_type": "stream",
     "text": [
      "[[ nan  nan  nan]\n",
      " [ nan -inf  inf]\n",
      " [  0.  -1.   1.]] [nan nan nan]\n"
     ]
    }
   ],
   "source": [
    "swap_rows(A, 0, 2)\n",
    "swap_rows(b, 0, 2)\n",
    "print(A,b)"
   ]
  },
  {
   "cell_type": "code",
   "execution_count": 12,
   "metadata": {},
   "outputs": [
    {
     "data": {
      "text/plain": [
       "array([[-1.        ,  2.        , -1.        ],\n",
       "       [ 0.        ,  3.        , -2.        ],\n",
       "       [ 0.        ,  0.        ,  0.33333333]])"
      ]
     },
     "execution_count": 12,
     "metadata": {},
     "output_type": "execute_result"
    }
   ],
   "source": [
    "A"
   ]
  },
  {
   "cell_type": "code",
   "execution_count": 23,
   "metadata": {},
   "outputs": [
    {
     "data": {
      "text/plain": [
       "(array([[ 2.00000000e-36, -1.00000000e-36,  0.00000000e+00],\n",
       "        [ 0.00000000e+00,  1.50000000e+00, -1.00000000e+00],\n",
       "        [ 0.00000000e+00,  0.00000000e+00,  3.33333333e-01]]),\n",
       " array([1., 1., 1.]))"
      ]
     },
     "execution_count": 23,
     "metadata": {},
     "output_type": "execute_result"
    }
   ],
   "source": [
    "A = np.array([[2, -1, 0], [-1, 2, -1],[0, -1, 1]], dtype=float)\n",
    "b = np.array([1, 0, 0], dtype=float)\n",
    "\n",
    "A[0] *= 1.e-36 # умножим на 10^{-4}\n",
    "b[0] *= 1.e-36\n",
    "GaussElim(A,b)"
   ]
  },
  {
   "cell_type": "code",
   "execution_count": 3,
   "metadata": {},
   "outputs": [],
   "source": [
    "def GaussElimPivot(A,b, eps = 1.0e-10): # полагаем, что матрица А квадратная и невырожденная\n",
    "    n = len(b)\n",
    "    #x = np.zeros(n) # столбец решения\n",
    "    \n",
    "    # Elimination process\n",
    "    for k in range(0, n - 1):\n",
    "        if abs(A[k, k])< eps:\n",
    "            swap_rows(A, A[k:,k].argmax(), k)\n",
    "            swap_rows(b, A[k:,k].argmax(), k)\n",
    "            \n",
    "        for i in range(k + 1, n):\n",
    "            if A[i, k] != 0.0:\n",
    "                coeff = A[i, k] / A[k, k]\n",
    "                A[i] -= coeff * A[k]\n",
    "                # A[i, k + 1 : n] -= coeff * A[k, k + 1 : n]\n",
    "                b[i] -= coeff * b[k]\n",
    "                \n",
    "    # Back substitution process\n",
    "    \n",
    "    for k in range(n - 1, -1, -1):\n",
    "        #b[k] = (b[k] - np.dot(A[k], b)) / A[k, k]\n",
    "        b[k] = (b[k] - np.dot(A[k, k + 1:n], b[k + 1:n])) / A[k, k]\n",
    "    return A, b"
   ]
  },
  {
   "cell_type": "code",
   "execution_count": 26,
   "metadata": {},
   "outputs": [
    {
     "data": {
      "text/plain": [
       "6.0"
      ]
     },
     "execution_count": 26,
     "metadata": {},
     "output_type": "execute_result"
    }
   ],
   "source": [
    "b = np.array([1, 3, 6], dtype=float)\n",
    "max(b) #  максимальный элемент"
   ]
  },
  {
   "cell_type": "code",
   "execution_count": 29,
   "metadata": {},
   "outputs": [
    {
     "data": {
      "text/plain": [
       "2"
      ]
     },
     "execution_count": 29,
     "metadata": {},
     "output_type": "execute_result"
    }
   ],
   "source": [
    "b.argmax() # индекс максимального элемента массива"
   ]
  },
  {
   "cell_type": "code",
   "execution_count": 15,
   "metadata": {},
   "outputs": [
    {
     "data": {
      "text/plain": [
       "(array([[ 2., -8.,  0.,  5.],\n",
       "        [-9.,  9., -7.,  6.],\n",
       "        [-6.,  7.,  3.,  8.],\n",
       "        [-1.,  8.,  5.,  1.]]),\n",
       " array([ 6., 12., 49., 34.]))"
      ]
     },
     "execution_count": 15,
     "metadata": {},
     "output_type": "execute_result"
    }
   ],
   "source": [
    "A = np.array([[2, -8, 0,  5], [-9, 9, -7, 6],[-6, 7, 3, 8],[-1, 8, 5, 1]], dtype=float)\n",
    "b = np.array([6, 12, 49, 34], dtype=float)\n",
    "A, b"
   ]
  },
  {
   "cell_type": "code",
   "execution_count": 16,
   "metadata": {},
   "outputs": [],
   "source": [
    "swap_rows(A, 0, 2)\n",
    "swap_rows(b, 0, 2)"
   ]
  },
  {
   "cell_type": "code",
   "execution_count": 13,
   "metadata": {},
   "outputs": [
    {
     "name": "stderr",
     "output_type": "stream",
     "text": [
      "<ipython-input-1-4c734cff26ed>:9: RuntimeWarning: divide by zero encountered in double_scalars\n",
      "  coeff = A[i, k] / A[k, k]\n",
      "<ipython-input-1-4c734cff26ed>:10: RuntimeWarning: invalid value encountered in multiply\n",
      "  A[i] -= coeff * A[k]\n"
     ]
    },
    {
     "data": {
      "text/plain": [
       "(array([[  0.        ,   0.        ,   6.84126984,   3.95238095],\n",
       "        [  0.        , -63.        , -52.        ,  -3.        ],\n",
       "        [  0.        ,   0.        ,   0.        ,   4.65661253],\n",
       "        [         nan,          nan,          nan,          nan]]),\n",
       " array([nan, nan, nan, nan]))"
      ]
     },
     "execution_count": 13,
     "metadata": {},
     "output_type": "execute_result"
    }
   ],
   "source": [
    "GaussElim(A,b)"
   ]
  },
  {
   "cell_type": "code",
   "execution_count": 17,
   "metadata": {},
   "outputs": [
    {
     "data": {
      "text/plain": [
       "(array([[ -6.        ,   7.        ,   3.        ,   8.        ],\n",
       "        [  0.        ,  -1.5       , -11.5       ,  -6.        ],\n",
       "        [  0.        ,   0.        ,  44.44444444,  30.33333333],\n",
       "        [  0.        ,   0.        ,   0.        ,   5.0175    ]]),\n",
       " array([1., 2., 3., 4.]))"
      ]
     },
     "execution_count": 17,
     "metadata": {},
     "output_type": "execute_result"
    }
   ],
   "source": [
    "GaussElimPivot(A,b, eps = 1.0e-10)"
   ]
  },
  {
   "cell_type": "code",
   "execution_count": 18,
   "metadata": {},
   "outputs": [],
   "source": [
    "import scipy.linalg as la"
   ]
  },
  {
   "cell_type": "code",
   "execution_count": 19,
   "metadata": {},
   "outputs": [
    {
     "name": "stdout",
     "output_type": "stream",
     "text": [
      "Help on function solve_banded in module scipy.linalg.basic:\n",
      "\n",
      "solve_banded(l_and_u, ab, b, overwrite_ab=False, overwrite_b=False, debug=None, check_finite=True)\n",
      "    Solve the equation a x = b for x, assuming a is banded matrix.\n",
      "    \n",
      "    The matrix a is stored in `ab` using the matrix diagonal ordered form::\n",
      "    \n",
      "        ab[u + i - j, j] == a[i,j]\n",
      "    \n",
      "    Example of `ab` (shape of a is (6,6), `u` =1, `l` =2)::\n",
      "    \n",
      "        *    a01  a12  a23  a34  a45\n",
      "        a00  a11  a22  a33  a44  a55\n",
      "        a10  a21  a32  a43  a54   *\n",
      "        a20  a31  a42  a53   *    *\n",
      "    \n",
      "    Parameters\n",
      "    ----------\n",
      "    (l, u) : (integer, integer)\n",
      "        Number of non-zero lower and upper diagonals\n",
      "    ab : (`l` + `u` + 1, M) array_like\n",
      "        Banded matrix\n",
      "    b : (M,) or (M, K) array_like\n",
      "        Right-hand side\n",
      "    overwrite_ab : bool, optional\n",
      "        Discard data in `ab` (may enhance performance)\n",
      "    overwrite_b : bool, optional\n",
      "        Discard data in `b` (may enhance performance)\n",
      "    check_finite : bool, optional\n",
      "        Whether to check that the input matrices contain only finite numbers.\n",
      "        Disabling may give a performance gain, but may result in problems\n",
      "        (crashes, non-termination) if the inputs do contain infinities or NaNs.\n",
      "    \n",
      "    Returns\n",
      "    -------\n",
      "    x : (M,) or (M, K) ndarray\n",
      "        The solution to the system a x = b. Returned shape depends on the\n",
      "        shape of `b`.\n",
      "    \n",
      "    Examples\n",
      "    --------\n",
      "    Solve the banded system a x = b, where::\n",
      "    \n",
      "            [5  2 -1  0  0]       [0]\n",
      "            [1  4  2 -1  0]       [1]\n",
      "        a = [0  1  3  2 -1]   b = [2]\n",
      "            [0  0  1  2  2]       [2]\n",
      "            [0  0  0  1  1]       [3]\n",
      "    \n",
      "    There is one nonzero diagonal below the main diagonal (l = 1), and\n",
      "    two above (u = 2). The diagonal banded form of the matrix is::\n",
      "    \n",
      "             [*  * -1 -1 -1]\n",
      "        ab = [*  2  2  2  2]\n",
      "             [5  4  3  2  1]\n",
      "             [1  1  1  1  *]\n",
      "    \n",
      "    >>> from scipy.linalg import solve_banded\n",
      "    >>> ab = np.array([[0,  0, -1, -1, -1],\n",
      "    ...                [0,  2,  2,  2,  2],\n",
      "    ...                [5,  4,  3,  2,  1],\n",
      "    ...                [1,  1,  1,  1,  0]])\n",
      "    >>> b = np.array([0, 1, 2, 2, 3])\n",
      "    >>> x = solve_banded((1, 2), ab, b)\n",
      "    >>> x\n",
      "    array([-2.37288136,  3.93220339, -4.        ,  4.3559322 , -1.3559322 ])\n",
      "\n"
     ]
    }
   ],
   "source": [
    "help(la.solve_banded)"
   ]
  },
  {
   "cell_type": "markdown",
   "metadata": {},
   "source": [
    "# Пример: Решить методом прогонки и с помощью функции solve_banded\n",
    "# $-14x_1-6x_2=-78$\n",
    "# $-9x_1+15x_2-x_3=-73$\n",
    "# $x_2-11x_3+x_4=-38$\n",
    "# $-7x_3+12x_4+3x_5=77$\n",
    "# $ 6x_4-7x_5=91$"
   ]
  },
  {
   "cell_type": "code",
   "execution_count": 20,
   "metadata": {},
   "outputs": [
    {
     "data": {
      "text/plain": [
       "array([[-14,  -6,   0,   0,   0],\n",
       "       [ -9,  15,  -1,   0,   0],\n",
       "       [  0,   1, -11,   1,   0],\n",
       "       [  0,   0,  -7,  12,   3],\n",
       "       [  0,   0,   0,   6,  -7]])"
      ]
     },
     "execution_count": 20,
     "metadata": {},
     "output_type": "execute_result"
    }
   ],
   "source": [
    "A = np.array([[-14, -6, 0, 0, 0],[-9, 15, -1, 0, 0],[0, 1, -11, 1, 0], \n",
    "              [0,  0, -7, 12, 3], [0, 0, 0, 6, -7]])\n",
    "A"
   ]
  },
  {
   "cell_type": "code",
   "execution_count": 21,
   "metadata": {},
   "outputs": [
    {
     "data": {
      "text/plain": [
       "array([-78, -73, -38,  77,  91])"
      ]
     },
     "execution_count": 21,
     "metadata": {},
     "output_type": "execute_result"
    }
   ],
   "source": [
    "b = np.array([-78, -73, -38, 77, 91])\n",
    "b"
   ]
  },
  {
   "cell_type": "code",
   "execution_count": 38,
   "metadata": {},
   "outputs": [
    {
     "data": {
      "text/plain": [
       "array([[  0.,  -6.,  -1.,   1.,   3.],\n",
       "       [-14.,  15., -11.,  12.,  -7.],\n",
       "       [ -9.,   1.,  -7.,   6.,   0.]])"
      ]
     },
     "execution_count": 38,
     "metadata": {},
     "output_type": "execute_result"
    }
   ],
   "source": [
    "u = np.hstack((np.zeros(1),A.diagonal(1)))\n",
    "l = np.hstack((A.diagonal(-1), np.zeros(1)))\n",
    "d = A.diagonal()\n",
    "ab = np.vstack((u, d, l))\n",
    "ab"
   ]
  },
  {
   "cell_type": "code",
   "execution_count": 39,
   "metadata": {},
   "outputs": [
    {
     "data": {
      "text/plain": [
       "array([ 5.99374122, -0.98539618,  4.27538638, 10.0146464 , -4.41601737])"
      ]
     },
     "execution_count": 39,
     "metadata": {},
     "output_type": "execute_result"
    }
   ],
   "source": [
    "x = la.solve_banded((1,1), ab, b)\n",
    "x"
   ]
  },
  {
   "cell_type": "code",
   "execution_count": 40,
   "metadata": {},
   "outputs": [
    {
     "data": {
      "text/plain": [
       "array([ 5.99374122, -0.98539618,  4.27538638, 10.0146464 , -4.41601737])"
      ]
     },
     "execution_count": 40,
     "metadata": {},
     "output_type": "execute_result"
    }
   ],
   "source": [
    "la.solve(A, b)"
   ]
  },
  {
   "cell_type": "markdown",
   "metadata": {},
   "source": [
    "# ДЗ: 1. Проверить на различных вариантах раблтоспособность GaussElimPivot. Исправить воможные ошибки\n",
    "# 2. Доделать реализацию метода прогонки и сравкнить решение с примером solve_banded\n",
    "# 3. Написать функцию LU-разложения (LU decomposition) матрицы\n",
    "# https://ru.wikipedia.org/wiki/LU-разложение\n",
    "# https://en.wikipedia.org/wiki/LU_decomposition"
   ]
  },
  {
   "cell_type": "code",
   "execution_count": 20,
   "metadata": {},
   "outputs": [],
   "source": [
    "# Lu-разложение \n",
    "import numpy as np"
   ]
  },
  {
   "cell_type": "code",
   "execution_count": 21,
   "metadata": {},
   "outputs": [],
   "source": [
    "\n",
    "A = np.array([[-14, -6, 0, 0, 0],\n",
    "              [-9, 15, -1, 0, 0],\n",
    "              [0, 1, -11, 1, 0], \n",
    "              [0,  0, -7, 12, 3], \n",
    "              [0, 0, 0, 6, -7]])\n",
    "b = np.array([[-78, -73, -38, 77, 91]])\n",
    "n = len(A)\n",
    "b.shape = (n, 1)\n",
    "\n",
    "\"\"\"\n",
    "A = np.array([[1, 0, 0], [330, 660, 0], [0, -330, 1165]])\n",
    "b = np.array([[0, 5, 0]])\"\"\"\n",
    "\n",
    "L, U = np.zeros((n, n)), np.zeros((n, n))"
   ]
  },
  {
   "cell_type": "code",
   "execution_count": 22,
   "metadata": {},
   "outputs": [
    {
     "name": "stdout",
     "output_type": "stream",
     "text": [
      "A =\n",
      " [[-14  -6   0   0   0]\n",
      " [ -9  15  -1   0   0]\n",
      " [  0   1 -11   1   0]\n",
      " [  0   0  -7  12   3]\n",
      " [  0   0   0   6  -7]]\n",
      "x = [[ 5]\n",
      " [ 0]\n",
      " [ 3]\n",
      " [ 9]\n",
      " [-5]]\n"
     ]
    }
   ],
   "source": [
    "def LU(A, L, U, n):\n",
    "    for i in range(n):\n",
    "        U[i][i] = 1\n",
    "        for j in range(i + 1):\n",
    "            sigma = sum(L[i][k] * U[k][j] for k in range(j))\n",
    "            L[i][j] = A[i][j] - sigma\n",
    "        for j in range(i, n):\n",
    "            sigma = sum(L[i][k] * U[k][j] for k in range(j))\n",
    "            U[i][j] = (A[i][j] - sigma) / L[i][i]\n",
    "    print('A =\\n', A)\n",
    "    #print(np.allclose(L @ U, A))\n",
    "    #print(L @ U)\n",
    "    \n",
    "def backsub(b, L, U, n):\n",
    "    x = b\n",
    "    y = b\n",
    "    for r in range(0, n):\n",
    "        sigma = sum(L[r][c] * y[c] for c in range(0, r))\n",
    "        y[r] = (b[r] - sigma) / L[r][r]\n",
    "    \n",
    "    x[n - 1] = y[n - 1] / U[n - 1][n - 1]\n",
    "    \n",
    "    for r in range(n - 2, -1, -1):\n",
    "        sigma = sum(x[c] * U[r][c] for c in range(n - 1, r, -1))\n",
    "        x[r] = (y[r] - sigma) / U[r][r]   \n",
    "    print('x =', x)\n",
    "\n",
    "LU(A, L, U, n)\n",
    "backsub(b, L, U, n)"
   ]
  },
  {
   "cell_type": "code",
   "execution_count": 24,
   "metadata": {},
   "outputs": [],
   "source": [
    "# LU-разложение (ленивый вариант)\n",
    "import numpy as np\n",
    "from scipy.linalg import lu, lu_factor, lu_solve"
   ]
  },
  {
   "cell_type": "code",
   "execution_count": 25,
   "metadata": {},
   "outputs": [
    {
     "data": {
      "text/plain": [
       "True"
      ]
     },
     "execution_count": 25,
     "metadata": {},
     "output_type": "execute_result"
    }
   ],
   "source": [
    "'''\n",
    "*\n",
    "*  A = P L U\n",
    "*  P - матрица перестановок, \n",
    "*  L - нижнетреугольная матрица, \n",
    "*  U - верхнетреугольная матрица\n",
    "*\n",
    "'''\n",
    "\n",
    "A = np.array([[-14, -6, 0, 0, 0],\n",
    "              [-9, 15, -1, 0, 0],\n",
    "              [0, 1, -11, 1, 0], \n",
    "              [0,  0, -7, 12, 3], \n",
    "              [0, 0, 0, 6, -7]])\n",
    "b = np.array([[-78, -73, -38, 77, 91]])\n",
    "b.shape = (5, 1)\n",
    "\n",
    "# https://docs.scipy.org/doc/scipy/reference/generated/scipy.linalg.lu.html\n",
    "\n",
    "P, L, U = lu(A)                              # compute pivoted LU decomposition of a matrix\n",
    "np.allclose(A - P @ L @ U, np.zeros((5, 5)))\n",
    "np.allclose(L @ U, A)"
   ]
  },
  {
   "cell_type": "code",
   "execution_count": 1,
   "metadata": {},
   "outputs": [
    {
     "ename": "NameError",
     "evalue": "name 'lu_factor' is not defined",
     "output_type": "error",
     "traceback": [
      "\u001b[1;31m---------------------------------------------------------------------------\u001b[0m",
      "\u001b[1;31mNameError\u001b[0m                                 Traceback (most recent call last)",
      "\u001b[1;32m<ipython-input-1-cf2319d59335>\u001b[0m in \u001b[0;36m<module>\u001b[1;34m\u001b[0m\n\u001b[0;32m      2\u001b[0m \u001b[1;31m# https://docs.scipy.org/doc/scipy/reference/generated/scipy.linalg.lu_solve.html\u001b[0m\u001b[1;33m\u001b[0m\u001b[1;33m\u001b[0m\u001b[1;33m\u001b[0m\u001b[0m\n\u001b[0;32m      3\u001b[0m \u001b[1;33m\u001b[0m\u001b[0m\n\u001b[1;32m----> 4\u001b[1;33m \u001b[0mLU\u001b[0m\u001b[1;33m,\u001b[0m \u001b[0mp\u001b[0m \u001b[1;33m=\u001b[0m \u001b[0mlu_factor\u001b[0m\u001b[1;33m(\u001b[0m\u001b[0mA\u001b[0m\u001b[1;33m)\u001b[0m                         \u001b[1;31m# compute pivoted LU decomposition of a matrix\u001b[0m\u001b[1;33m\u001b[0m\u001b[1;33m\u001b[0m\u001b[0m\n\u001b[0m\u001b[0;32m      5\u001b[0m \u001b[0mlu_solve\u001b[0m\u001b[1;33m(\u001b[0m\u001b[1;33m(\u001b[0m\u001b[0mLU\u001b[0m\u001b[1;33m,\u001b[0m \u001b[0mp\u001b[0m\u001b[1;33m)\u001b[0m\u001b[1;33m,\u001b[0m \u001b[0mb\u001b[0m\u001b[1;33m)\u001b[0m                         \u001b[1;31m# solve an equation system using the LU factorization of a matrix\u001b[0m\u001b[1;33m\u001b[0m\u001b[1;33m\u001b[0m\u001b[0m\n\u001b[0;32m      6\u001b[0m \u001b[1;33m\u001b[0m\u001b[0m\n",
      "\u001b[1;31mNameError\u001b[0m: name 'lu_factor' is not defined"
     ]
    }
   ],
   "source": [
    "# https://docs.scipy.org/doc/scipy/reference/generated/scipy.linalg.lu_factor.html\n",
    "# https://docs.scipy.org/doc/scipy/reference/generated/scipy.linalg.lu_solve.html\n",
    "\n",
    "LU, p = lu_factor(A)                         # compute pivoted LU decomposition of a matrix\n",
    "lu_solve((LU, p), b)                         # solve an equation system using the LU factorization of a matrix\n",
    "\n",
    "np.linalg.solve(A, b)"
   ]
  },
  {
   "cell_type": "code",
   "execution_count": 2,
   "metadata": {},
   "outputs": [],
   "source": [
    "import numpy as np\n",
    "import scipy.linalg as la"
   ]
  }
 ],
 "metadata": {
  "kernelspec": {
   "display_name": "Python 3",
   "language": "python",
   "name": "python3"
  },
  "language_info": {
   "codemirror_mode": {
    "name": "ipython",
    "version": 3
   },
   "file_extension": ".py",
   "mimetype": "text/x-python",
   "name": "python",
   "nbconvert_exporter": "python",
   "pygments_lexer": "ipython3",
   "version": "3.6.9"
  }
 },
 "nbformat": 4,
 "nbformat_minor": 4
}
