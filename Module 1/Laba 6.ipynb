{
 "cells": [
  {
   "cell_type": "code",
   "execution_count": 2,
   "metadata": {},
   "outputs": [
    {
     "name": "stdout",
     "output_type": "stream",
     "text": [
      "499\n",
      "4\n"
     ]
    }
   ],
   "source": [
    "n=int(input())\n",
    "x=0\n",
    "while(n>0):\n",
    "    n=int(n/5);\n",
    "    x=x+1;\n",
    "print(x)"
   ]
  },
  {
   "cell_type": "code",
   "execution_count": 5,
   "metadata": {},
   "outputs": [
    {
     "name": "stdout",
     "output_type": "stream",
     "text": [
      "499\n",
      "124.75\n"
     ]
    }
   ],
   "source": [
    "res = 0\n",
    "n=int(input())\n",
    "while(n > 0):\n",
    "    n /= 5;\n",
    "    res += n;\n",
    "print(res)"
   ]
  },
  {
   "cell_type": "code",
   "execution_count": 6,
   "metadata": {},
   "outputs": [
    {
     "name": "stdout",
     "output_type": "stream",
     "text": [
      "100 20 4\n"
     ]
    }
   ],
   "source": [
    "n = 500\n",
    "print(n // 5, n // 25, n // 125)"
   ]
  },
  {
   "cell_type": "code",
   "execution_count": 10,
   "metadata": {},
   "outputs": [
    {
     "name": "stdout",
     "output_type": "stream",
     "text": [
      "100 405\n"
     ]
    }
   ],
   "source": [
    "for n in range(5, 1000, 5):\n",
    "    res = n // 5 + n // 25 + n // 125\n",
    "    if res == 100:\n",
    "        break\n",
    "print(res, n)"
   ]
  },
  {
   "cell_type": "raw",
   "metadata": {},
   "source": [
    "1,2,3,4,5,6,7,8,9,10,...20,...,25,.....30,........, 125,...."
   ]
  },
  {
   "cell_type": "markdown",
   "metadata": {},
   "source": [
    "## Вспомним метод половинного деления\n",
    "### для решения нелинейного уравнения $f(x)=0$"
   ]
  },
  {
   "cell_type": "code",
   "execution_count": 9,
   "metadata": {},
   "outputs": [],
   "source": [
    "def solve_dih(a, b, eps, N, f):\n",
    "    if (abs(b - a) < eps) or (f(a) * f(b) > 0.):\n",
    "        print(\"Ошибка ввода, либо неверный отрезок, либо длина меньше точности!\")\n",
    "    else:\n",
    "        for i in range(N):\n",
    "            c = (a + b)/2 # координата середины отрезка\n",
    "            if f(a) * f(c) < 0.:\n",
    "                b = c\n",
    "            elif f(b) * f(c) < 0.:\n",
    "                a = c\n",
    "            else:\n",
    "                print(\"Корень найден с машинным эпсилон! x=\", c, \"и количество итераций:\", i)\n",
    "                return c\n",
    "            \n",
    "            if (abs(b - a) < eps):\n",
    "                print('Корень найден! x=',c, \"и количество итераций:\", i)\n",
    "                return c  \n",
    "    print('Кол-во итераций достигло предельного значения! x=',c)\n",
    "    return c"
   ]
  },
  {
   "cell_type": "code",
   "execution_count": 10,
   "metadata": {},
   "outputs": [
    {
     "name": "stdout",
     "output_type": "stream",
     "text": [
      "Корень найден! x= 1.0000000000000284 и количество итераций: 44\n"
     ]
    },
    {
     "data": {
      "text/plain": [
       "1.0000000000000284"
      ]
     },
     "execution_count": 10,
     "metadata": {},
     "output_type": "execute_result"
    }
   ],
   "source": [
    "def f(x):\n",
    "    return x**3-x**2+3*x-3\n",
    "\n",
    "solve_dih(0, 3., 1.e-13, 100, f)"
   ]
  },
  {
   "cell_type": "code",
   "execution_count": 12,
   "metadata": {},
   "outputs": [
    {
     "data": {
      "text/plain": [
       "<function matplotlib.pyplot.show(close=None, block=None)>"
      ]
     },
     "execution_count": 12,
     "metadata": {},
     "output_type": "execute_result"
    },
    {
     "data": {
      "image/png": "[encoded data removed]",
      "text/plain": [
       "<Figure size 432x288 with 1 Axes>"
      ]
     },
     "metadata": {
      "needs_background": "light"
     },
     "output_type": "display_data"
    }
   ],
   "source": [
    "import matplotlib.pyplot as plt\n",
    "import numpy as np\n",
    "\n",
    "a = 0.\n",
    "b = 3.\n",
    "\n",
    "x = np.linspace(a, b, 101)\n",
    "y = f(x)\n",
    "plt.plot(x, y)\n",
    "plt.xlabel(\"x\")\n",
    "plt.ylabel(\"y\")\n",
    "plt.grid(True)\n",
    "plt.show"
   ]
  },
  {
   "cell_type": "markdown",
   "metadata": {},
   "source": [
    "# Метод Ньютона с применением библиотеки символьной математики Sympy\n",
    "## https://docs.sympy.org/latest/index.html\n",
    "## $x_{n+1} = x_n - \\frac{f(x_n)}{f'(x_n)}$"
   ]
  },
  {
   "cell_type": "code",
   "execution_count": 21,
   "metadata": {},
   "outputs": [],
   "source": [
    "import sympy as sm\n",
    "from sympy import symbols, diff"
   ]
  },
  {
   "cell_type": "code",
   "execution_count": 26,
   "metadata": {},
   "outputs": [],
   "source": [
    "# зададим символьные переменные x, y, z, t\n",
    "x, y, z, t = symbols('x y z t')\n",
    "f = x + 4*y**2 - z * t"
   ]
  },
  {
   "cell_type": "code",
   "execution_count": 29,
   "metadata": {},
   "outputs": [
    {
     "data": {
      "text/latex": [
       "$\\displaystyle - z$"
      ],
      "text/plain": [
       "-z"
      ]
     },
     "execution_count": 29,
     "metadata": {},
     "output_type": "execute_result"
    }
   ],
   "source": [
    "# вычисление производной\n",
    "df = diff(f, t)\n",
    "df"
   ]
  },
  {
   "cell_type": "markdown",
   "metadata": {},
   "source": [
    "## Подстановка значений переменных: _expression_.subs(_symbol_, _value_)"
   ]
  },
  {
   "cell_type": "code",
   "execution_count": 31,
   "metadata": {},
   "outputs": [
    {
     "data": {
      "text/latex": [
       "$\\displaystyle - t z + 4 y^{2} + z^{2}$"
      ],
      "text/plain": [
       "-t*z + 4*y**2 + z**2"
      ]
     },
     "execution_count": 31,
     "metadata": {},
     "output_type": "execute_result"
    }
   ],
   "source": [
    "f.subs(x, z**2)"
   ]
  },
  {
   "cell_type": "code",
   "execution_count": 33,
   "metadata": {},
   "outputs": [
    {
     "data": {
      "text/latex": [
       "$\\displaystyle - z$"
      ],
      "text/plain": [
       "-z"
      ]
     },
     "execution_count": 33,
     "metadata": {},
     "output_type": "execute_result"
    }
   ],
   "source": [
    "df.subs(y, 1)"
   ]
  },
  {
   "cell_type": "markdown",
   "metadata": {},
   "source": [
    "## Преобразование буквенных выражений в функции различных библиотек: lambdify(_symbol_, _expression_, _\"library\"_)"
   ]
  },
  {
   "cell_type": "code",
   "execution_count": 43,
   "metadata": {},
   "outputs": [
    {
     "data": {
      "text/plain": [
       "4"
      ]
     },
     "execution_count": 43,
     "metadata": {},
     "output_type": "execute_result"
    }
   ],
   "source": [
    "f = x**3 - x**2 + 3*x - 3\n",
    "df = diff(f, x)\n",
    "\n",
    "df_n = sm.lambdify(x, df, \"numpy\")\n",
    "f_n = sm.lambdify(x, f, \"numpy\")\n",
    "df_n(1)"
   ]
  },
  {
   "cell_type": "code",
   "execution_count": 40,
   "metadata": {},
   "outputs": [
    {
     "data": {
      "text/latex": [
       "$\\displaystyle 3 x^{2} - 2 x + 3$"
      ],
      "text/plain": [
       "3*x**2 - 2*x + 3"
      ]
     },
     "execution_count": 40,
     "metadata": {},
     "output_type": "execute_result"
    }
   ],
   "source": [
    "df"
   ]
  },
  {
   "cell_type": "code",
   "execution_count": 55,
   "metadata": {},
   "outputs": [
    {
     "data": {
      "image/png": "[encoded data removed]",
      "text/plain": [
       "<Figure size 432x288 with 1 Axes>"
      ]
     },
     "metadata": {
      "needs_background": "light"
     },
     "output_type": "display_data"
    }
   ],
   "source": [
    "# построение графика функции f(x) и её производной:\n",
    "a = 0.\n",
    "b = 10.\n",
    "xx = np.linspace(a, b, 101)\n",
    "yy = f_n(xx)\n",
    "dyy = df_n(xx)\n",
    "\n",
    "plt.plot(xx, yy, label = '$f(x)$', color = 'r')\n",
    "plt.plot(xx, dyy, label = \"$f'(x)$\", color = 'b')\n",
    "plt.xlabel('x')\n",
    "plt.ylabel('y')\n",
    "plt.legend()\n",
    "plt.grid(True)\n",
    "plt.show()"
   ]
  },
  {
   "cell_type": "code",
   "execution_count": 62,
   "metadata": {},
   "outputs": [
    {
     "ename": "SyntaxError",
     "evalue": "invalid syntax (<ipython-input-62-8f2414f5d9cd>, line 13)",
     "output_type": "error",
     "traceback": [
      "\u001b[1;36m  File \u001b[1;32m\"<ipython-input-62-8f2414f5d9cd>\"\u001b[1;36m, line \u001b[1;32m13\u001b[0m\n\u001b[1;33m    if diff(f(x[i - 1]) == 0:\u001b[0m\n\u001b[1;37m                            ^\u001b[0m\n\u001b[1;31mSyntaxError\u001b[0m\u001b[1;31m:\u001b[0m invalid syntax\n"
     ]
    }
   ],
   "source": [
    "import sympy as sm\n",
    "from sympy import symbols, diff\n",
    "\n",
    "def newton(a, b, eps, N, f):\n",
    "    x[0] = (a + b) / 2\n",
    "    if (abs(b - a) < eps) or (f(x[0]) * diff(diff(f(x[0]), x), x) > 0.):\n",
    "        print(\"Ошибка ввода, либо неверный отрезок, либо длина меньше точности!\")\n",
    "    else:\n",
    "        for i in range(N):\n",
    "            x[i] = x[i - 1] - f(x[i - 1])/diff(f(x[i - 1]), x)\n",
    "        print(x[i])\n",
    "        \n",
    "        if diff(f(x[i - 1]) == 0:\n",
    "            break\n",
    "    print('Кол-во итераций достигло предельного значения! x =',c)\n",
    "    return c"
   ]
  },
  {
   "cell_type": "code",
   "execution_count": 59,
   "metadata": {},
   "outputs": [
    {
     "ename": "NameError",
     "evalue": "name 'newton' is not defined",
     "output_type": "error",
     "traceback": [
      "\u001b[1;31m---------------------------------------------------------------------------\u001b[0m",
      "\u001b[1;31mNameError\u001b[0m                                 Traceback (most recent call last)",
      "\u001b[1;32m<ipython-input-59-399725356981>\u001b[0m in \u001b[0;36m<module>\u001b[1;34m\u001b[0m\n\u001b[0;32m      2\u001b[0m     \u001b[1;32mreturn\u001b[0m \u001b[0mx\u001b[0m\u001b[1;33m**\u001b[0m\u001b[1;36m3\u001b[0m\u001b[1;33m-\u001b[0m\u001b[0mx\u001b[0m\u001b[1;33m**\u001b[0m\u001b[1;36m2\u001b[0m\u001b[1;33m+\u001b[0m\u001b[1;36m3\u001b[0m\u001b[1;33m*\u001b[0m\u001b[0mx\u001b[0m\u001b[1;33m-\u001b[0m\u001b[1;36m3\u001b[0m\u001b[1;33m\u001b[0m\u001b[1;33m\u001b[0m\u001b[0m\n\u001b[0;32m      3\u001b[0m \u001b[1;33m\u001b[0m\u001b[0m\n\u001b[1;32m----> 4\u001b[1;33m \u001b[0mnewton\u001b[0m\u001b[1;33m(\u001b[0m\u001b[1;36m0\u001b[0m\u001b[1;33m,\u001b[0m \u001b[1;36m3.\u001b[0m\u001b[1;33m,\u001b[0m \u001b[1;36m1.e-13\u001b[0m\u001b[1;33m,\u001b[0m \u001b[1;36m100\u001b[0m\u001b[1;33m,\u001b[0m \u001b[0mf\u001b[0m\u001b[1;33m)\u001b[0m\u001b[1;33m\u001b[0m\u001b[1;33m\u001b[0m\u001b[0m\n\u001b[0m",
      "\u001b[1;31mNameError\u001b[0m: name 'newton' is not defined"
     ]
    }
   ],
   "source": [
    "def f(x):\n",
    "    return x**3-x**2+3*x-3\n",
    "\n",
    "newton(0, 3., 1.e-13, 100, f)"
   ]
  },
  {
   "cell_type": "code",
   "execution_count": 77,
   "metadata": {},
   "outputs": [
    {
     "name": "stdout",
     "output_type": "stream",
     "text": [
      "Решение найдено после 6 итераций.\n"
     ]
    }
   ],
   "source": [
    "import sympy as sm\n",
    "from sympy import symbols, diff\n",
    "\n",
    "x = symbols(\"x\")\n",
    "f = x**3 - x**2 + 3*x - 3\n",
    "\n",
    "def newton(func, funcderiv, x, n):\n",
    "    \n",
    "    for itercept in range(1, n):\n",
    "        i = x - f/df\n",
    "        x = i\n",
    "        \n",
    "    print(f\"Решение найдено после {n} итераций.\")\n",
    "    \n",
    "newton(f, df, -2, 6)"
   ]
  },
  {
   "cell_type": "code",
   "execution_count": 80,
   "metadata": {},
   "outputs": [
    {
     "name": "stdout",
     "output_type": "stream",
     "text": [
      "Корни для -17.5306413211071 найдены после 10 итераций.\n"
     ]
    }
   ],
   "source": [
    "def newtonsmethod(func, funcderiv, x, n):\n",
    "    \n",
    "    def f(x):\n",
    "        f = eval(func)\n",
    "        return f\n",
    "    \n",
    "    def df(x):\n",
    "        df = eval(funcderiv)\n",
    "        return df\n",
    "    \n",
    "    for itercept in range(1, n):\n",
    "        i = x - (f(x)/df(x))\n",
    "        x = i\n",
    "    print(f\"Корни для {x} найдены после {n} итераций.\")\n",
    "    \n",
    "newtonsmethod(\"x**3 - x**2 - 2\", \"3*x**2 - 2*x\", -10, 10)"
   ]
  },
  {
   "cell_type": "code",
   "execution_count": 43,
   "metadata": {},
   "outputs": [
    {
     "ename": "SyntaxError",
     "evalue": "invalid syntax (<ipython-input-43-65288ec4ff24>, line 21)",
     "output_type": "error",
     "traceback": [
      "\u001b[1;36m  File \u001b[1;32m\"<ipython-input-43-65288ec4ff24>\"\u001b[1;36m, line \u001b[1;32m21\u001b[0m\n\u001b[1;33m    print(\"Корни найдены для после {n} итераций.\")\u001b[0m\n\u001b[1;37m    ^\u001b[0m\n\u001b[1;31mSyntaxError\u001b[0m\u001b[1;31m:\u001b[0m invalid syntax\n"
     ]
    }
   ],
   "source": [
    "import sympy as sm\n",
    "from sympy import symbols, diff\n",
    "\n",
    "arr = [];\n",
    "\n",
    "def newtonsmethod2(x, n, eps = 0.01):\n",
    "    \n",
    "    def f(x):\n",
    "        return x**3-x**2+3*x-3\n",
    "\n",
    "    def df(x):\n",
    "        deriv = diff(f(x), x)\n",
    "        return deriv\n",
    "    \n",
    "    arr[0] = x;\n",
    "    for i in range(1, n):\n",
    "        arr[i] = arr[i - 1] - (f(arr([i - 1])/df(arr([i - 1]))\n",
    "        #x = i\n",
    "        #arr.append(x)\n",
    "        \n",
    "    print(\"Корни найдены для после {n} итераций.\")\n",
    "          \n",
    "newtonsmethod2(-1, 10)"
   ]
  },
  {
   "cell_type": "code",
   "execution_count": 75,
   "metadata": {},
   "outputs": [
    {
     "name": "stdout",
     "output_type": "stream",
     "text": [
      "Решение найдено после 6 итераций.\n",
      "1.4655712318767877\n"
     ]
    },
    {
     "data": {
      "image/png": "[encoded data removed]",
      "text/plain": [
       "<Figure size 432x288 with 1 Axes>"
      ]
     },
     "metadata": {
      "needs_background": "light"
     },
     "output_type": "display_data"
    }
   ],
   "source": [
    "def newton(f, Df, x0, epsilon, max_iter):\n",
    "    \n",
    "    xn = x0\n",
    "    \n",
    "    for n in range(0, max_iter):\n",
    "        fxn = f(xn)\n",
    "        if abs(fxn) < epsilon:\n",
    "            print(f'Решение найдено после {n} итераций.')\n",
    "            return xn\n",
    "        Dfxn = Df(xn)\n",
    "        if Dfxn == 0:\n",
    "            print('Производная равна нулю. Решений нет.')\n",
    "            return None\n",
    "        xn = xn - fxn/Dfxn\n",
    "        \n",
    "    print('Превышено максимально число итераций. Решений нет.')\n",
    "    return None\n",
    "\n",
    "p = lambda x: x**3 - x**2 - 1\n",
    "Dp = lambda x: 3*x**2 - 2*x\n",
    "approx = newton(p, Dp, 1, 1e-10, 10)\n",
    "print(approx)\n",
    "\n",
    "df_n = sm.lambdify(x, df, \"numpy\")\n",
    "f_n = sm.lambdify(x, f, \"numpy\")\n",
    "xx = np.linspace(-3, 5, 101)\n",
    "yy = p(xx)\n",
    "dyy = Dp(xx)\n",
    "plt.plot(xx, yy, label = '$f(x)$', color = 'r')\n",
    "plt.plot(xx, dyy, label = \"$f'(x)$\", color = 'b')\n",
    "plt.xlabel('x')\n",
    "plt.ylabel('y')\n",
    "plt.legend()\n",
    "plt.grid(True)\n",
    "plt.show()"
   ]
  },
  {
   "cell_type": "code",
   "execution_count": 68,
   "metadata": {},
   "outputs": [
    {
     "data": {
      "image/png": "[encoded data removed]",
      "text/plain": [
       "<Figure size 432x288 with 1 Axes>"
      ]
     },
     "metadata": {
      "needs_background": "light"
     },
     "output_type": "display_data"
    }
   ],
   "source": [
    "import matplotlib.pyplot as plt\n",
    "import numpy as np\n",
    "import sympy as sm\n",
    "from sympy import symbols, diff\n",
    "\n",
    "x = symbols(\"x\")\n",
    "f = -x**3 - x**2 + 3*x - 3 # уравнение f(x) = 0\n",
    "eps = 1e-10               # точность\n",
    "df = diff(f, x)\n",
    "\n",
    "df_n = sm.lambdify(x, df, \"numpy\")\n",
    "f_n = sm.lambdify(x, f, \"numpy\")\n",
    "\n",
    "xn = 0.\n",
    "N = 1000\n",
    "\n",
    "for i in range (N):\n",
    "    xN = xn - f_n(xn) / df_n(xn)\n",
    "    if abs(xN - xn) > eps:\n",
    "        xn = xN\n",
    "    else:\n",
    "        break\n",
    "        \n",
    "xx = np.linspace(-3, 5, 101)\n",
    "yy = f_n(xx)\n",
    "dyy = df_n(xx)\n",
    "\n",
    "plt.plot(xx, yy, label = '$f(x)$', color = 'r')\n",
    "plt.plot(xx, dyy, label = \"$f'(x)$\", color = 'b')\n",
    "plt.xlabel('x')\n",
    "plt.ylabel('y')\n",
    "plt.legend()\n",
    "plt.grid(True)\n",
    "plt.show()"
   ]
  }
 ],
 "metadata": {
  "kernelspec": {
   "display_name": "Python 3",
   "language": "python",
   "name": "python3"
  },
  "language_info": {
   "codemirror_mode": {
    "name": "ipython",
    "version": 3
   },
   "file_extension": ".py",
   "mimetype": "text/x-python",
   "name": "python",
   "nbconvert_exporter": "python",
   "pygments_lexer": "ipython3",
   "version": "3.6.9"
  }
 },
 "nbformat": 4,
 "nbformat_minor": 4
}
