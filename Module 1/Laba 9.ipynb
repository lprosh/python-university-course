{
 "cells": [
  {
   "cell_type": "code",
   "execution_count": 1,
   "metadata": {},
   "outputs": [],
   "source": [
    "import numpy as np\n",
    "import scipy.linalg as la"
   ]
  },
  {
   "cell_type": "markdown",
   "metadata": {},
   "source": [
    "# Проверим для следующей СЛАУ: $Ax=b$"
   ]
  },
  {
   "cell_type": "code",
   "execution_count": 2,
   "metadata": {},
   "outputs": [
    {
     "data": {
      "text/plain": [
       "(array([[ 2., -8.,  0.,  5.],\n",
       "        [-9.,  9., -7.,  6.],\n",
       "        [-6.,  7.,  3.,  8.],\n",
       "        [-1.,  8.,  5.,  1.]]),\n",
       " array([-40., -58., -75.,  -1.]))"
      ]
     },
     "execution_count": 2,
     "metadata": {},
     "output_type": "execute_result"
    }
   ],
   "source": [
    "A = np.array([[2., -8, 0, 5], [-9, 9, -7, 6], [-6, 7, 3, 8], [-1, 8, 5, 1]])\n",
    "b = np.array([-40., -58, -75, -1])\n",
    "A, b"
   ]
  },
  {
   "cell_type": "code",
   "execution_count": 2,
   "metadata": {},
   "outputs": [],
   "source": [
    "def LU_decomposition(A):\n",
    "    n = len(A)\n",
    "    L = np.eye(n)\n",
    "    U = np.zeros((n, n))\n",
    "    \n",
    "    for i in range(0, n):\n",
    "        for j in range(0, i):\n",
    "            L[i, j] = (A[i, j] - np.dot(L[i, 0:j], U[0:j, j])) / U[j, j]\n",
    "        for j in range(i, n):\n",
    "            U[i, j] = A[i, j] - np.dot(L[i, 0:i], U[0:i, j])\n",
    "\n",
    "    return (L, U)"
   ]
  },
  {
   "cell_type": "code",
   "execution_count": 4,
   "metadata": {},
   "outputs": [
    {
     "data": {
      "text/plain": [
       "(array([[ 1.        ,  0.        ,  0.        ,  0.        ],\n",
       "        [-4.5       ,  1.        ,  0.        ,  0.        ],\n",
       "        [-3.        ,  0.62962963,  1.        ,  0.        ],\n",
       "        [-0.5       , -0.14814815,  0.535     ,  1.        ]]),\n",
       " array([[  2.        ,  -8.        ,   0.        ,   5.        ],\n",
       "        [  0.        , -27.        ,  -7.        ,  28.5       ],\n",
       "        [  0.        ,   0.        ,   7.40740741,   5.05555556],\n",
       "        [  0.        ,   0.        ,   0.        ,   5.0175    ]]))"
      ]
     },
     "execution_count": 4,
     "metadata": {},
     "output_type": "execute_result"
    }
   ],
   "source": [
    "L1, U1 = LU_decomposition(A)  # P^-1A= LU\n",
    "L1, U1"
   ]
  },
  {
   "cell_type": "markdown",
   "metadata": {},
   "source": [
    "# Сравним с функцией из модуля Scipy.linalg"
   ]
  },
  {
   "cell_type": "code",
   "execution_count": 5,
   "metadata": {},
   "outputs": [
    {
     "data": {
      "text/plain": [
       "(array([[0., 0., 0., 1.],\n",
       "        [1., 0., 0., 0.],\n",
       "        [0., 0., 1., 0.],\n",
       "        [0., 1., 0., 0.]]),\n",
       " array([[ 1.        ,  0.        ,  0.        ,  0.        ],\n",
       "        [ 0.11111111,  1.        ,  0.        ,  0.        ],\n",
       "        [ 0.66666667,  0.14285714,  1.        ,  0.        ],\n",
       "        [-0.22222222, -0.85714286,  0.49651972,  1.        ]]),\n",
       " array([[-9.        ,  9.        , -7.        ,  6.        ],\n",
       "        [ 0.        ,  7.        ,  5.77777778,  0.33333333],\n",
       "        [ 0.        ,  0.        ,  6.84126984,  3.95238095],\n",
       "        [ 0.        ,  0.        ,  0.        ,  4.65661253]]))"
      ]
     },
     "execution_count": 5,
     "metadata": {},
     "output_type": "execute_result"
    }
   ],
   "source": [
    "P, L2, U2 = la.lu(A)\n",
    "P, L2, U2"
   ]
  },
  {
   "cell_type": "code",
   "execution_count": 3,
   "metadata": {},
   "outputs": [
    {
     "data": {
      "text/plain": [
       "(array([[-9.        ,  9.        , -7.        ,  6.        ],\n",
       "        [ 0.11111111,  7.        ,  5.77777778,  0.33333333],\n",
       "        [ 0.66666667,  0.14285714,  6.84126984,  3.95238095],\n",
       "        [-0.22222222, -0.85714286,  0.49651972,  4.65661253]]),\n",
       " array([1, 3, 2, 0]))"
      ]
     },
     "execution_count": 3,
     "metadata": {},
     "output_type": "execute_result"
    }
   ],
   "source": [
    "LU_Pivot(A)"
   ]
  },
  {
   "cell_type": "code",
   "execution_count": 6,
   "metadata": {},
   "outputs": [],
   "source": [
    "# LU разложение со сменой строк\n",
    "import numpy as np\n",
    "from numpy import abs, argmax, array, zeros, dot\n",
    "\n",
    "def swap_rows(A, i , j):\n",
    "    tmp = A[i].copy()\n",
    "    A[i] = A[j]\n",
    "    A[j] = tmp\n",
    "    \n",
    "def LU_Pivot(A, eps = 1.0e-10):\n",
    "    \n",
    "    n = len(A)\n",
    "    perm = array(range(n))\n",
    "    P = np.zeros((n,n))\n",
    "    L = np.eye(n)\n",
    "    U = np.zeros((n,n))\n",
    "    \n",
    "    # Сохраним коэф.нормировки в массив\n",
    "    s = zeros((n), dtype=float)\n",
    "    for i in range(n):\n",
    "        s[i] = max(abs(A[i, :]))\n",
    "    \n",
    "    for k in range(0, n-1):\n",
    "        # Меняем строки при необходимости\n",
    "        p = int(argmax(abs(A[k:n, k])/s[k:n])) + k\n",
    "        if abs(A[p, k]) < eps:\n",
    "            print('Матрица вырождена!')\n",
    "            return np.zeros(n), np.zeros(n)\n",
    "        if p != k:\n",
    "            swap_rows(A, k, p)\n",
    "            swap_rows(s, k, p)\n",
    "            swap_rows(perm, k, p)\n",
    "        # Исключение\n",
    "    \n",
    "        for i in range(k+1, n):\n",
    "            if A[i, k] != 0.:\n",
    "                l_el = A[i,k]/ A[k,k]\n",
    "                A[i, k+1:n] = A[i, k+1:n] - l_el * A[k, k+1:n]\n",
    "                A[i,k] = l_el\n",
    "                \n",
    "        for k in range(n):\n",
    "            P[k, perm[k]] = 1\n",
    "\n",
    "        for k in range(n):\n",
    "            L[k + 1 : n, k] = A[k + 1 : n, k]\n",
    "            U[k, k : n] = A[k, k : n]\n",
    "            \n",
    "    return P, L, U, A # возвращаем LU и вектор перестановок"
   ]
  },
  {
   "cell_type": "code",
   "execution_count": 7,
   "metadata": {},
   "outputs": [],
   "source": [
    "def MyLU_solve(A, b):\n",
    "    n = len(A)\n",
    "    x, y = zeros(n), zeros(n)\n",
    "    P, L, U, matrix = LU_Pivot(A)\n",
    "    b = P@b.T\n",
    "    print(b)\n",
    "\n",
    "    for i in range(n):\n",
    "        y[i] = b[i] - dot(L[i, :i], y[:i])\n",
    "    print(y)\n",
    "    \n",
    "    x[n-1] = y[n-1] / U[n-1, n-1]\n",
    "    \n",
    "    for i in range(n - 2, -1, -1):\n",
    "        x[i] = (y[i] - dot(U[i, i + 1:], x[i + 1:]))/U[i, i]\n",
    "        \n",
    "    return x"
   ]
  },
  {
   "cell_type": "code",
   "execution_count": 8,
   "metadata": {},
   "outputs": [
    {
     "name": "stdout",
     "output_type": "stream",
     "text": [
      "[-58. -41. -75. -41.]\n",
      "[-58.         -34.55555556 -31.3968254  -67.9187935 ]\n"
     ]
    },
    {
     "data": {
      "text/plain": [
       "array([-13.67264574,  -7.40906826,   3.83707025, -14.58545092])"
      ]
     },
     "execution_count": 8,
     "metadata": {},
     "output_type": "execute_result"
    }
   ],
   "source": [
    "A = np.array([[2., -8, 0, 5], [-9, 9, -7, 6], [-6, 7, 3, 8], [-1, 8, 5, 1]])\n",
    "b = np.array([-40., -58, -75, -1])\n",
    "MyLU_solve(A, b)"
   ]
  },
  {
   "cell_type": "markdown",
   "metadata": {},
   "source": [
    "# LU разложение в библиотеке Sympy "
   ]
  },
  {
   "cell_type": "code",
   "execution_count": 9,
   "metadata": {},
   "outputs": [],
   "source": [
    "# Sympy\n",
    "from sympy import Matrix\n",
    "import sympy as sm"
   ]
  },
  {
   "cell_type": "code",
   "execution_count": 7,
   "metadata": {},
   "outputs": [
    {
     "data": {
      "text/latex": [
       "$\\displaystyle \\left[\\begin{matrix}2 & -8 & 0 & 5\\\\-9 & 9 & -7 & 6\\\\-6 & 7 & 3 & 8\\\\-1 & 8 & 5 & 1\\end{matrix}\\right]$"
      ],
      "text/plain": [
       "Matrix([\n",
       "[ 2, -8,  0, 5],\n",
       "[-9,  9, -7, 6],\n",
       "[-6,  7,  3, 8],\n",
       "[-1,  8,  5, 1]])"
      ]
     },
     "execution_count": 7,
     "metadata": {},
     "output_type": "execute_result"
    }
   ],
   "source": [
    "A = Matrix([[2, -8, 0, 5], [-9, 9, -7, 6], [-6, 7, 3, 8], [-1, 8, 5, 1]])\n",
    "A"
   ]
  },
  {
   "cell_type": "code",
   "execution_count": 13,
   "metadata": {},
   "outputs": [
    {
     "data": {
      "text/latex": [
       "$\\displaystyle \\left[\\begin{matrix}1 & 0 & 0 & 0\\\\- \\frac{9}{2} & 1 & 0 & 0\\\\-3 & \\frac{17}{27} & 1 & 0\\\\- \\frac{1}{2} & - \\frac{4}{27} & \\frac{107}{200} & 1\\end{matrix}\\right]$"
      ],
      "text/plain": [
       "Matrix([\n",
       "[   1,     0,       0, 0],\n",
       "[-9/2,     1,       0, 0],\n",
       "[  -3, 17/27,       1, 0],\n",
       "[-1/2, -4/27, 107/200, 1]])"
      ]
     },
     "execution_count": 13,
     "metadata": {},
     "output_type": "execute_result"
    }
   ],
   "source": [
    "Ls, Us, Ps = A.LUdecomposition()\n",
    "Ls"
   ]
  },
  {
   "cell_type": "code",
   "execution_count": 14,
   "metadata": {},
   "outputs": [
    {
     "data": {
      "text/latex": [
       "$\\displaystyle \\left[\\begin{matrix}2 & -8 & 0 & 5\\\\0 & -27 & -7 & \\frac{57}{2}\\\\0 & 0 & \\frac{200}{27} & \\frac{91}{18}\\\\0 & 0 & 0 & \\frac{2007}{400}\\end{matrix}\\right]$"
      ],
      "text/plain": [
       "Matrix([\n",
       "[2,  -8,      0,        5],\n",
       "[0, -27,     -7,     57/2],\n",
       "[0,   0, 200/27,    91/18],\n",
       "[0,   0,      0, 2007/400]])"
      ]
     },
     "execution_count": 14,
     "metadata": {},
     "output_type": "execute_result"
    }
   ],
   "source": [
    "Us"
   ]
  },
  {
   "cell_type": "code",
   "execution_count": 15,
   "metadata": {},
   "outputs": [
    {
     "data": {
      "text/plain": [
       "[]"
      ]
     },
     "execution_count": 15,
     "metadata": {},
     "output_type": "execute_result"
    }
   ],
   "source": [
    "Ps"
   ]
  },
  {
   "cell_type": "markdown",
   "metadata": {},
   "source": [
    "# Д/З:\n",
    "# 1) Дописать модернизированную функцию LU_decomposition, которая будет менять строки при не обходимости и возвращать матрицы $L, U, P$\n",
    "# 2) Написать функцию MyLU_solve(A, b) для решения СЛАУ с применением функции LU_Pivot.\n",
    "# 3) Написать функцию решения СЛАУ методом простой итерации и/или методом Зейделя.\n",
    "# Темы на зачёт:\n",
    "## 1) Численное решение нелинейных уравнений $f(x)=0$ (дихотомия, м. Ньютона) \n",
    "## 2) Задачи на целые числа из 1-й недели онлайн курса\n",
    "## 3) Решение СЛАУ методом Гаусса, LU разложение и решение СЛАУ с помощью LU разложения\n"
   ]
  },
  {
   "cell_type": "code",
   "execution_count": 1,
   "metadata": {},
   "outputs": [
    {
     "name": "stdout",
     "output_type": "stream",
     "text": [
      "[1.3333333333333333, 0.7777777777777778, 0.37037037037037046, 0.8271604938271605]\n",
      "[1.0740740740740742, 0.8271604938271603, 0.14814814814814817, 0.9588477366255145]\n",
      "[1.05761316872428, 0.9122085048010972, 0.0530406950160038, 0.9939033683889651]\n",
      "[1.0292638317329676, 0.962810547172687, 0.01707056851089776, 1.0010161052685058]\n",
      "[1.0123964842757711, 0.9860454876458533, 0.004832145054672073, 1.001430074081601]\n",
      "[1.0046515041180488, 0.9952882822364101, 0.0011139524425101133, 1.00082793762619]\n",
      "[1.0015705725878632, 0.9985816341272544, 0.0001460738438125997, 1.0003754060617067]\n",
      "[1.0004727886242486, 0.9996361163025634, -4.0142430360804816e-05, 1.0001480561860527]\n",
      "[1.0001212945658122, 0.9999325177662454, -4.4795428118564e-05, 1.000052357696664]\n",
      "[1.0000224940779183, 0.9999999357574273, -2.490776314571323e-05, 1.0000166265896213]\n",
      "[1.0000000214141909, 1.000008288311588, -1.1074875662690312e-05, 1.0000046204799125]\n",
      "[0.9999972372294706, 1.0000055334722404, -4.308217954681244e-06, 1.0000010276545563]\n",
      "[0.9999981555092532, 1.0000026657331496, -1.5048767028809824e-06, 1.0000001146734185]\n",
      "[0.9999991114222834, 1.000001094010712, -4.7137237528064685e-07, 0.9999999495780129]\n",
      "[0.9999996353297625, 1.0000004002376168, -1.284610029831749e-07, 0.9999999522281297]\n",
      "[0.9999998665874611, 1.0000001317620268, -2.7446548182356405e-08, 0.999999974377023]\n",
      "[0.9999999560793243, 1.0000000384292997, -2.4383156604912415e-09, 0.9999999888157772]\n",
      "[0.9999999871902334, 1.0000000093526162, 1.7629189589622267e-09, 0.9999999957071819]\n",
      "[0.9999999968824612, 1.0000000014907193, 1.4763060403784796e-09, 0.9999999985188895]\n",
      "[0.9999999995030935, 0.999999999839169, 7.665596675939431e-10, 0.9999999995425705]\n",
      "[1.0000000000536102, 0.99999999970874, 3.2877970716308863e-10, 0.9999999998779002]\n",
      "[1.0000000000970866, 0.9999999998256824, 1.2454937081685102e-10, 0.9999999999750729]\n",
      "[1.0000000000581057, 0.9999999999197464, 4.244290104556588e-11, 0.9999999999984559]\n",
      "[1.0000000000267513, 0.9999999999680181, 1.2918925188879863e-11, 1.000000000002048]\n",
      "[1.0000000000106606, 0.9999999999885866, 3.372709519074609e-12, 1.000000000001556]\n",
      "[1.0000000000038045, 0.9999999999963394, 6.535512871626755e-13, 1.0000000000007845]\n"
     ]
    }
   ],
   "source": [
    "import numpy as np\n",
    "\n",
    "def seidel(a, x ,b):     \n",
    "    n = len(a)                   \n",
    "    for j in range(0, n):        \n",
    "        # временная переменная d для хранения b[j]\n",
    "        d = b[j]                  \n",
    "          \n",
    "        # для вычисления соответствующих xi, yi, zi\n",
    "        for i in range(0, n):     \n",
    "            if(j != i):\n",
    "                d-=a[j][i] * x[i]\n",
    "        # обновление значений решения    \n",
    "        x[j] = d / a[j][j]      \n",
    "    return x    \n",
    "                 \n",
    "x = [0.0, 0.0, 0.0, 0.0]                        \n",
    "#a = np.array([[2., -8, 0, 5], [-9, 9, -7, 6], [-6, 7, 3, 8], [-1, 8, 5, 1]])\n",
    "a = np.array([[3, 1, 0, 0], [2, 3, 1, 0], [1, 2, 3, 1], [0, 1, 2, 3]])\n",
    "b = np.array([4., 5, 4, 4])\n",
    "#b = np.array([-40., -58, -75, -1])\n",
    "x = seidel(a, x, b)\n",
    "print(x)\n",
    "\n",
    "for i in range(0, 25):            \n",
    "    x = seidel(a, x, b)\n",
    "    print(x)  \n",
    "  "
   ]
  },
  {
   "cell_type": "code",
   "execution_count": 30,
   "metadata": {},
   "outputs": [
    {
     "data": {
      "text/plain": [
       "array([[0., 1., 1., 1.],\n",
       "       [3., 3., 3., 3.],\n",
       "       [2., 2., 2., 0.],\n",
       "       [1., 1., 0., 0.]])"
      ]
     },
     "execution_count": 30,
     "metadata": {},
     "output_type": "execute_result"
    }
   ],
   "source": [
    "import scipy.linalg as la\n",
    "\n",
    "a = np.array([[3, 1, 0, 0], \n",
    "              [2, 3, 1, 0], \n",
    "              [1, 2, 3, 1], \n",
    "              [0, 1, 2, 3]])\n",
    "b = np.array([4., 5, 4, 4])\n",
    "\n",
    "u = np.hstack((np.zeros(1), a.diagonal(1)))\n",
    "l1 = np.hstack((a.diagonal(-2), np.zeros(2)))\n",
    "l2 = np.hstack((a.diagonal(-1), np.zeros(1)))\n",
    "d = a.diagonal()\n",
    "ab = np.vstack((u, d, l2, l1))\n",
    "ab"
   ]
  },
  {
   "cell_type": "code",
   "execution_count": 32,
   "metadata": {},
   "outputs": [
    {
     "data": {
      "text/plain": [
       "array([1.00000000e+00, 1.00000000e+00, 9.71445147e-17, 1.00000000e+00])"
      ]
     },
     "execution_count": 32,
     "metadata": {},
     "output_type": "execute_result"
    }
   ],
   "source": [
    "la.solve_banded((2, 1), ab, b)"
   ]
  },
  {
   "cell_type": "code",
   "execution_count": 20,
   "metadata": {},
   "outputs": [
    {
     "name": "stdout",
     "output_type": "stream",
     "text": [
      "Help on function solve_banded in module scipy.linalg.basic:\n",
      "\n",
      "solve_banded(l_and_u, ab, b, overwrite_ab=False, overwrite_b=False, debug=None, check_finite=True)\n",
      "    Solve the equation a x = b for x, assuming a is banded matrix.\n",
      "    \n",
      "    The matrix a is stored in `ab` using the matrix diagonal ordered form::\n",
      "    \n",
      "        ab[u + i - j, j] == a[i,j]\n",
      "    \n",
      "    Example of `ab` (shape of a is (6,6), `u` =1, `l` =2)::\n",
      "    \n",
      "        *    a01  a12  a23  a34  a45\n",
      "        a00  a11  a22  a33  a44  a55\n",
      "        a10  a21  a32  a43  a54   *\n",
      "        a20  a31  a42  a53   *    *\n",
      "    \n",
      "    Parameters\n",
      "    ----------\n",
      "    (l, u) : (integer, integer)\n",
      "        Number of non-zero lower and upper diagonals\n",
      "    ab : (`l` + `u` + 1, M) array_like\n",
      "        Banded matrix\n",
      "    b : (M,) or (M, K) array_like\n",
      "        Right-hand side\n",
      "    overwrite_ab : bool, optional\n",
      "        Discard data in `ab` (may enhance performance)\n",
      "    overwrite_b : bool, optional\n",
      "        Discard data in `b` (may enhance performance)\n",
      "    check_finite : bool, optional\n",
      "        Whether to check that the input matrices contain only finite numbers.\n",
      "        Disabling may give a performance gain, but may result in problems\n",
      "        (crashes, non-termination) if the inputs do contain infinities or NaNs.\n",
      "    \n",
      "    Returns\n",
      "    -------\n",
      "    x : (M,) or (M, K) ndarray\n",
      "        The solution to the system a x = b. Returned shape depends on the\n",
      "        shape of `b`.\n",
      "    \n",
      "    Examples\n",
      "    --------\n",
      "    Solve the banded system a x = b, where::\n",
      "    \n",
      "            [5  2 -1  0  0]       [0]\n",
      "            [1  4  2 -1  0]       [1]\n",
      "        a = [0  1  3  2 -1]   b = [2]\n",
      "            [0  0  1  2  2]       [2]\n",
      "            [0  0  0  1  1]       [3]\n",
      "    \n",
      "    There is one nonzero diagonal below the main diagonal (l = 1), and\n",
      "    two above (u = 2). The diagonal banded form of the matrix is::\n",
      "    \n",
      "             [*  * -1 -1 -1]\n",
      "        ab = [*  2  2  2  2]\n",
      "             [5  4  3  2  1]\n",
      "             [1  1  1  1  *]\n",
      "    \n",
      "    >>> from scipy.linalg import solve_banded\n",
      "    >>> ab = np.array([[0,  0, -1, -1, -1],\n",
      "    ...                [0,  2,  2,  2,  2],\n",
      "    ...                [5,  4,  3,  2,  1],\n",
      "    ...                [1,  1,  1,  1,  0]])\n",
      "    >>> b = np.array([0, 1, 2, 2, 3])\n",
      "    >>> x = solve_banded((1, 2), ab, b)\n",
      "    >>> x\n",
      "    array([-2.37288136,  3.93220339, -4.        ,  4.3559322 , -1.3559322 ])\n",
      "\n"
     ]
    }
   ],
   "source": [
    "help(la.solve_banded)"
   ]
  }
 ],
 "metadata": {
  "kernelspec": {
   "display_name": "Python 3",
   "language": "python",
   "name": "python3"
  },
  "language_info": {
   "codemirror_mode": {
    "name": "ipython",
    "version": 3
   },
   "file_extension": ".py",
   "mimetype": "text/x-python",
   "name": "python",
   "nbconvert_exporter": "python",
   "pygments_lexer": "ipython3",
   "version": "3.6.9"
  }
 },
 "nbformat": 4,
 "nbformat_minor": 4
}
