{
 "cells": [
  {
   "cell_type": "code",
   "execution_count": 2,
   "metadata": {},
   "outputs": [
    {
     "name": "stdout",
     "output_type": "stream",
     "text": [
      "Площадь треугольника равна 12.5\n"
     ]
    }
   ],
   "source": [
    "A=[4,3]\n",
    "B=[0,0]\n",
    "C=[3,-4]\n",
    "import numpy as np\n",
    "# Векторное произведение\n",
    "a = np.array([4,3])\n",
    "b = np.array([3,-4])\n",
    "c = np.cross(a, b)\n",
    "S = np.sqrt(np.dot(c,c))\n",
    "\n",
    "print(\"Площадь треугольника равна\" , S/2)"
   ]
  },
  {
   "cell_type": "code",
   "execution_count": 9,
   "metadata": {},
   "outputs": [
    {
     "data": {
      "text/latex": [
       "$\\displaystyle - 2 x + \\sin{\\left(\\cos{\\left(x \\right)} \\right)}$"
      ],
      "text/plain": [
       "-2*x + sin(cos(x))"
      ]
     },
     "execution_count": 9,
     "metadata": {},
     "output_type": "execute_result"
    }
   ],
   "source": [
    "import math \n",
    "\n",
    "import sympy as sm\n",
    "from sympy import symbols, diff, sin, cos\n",
    "import numpy as np\n",
    "import matplotlib.pyplot as plt\n",
    "\n",
    "#переменная\n",
    "x = symbols('x')\n",
    "#точность вычисления\n",
    "eps = 1.e-12 \n",
    "#уравнение f(x)=0\n",
    "f = sin(cos(x))-2*x\n",
    "f"
   ]
  },
  {
   "cell_type": "code",
   "execution_count": 10,
   "metadata": {},
   "outputs": [
    {
     "name": "stdout",
     "output_type": "stream",
     "text": [
      "0.39831945233667315\n"
     ]
    }
   ],
   "source": [
    "#производная функции f по переменной x\n",
    "df = diff(f,x)\n",
    "#значение производной в точке n\n",
    "df_n = sm.lambdify(x, df, \"numpy\")\n",
    "#значение функции в точке n\n",
    "f_n = sm.lambdify(x, f, \"numpy\")\n",
    "#начальное приближение\n",
    "x_n = 5.\n",
    "\n",
    "for i in range (100000):\n",
    "    x_N = x_n - f_n(x_n) / df_n(x_n) \n",
    "    if abs(x_N-x_n) > eps:\n",
    "        x_n = x_N\n",
    "    else:\n",
    "        break\n",
    "        \n",
    "print(x_N)"
   ]
  },
  {
   "cell_type": "code",
   "execution_count": 12,
   "metadata": {},
   "outputs": [
    {
     "data": {
      "image/png": "[encoded data removed]",
      "text/plain": [
       "<Figure size 432x288 with 1 Axes>"
      ]
     },
     "metadata": {
      "needs_background": "light"
     },
     "output_type": "display_data"
    }
   ],
   "source": [
    "# построим график функции f(x)и её производной:\n",
    "a = 0\n",
    "b = 1\n",
    "xx = np.linspace(a, b, 101)\n",
    "yy = f_n(xx)\n",
    "dyy = df_n(xx)\n",
    "\n",
    "plt.plot(xx, yy, label='$f(x)$')\n",
    "plt.plot(xx, dyy, label=\"$f'(x)$\")\n",
    "plt.xlabel('x')\n",
    "plt.ylabel('y')\n",
    "plt.legend()\n",
    "plt.grid(True)\n",
    "plt.show()"
   ]
  },
  {
   "cell_type": "code",
   "execution_count": null,
   "metadata": {},
   "outputs": [],
   "source": [
    "\n",
    "\n"
   ]
  },
  {
   "cell_type": "code",
   "execution_count": 2,
   "metadata": {},
   "outputs": [],
   "source": [
    "import numpy as np\n",
    "from numpy.linalg import matrix_rank"
   ]
  },
  {
   "cell_type": "code",
   "execution_count": 14,
   "metadata": {},
   "outputs": [],
   "source": [
    "def gauss(A, b):\n",
    "#проверим систему на совместность    \n",
    "    Ab = np.vstack((np.transpose(A),b))\n",
    "    if matrix_rank(A) != matrix_rank(Ab):\n",
    "        print('У данной системы нет решений')\n",
    "        return(-2)\n",
    "    elif matrix_rank(A) < len(b):\n",
    "        print('У данной системы бесконечное число решений')\n",
    "        return(-1)\n",
    "\n",
    "#приведем к типу float\n",
    "    A = A / 1.0\n",
    "    b = b / 1.0\n",
    "    row = len(A)\n",
    "    \n",
    "    \n",
    "    for j in range(0, row):\n",
    "    #преобразуем элементы j-го столбца в единицы\n",
    "    \n",
    "        for i in range(j, row):\n",
    "            if A[i,j] == 0:\n",
    "                continue\n",
    "            b[i] = b[i] / A[i,j]   \n",
    "            A[i, :] = A[i,:] / A[i,j]\n",
    "            \n",
    "        \n",
    "    #получаем нули в остальных строках столбца\n",
    "        for i in range(j + 1, row):\n",
    "            if A[i, j] == 0:\n",
    "                continue\n",
    "            A[i] = A[i] - A[j]\n",
    "            b[i] = b[i] - b[j]\n",
    "        \n",
    "    #обратный ход\n",
    "    print(A)\n",
    "    x = np.zeros(row)\n",
    "    res = 0\n",
    "    \n",
    "    \n",
    "    for j in range(row - 1, -1, -1):\n",
    "        for i in range(row - 1, j, -1):\n",
    "            res += A[j,i] * x[i]\n",
    "            i -= 1\n",
    "        i = row - 1 \n",
    "        x[j] = (b[j] - res) / A[j, j]\n",
    "        res = 0\n",
    "        \n",
    "    return(x)"
   ]
  },
  {
   "cell_type": "code",
   "execution_count": 3,
   "metadata": {},
   "outputs": [],
   "source": [
    "import scipy.linalg as la\n",
    "import numpy as np\n",
    "\n",
    "A=np.array([[3,1,0,0],[2,3,1,0],[1,2,3,1],[0,1,2,3]])\n",
    "b=np.array([4,5,4,4])\n",
    "\n"
   ]
  },
  {
   "cell_type": "code",
   "execution_count": 4,
   "metadata": {},
   "outputs": [
    {
     "name": "stdout",
     "output_type": "stream",
     "text": [
      "Help on function solve_banded in module scipy.linalg.basic:\n",
      "\n",
      "solve_banded(l_and_u, ab, b, overwrite_ab=False, overwrite_b=False, debug=None, check_finite=True)\n",
      "    Solve the equation a x = b for x, assuming a is banded matrix.\n",
      "    \n",
      "    The matrix a is stored in `ab` using the matrix diagonal ordered form::\n",
      "    \n",
      "        ab[u + i - j, j] == a[i,j]\n",
      "    \n",
      "    Example of `ab` (shape of a is (6,6), `u` =1, `l` =2)::\n",
      "    \n",
      "        *    a01  a12  a23  a34  a45\n",
      "        a00  a11  a22  a33  a44  a55\n",
      "        a10  a21  a32  a43  a54   *\n",
      "        a20  a31  a42  a53   *    *\n",
      "    \n",
      "    Parameters\n",
      "    ----------\n",
      "    (l, u) : (integer, integer)\n",
      "        Number of non-zero lower and upper diagonals\n",
      "    ab : (`l` + `u` + 1, M) array_like\n",
      "        Banded matrix\n",
      "    b : (M,) or (M, K) array_like\n",
      "        Right-hand side\n",
      "    overwrite_ab : bool, optional\n",
      "        Discard data in `ab` (may enhance performance)\n",
      "    overwrite_b : bool, optional\n",
      "        Discard data in `b` (may enhance performance)\n",
      "    check_finite : bool, optional\n",
      "        Whether to check that the input matrices contain only finite numbers.\n",
      "        Disabling may give a performance gain, but may result in problems\n",
      "        (crashes, non-termination) if the inputs do contain infinities or NaNs.\n",
      "    \n",
      "    Returns\n",
      "    -------\n",
      "    x : (M,) or (M, K) ndarray\n",
      "        The solution to the system a x = b.  Returned shape depends on the\n",
      "        shape of `b`.\n",
      "\n"
     ]
    }
   ],
   "source": [
    "help(la.solve_banded)"
   ]
  },
  {
   "cell_type": "code",
   "execution_count": 5,
   "metadata": {},
   "outputs": [
    {
     "data": {
      "text/plain": [
       "array([[ 3.,  1.,  0.,  0.],\n",
       "       [ 2.,  3.,  1.,  0.],\n",
       "       [ 1.,  2.,  3.,  1.],\n",
       "       [ 0.,  1.,  2.,  3.]])"
      ]
     },
     "execution_count": 5,
     "metadata": {},
     "output_type": "execute_result"
    }
   ],
   "source": [
    "import scipy.linalg as la\n",
    "import numpy as np\n",
    "\n",
    "A=np.array([[3,1,0,0],[2,3,1,0],[1,2,3,1],[0,1,2,3]],dtype=float)\n",
    "A"
   ]
  },
  {
   "cell_type": "code",
   "execution_count": 6,
   "metadata": {},
   "outputs": [
    {
     "data": {
      "text/plain": [
       "array([ 4.,  5.,  4.,  4.])"
      ]
     },
     "execution_count": 6,
     "metadata": {},
     "output_type": "execute_result"
    }
   ],
   "source": [
    "b=np.array([4,5,4,4],dtype=float)\n",
    "b"
   ]
  },
  {
   "cell_type": "code",
   "execution_count": 7,
   "metadata": {},
   "outputs": [
    {
     "data": {
      "text/plain": [
       "array([[ 0.,  1.,  1.,  1.],\n",
       "       [ 3.,  3.,  3.,  3.],\n",
       "       [ 2.,  2.,  2.,  0.],\n",
       "       [ 1.,  1.,  0.,  0.]])"
      ]
     },
     "execution_count": 7,
     "metadata": {},
     "output_type": "execute_result"
    }
   ],
   "source": [
    "u = np.hstack((np.zeros(1),A.diagonal(1)))\n",
    "v = np.hstack((A.diagonal(-2),np.zeros(2)))\n",
    "#v = np.hstack((np.zeros(2),A.diagonal(-2)))\n",
    "l = np.hstack((A.diagonal(-1), np.zeros(1)))\n",
    "d = A.diagonal()\n",
    "ab = np.vstack((u, d, l, v))\n",
    "ab"
   ]
  },
  {
   "cell_type": "code",
   "execution_count": 8,
   "metadata": {},
   "outputs": [
    {
     "data": {
      "text/plain": [
       "array([  1.00000000e+00,   1.00000000e+00,   9.71445147e-17,\n",
       "         1.00000000e+00])"
      ]
     },
     "execution_count": 8,
     "metadata": {},
     "output_type": "execute_result"
    }
   ],
   "source": [
    "x = la.solve_banded((2,1), ab, b)\n",
    "x"
   ]
  },
  {
   "cell_type": "code",
   "execution_count": 10,
   "metadata": {},
   "outputs": [
    {
     "data": {
      "text/plain": [
       "array([ 1.,  1.,  0.,  0.])"
      ]
     },
     "execution_count": 10,
     "metadata": {},
     "output_type": "execute_result"
    }
   ],
   "source": [
    "v"
   ]
  },
  {
   "cell_type": "code",
   "execution_count": null,
   "metadata": {},
   "outputs": [],
   "source": []
  }
 ],
 "metadata": {
  "kernelspec": {
   "display_name": "Python 3",
   "language": "python",
   "name": "python3"
  },
  "language_info": {
   "codemirror_mode": {
    "name": "ipython",
    "version": 3
   },
   "file_extension": ".py",
   "mimetype": "text/x-python",
   "name": "python",
   "nbconvert_exporter": "python",
   "pygments_lexer": "ipython3",
   "version": "3.6.9"
  }
 },
 "nbformat": 4,
 "nbformat_minor": 5
}
